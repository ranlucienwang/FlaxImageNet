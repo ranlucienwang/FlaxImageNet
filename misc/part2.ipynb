{
  "cells": [
    {
      "cell_type": "markdown",
      "metadata": {
        "id": "fyXVPXrTvCaZ"
      },
      "source": [
        "# Model Training using GPU"
      ]
    },
    {
      "cell_type": "code",
      "execution_count": 1,
      "metadata": {
        "colab": {
          "base_uri": "https://localhost:8080/"
        },
        "id": "1KD5ZDSk5EeK",
        "outputId": "ec0f45be-6089-4a83-c9f5-e27b901da080"
      },
      "outputs": [
        {
          "output_type": "stream",
          "name": "stdout",
          "text": [
            "Looking in indexes: https://pypi.org/simple, https://us-python.pkg.dev/colab-wheels/public/simple/\n",
            "Requirement already satisfied: pip in /usr/local/lib/python3.10/dist-packages (23.1.2)\n"
          ]
        }
      ],
      "source": [
        "!pip install --upgrade pip\n"
      ]
    },
    {
      "cell_type": "code",
      "execution_count": 2,
      "metadata": {
        "colab": {
          "base_uri": "https://localhost:8080/"
        },
        "id": "djmQAT785NKG",
        "outputId": "9a105617-4d01-4592-a466-217f80ea73e1"
      },
      "outputs": [
        {
          "output_type": "stream",
          "name": "stdout",
          "text": [
            "Looking in indexes: https://pypi.org/simple, https://us-python.pkg.dev/colab-wheels/public/simple/\n",
            "Looking in links: https://storage.googleapis.com/jax-releases/jax_cuda_releases.html\n",
            "Requirement already satisfied: jax[cuda11_cudnn86] in /usr/local/lib/python3.10/dist-packages (0.4.8)\n",
            "Requirement already satisfied: ml-dtypes>=0.0.3 in /usr/local/lib/python3.10/dist-packages (from jax[cuda11_cudnn86]) (0.1.0)\n",
            "Requirement already satisfied: numpy>=1.21 in /usr/local/lib/python3.10/dist-packages (from jax[cuda11_cudnn86]) (1.22.4)\n",
            "Requirement already satisfied: opt-einsum in /usr/local/lib/python3.10/dist-packages (from jax[cuda11_cudnn86]) (3.3.0)\n",
            "Requirement already satisfied: scipy>=1.7 in /usr/local/lib/python3.10/dist-packages (from jax[cuda11_cudnn86]) (1.10.1)\n",
            "Requirement already satisfied: jaxlib==0.4.7+cuda11.cudnn86 in /usr/local/lib/python3.10/dist-packages (from jax[cuda11_cudnn86]) (0.4.7+cuda11.cudnn86)\n"
          ]
        }
      ],
      "source": [
        "!pip install \"jax[cuda11_cudnn86]\" -f https://storage.googleapis.com/jax-releases/jax_cuda_releases.html\n",
        "\n"
      ]
    },
    {
      "cell_type": "code",
      "execution_count": 3,
      "metadata": {
        "colab": {
          "base_uri": "https://localhost:8080/"
        },
        "id": "qYyfwdFa7ORj",
        "outputId": "727e5bb3-07a0-438f-d85d-c8a87fbfb583"
      },
      "outputs": [
        {
          "output_type": "stream",
          "name": "stdout",
          "text": [
            "  Installing build dependencies ... \u001b[?25l\u001b[?25hdone\n",
            "  Getting requirements to build wheel ... \u001b[?25l\u001b[?25hdone\n",
            "  Installing backend dependencies ... \u001b[?25l\u001b[?25hdone\n",
            "  Preparing metadata (pyproject.toml) ... \u001b[?25l\u001b[?25hdone\n",
            "\u001b[2K     \u001b[90m━━━━━━━━━━━━━━━━━━━━━━━━━━━━━━━━━━━━━━━━\u001b[0m \u001b[32m77.9/77.9 kB\u001b[0m \u001b[31m9.4 MB/s\u001b[0m eta \u001b[36m0:00:00\u001b[0m\n",
            "\u001b[?25h  Preparing metadata (setup.py) ... \u001b[?25l\u001b[?25hdone\n",
            "  Building wheel for ml-collections (setup.py) ... \u001b[?25l\u001b[?25hdone\n",
            "  Building wheel for flax (pyproject.toml) ... \u001b[?25l\u001b[?25hdone\n"
          ]
        }
      ],
      "source": [
        "!pip install -q ml-collections git+https://github.com/google/flax"
      ]
    },
    {
      "cell_type": "code",
      "execution_count": 4,
      "metadata": {
        "colab": {
          "base_uri": "https://localhost:8080/"
        },
        "id": "T_PBEzGm7gcF",
        "outputId": "d1c4be39-4ee3-4297-9523-4e22de9ce728"
      },
      "outputs": [
        {
          "output_type": "stream",
          "name": "stdout",
          "text": [
            "Looking in indexes: https://pypi.org/simple, https://us-python.pkg.dev/colab-wheels/public/simple/\n",
            "Collecting git+git://github.com/deepmind/optax.git\n",
            "  Cloning git://github.com/deepmind/optax.git to /tmp/pip-req-build-eu0a0pjy\n",
            "  Running command git clone --filter=blob:none --quiet git://github.com/deepmind/optax.git /tmp/pip-req-build-eu0a0pjy\n",
            "  fatal: unable to connect to github.com:\n",
            "  github.com[0: 20.205.243.166]: errno=Connection timed out\n",
            "\n",
            "  \u001b[1;31merror\u001b[0m: \u001b[1msubprocess-exited-with-error\u001b[0m\n",
            "  \n",
            "  \u001b[31m×\u001b[0m \u001b[32mgit clone --\u001b[0m\u001b[32mfilter\u001b[0m\u001b[32m=\u001b[0m\u001b[32mblob\u001b[0m\u001b[32m:none --quiet git:\u001b[0m\u001b[32m/\u001b[0m\u001b[32m/github.com/deepmind/\u001b[0m\u001b[32moptax.git\u001b[0m\u001b[32m \u001b[0m\u001b[32m/tmp/\u001b[0m\u001b[32mpip-req-build-eu0a0pjy\u001b[0m did not run successfully.\n",
            "  \u001b[31m│\u001b[0m exit code: \u001b[1;36m128\u001b[0m\n",
            "  \u001b[31m╰─>\u001b[0m See above for output.\n",
            "  \n",
            "  \u001b[1;35mnote\u001b[0m: This error originates from a subprocess, and is likely not a problem with pip.\n",
            "\u001b[1;31merror\u001b[0m: \u001b[1msubprocess-exited-with-error\u001b[0m\n",
            "\n",
            "\u001b[31m×\u001b[0m \u001b[32mgit clone --\u001b[0m\u001b[32mfilter\u001b[0m\u001b[32m=\u001b[0m\u001b[32mblob\u001b[0m\u001b[32m:none --quiet git:\u001b[0m\u001b[32m/\u001b[0m\u001b[32m/github.com/deepmind/\u001b[0m\u001b[32moptax.git\u001b[0m\u001b[32m \u001b[0m\u001b[32m/tmp/\u001b[0m\u001b[32mpip-req-build-eu0a0pjy\u001b[0m did not run successfully.\n",
            "\u001b[31m│\u001b[0m exit code: \u001b[1;36m128\u001b[0m\n",
            "\u001b[31m╰─>\u001b[0m See above for output.\n",
            "\n",
            "\u001b[1;35mnote\u001b[0m: This error originates from a subprocess, and is likely not a problem with pip.\n"
          ]
        }
      ],
      "source": [
        "!pip install git+git://github.com/deepmind/optax.git\n"
      ]
    },
    {
      "cell_type": "code",
      "execution_count": 5,
      "metadata": {
        "id": "uFcPHMQ14JoO",
        "colab": {
          "base_uri": "https://localhost:8080/"
        },
        "outputId": "4eb4e639-4a94-4147-a996-af3017edc73b"
      },
      "outputs": [
        {
          "output_type": "stream",
          "name": "stdout",
          "text": [
            "Looking in indexes: https://pypi.org/simple, https://us-python.pkg.dev/colab-wheels/public/simple/\n",
            "Collecting git+https://github.com/deepmind/dm-haiku\n",
            "  Cloning https://github.com/deepmind/dm-haiku to /tmp/pip-req-build-zw98k7vy\n",
            "  Running command git clone --filter=blob:none --quiet https://github.com/deepmind/dm-haiku /tmp/pip-req-build-zw98k7vy\n",
            "  Resolved https://github.com/deepmind/dm-haiku to commit 65530bdf3c6f481f0e7803fe7b6da5e6def6cae8\n",
            "  Preparing metadata (setup.py) ... \u001b[?25l\u001b[?25hdone\n",
            "Requirement already satisfied: absl-py>=0.7.1 in /usr/local/lib/python3.10/dist-packages (from dm-haiku==0.0.10.dev0) (1.4.0)\n",
            "Collecting jmp>=0.0.2 (from dm-haiku==0.0.10.dev0)\n",
            "  Downloading jmp-0.0.4-py3-none-any.whl (18 kB)\n",
            "Requirement already satisfied: numpy>=1.18.0 in /usr/local/lib/python3.10/dist-packages (from dm-haiku==0.0.10.dev0) (1.22.4)\n",
            "Requirement already satisfied: tabulate>=0.8.9 in /usr/local/lib/python3.10/dist-packages (from dm-haiku==0.0.10.dev0) (0.8.10)\n",
            "Building wheels for collected packages: dm-haiku\n",
            "  Building wheel for dm-haiku (setup.py) ... \u001b[?25l\u001b[?25hdone\n",
            "  Created wheel for dm-haiku: filename=dm_haiku-0.0.10.dev0-py3-none-any.whl size=357596 sha256=030c1827dfc7ca258dc98e30921a2cfc8b7af9cd803753912b9e3da01d8a3a7f\n",
            "  Stored in directory: /tmp/pip-ephem-wheel-cache-xoebp17p/wheels/b1/df/f1/a357fa8f00c36052bdae1e1fd363650c0bd1e8c3959487b6fb\n",
            "Successfully built dm-haiku\n",
            "Installing collected packages: jmp, dm-haiku\n",
            "Successfully installed dm-haiku-0.0.10.dev0 jmp-0.0.4\n"
          ]
        }
      ],
      "source": [
        "!pip install git+https://github.com/deepmind/dm-haiku"
      ]
    },
    {
      "cell_type": "code",
      "source": [
        "!pip install more_itertools"
      ],
      "metadata": {
        "colab": {
          "base_uri": "https://localhost:8080/"
        },
        "id": "w6x7YsA9B62C",
        "outputId": "4748ec84-ecde-4d3b-bbe6-33ace022c3be"
      },
      "execution_count": 6,
      "outputs": [
        {
          "output_type": "stream",
          "name": "stdout",
          "text": [
            "Looking in indexes: https://pypi.org/simple, https://us-python.pkg.dev/colab-wheels/public/simple/\n",
            "Requirement already satisfied: more_itertools in /usr/local/lib/python3.10/dist-packages (9.1.0)\n"
          ]
        }
      ]
    },
    {
      "cell_type": "markdown",
      "metadata": {
        "id": "ILeIEi2NwTzn"
      },
      "source": [
        "## Optional: Connect to Google Cloud so that you can use Google Bucket"
      ]
    },
    {
      "cell_type": "code",
      "execution_count": 7,
      "metadata": {
        "id": "7A9-3feYwSjt"
      },
      "outputs": [],
      "source": [
        "# from google.colab import auth\n",
        "# auth.authenticate_user()"
      ]
    },
    {
      "cell_type": "code",
      "execution_count": 8,
      "metadata": {
        "id": "QgBQgwjlvfyn"
      },
      "outputs": [],
      "source": [
        "# !echo \"deb http://packages.cloud.google.com/apt gcsfuse-bionic main\" > /etc/apt/sources.list.d/gcsfuse.list\n",
        "# !curl https://packages.cloud.google.com/apt/doc/apt-key.gpg | apt-key add -\n",
        "# !apt -qq update\n",
        "# !apt -qq install gcsfuse"
      ]
    },
    {
      "cell_type": "markdown",
      "metadata": {
        "id": "fNyWu-tozoty"
      },
      "source": [
        "After this you can mount Google Cloud Bucket. However, it is usually required to to convert everything to tf.record so that TPU can be fully utilized. We will not discuss this here. "
      ]
    },
    {
      "cell_type": "markdown",
      "metadata": {
        "id": "UVaGHxWH0PMo"
      },
      "source": [
        "## Use GPU to train a custom neural network\n",
        "--------------------------------------------\n",
        "Here we will use a GPU to train a custom neural network. This is majorly to simplify things. Typically, it is strongly recommend to ``copy'' source codes, typically written in PyTorch, so that no mistakes are made. "
      ]
    },
    {
      "cell_type": "code",
      "execution_count": 9,
      "metadata": {
        "id": "4M-EpPXR4dfI"
      },
      "outputs": [],
      "source": [
        "import tensorflow_datasets as tfds  # TFDS for MNIST\n",
        "import tensorflow as tf             # TensorFlow operations\n",
        "\n",
        "def get_datasets(num_epochs, batch_size):\n",
        "  \"\"\"Load MNIST train and test datasets into memory.\"\"\"\n",
        "  train_ds = tfds.load('mnist', split='train')\n",
        "  test_ds = tfds.load('mnist', split='test')\n",
        "\n",
        "  train_ds = train_ds.map(lambda sample: {'image': tf.cast(sample['image'],\n",
        "                                                           tf.float32) / 255.,\n",
        "                                          'label': sample['label']}) # normalize train set\n",
        "  test_ds = test_ds.map(lambda sample: {'image': tf.cast(sample['image'],\n",
        "                                                         tf.float32) / 255.,\n",
        "                                        'label': sample['label']}) # normalize test set\n",
        "\n",
        "  train_ds = train_ds.repeat(num_epochs).shuffle(1024) # create shuffled dataset by allocating a buffer size of 1024 to randomly draw elements from\n",
        "  train_ds = train_ds.batch(batch_size, drop_remainder=True).prefetch(1) # group into batches of batch_size and skip incomplete batch, prefetch the next sample to improve latency\n",
        "  test_ds = test_ds.shuffle(1024) # create shuffled dataset by allocating a buffer size of 1024 to randomly draw elements from\n",
        "  test_ds = test_ds.batch(batch_size, drop_remainder=True).prefetch(1) # group into batches of batch_size and skip incomplete batch, prefetch the next sample to improve latency\n",
        "\n",
        "  return train_ds, test_ds"
      ]
    },
    {
      "cell_type": "code",
      "source": [
        "from flax import linen as nn  # Linen API\n",
        "\n",
        "class CNN(nn.Module):\n",
        "  \"\"\"A simple CNN model.\"\"\"\n",
        "\n",
        "  @nn.compact\n",
        "  def __call__(self, x):\n",
        "    x = nn.Conv(features=32, kernel_size=(3, 3))(x)\n",
        "    x = nn.relu(x)\n",
        "    x = nn.avg_pool(x, window_shape=(2, 2), strides=(2, 2))\n",
        "    x = nn.Conv(features=64, kernel_size=(3, 3))(x)\n",
        "    x = nn.relu(x)\n",
        "    x = nn.avg_pool(x, window_shape=(2, 2), strides=(2, 2))\n",
        "    x = x.reshape((x.shape[0], -1))  # flatten\n",
        "    x = nn.Dense(features=256)(x)\n",
        "    x = nn.relu(x)\n",
        "    x = nn.Dense(features=10)(x)\n",
        "    return x"
      ],
      "metadata": {
        "id": "sOzCfXVBDtPI"
      },
      "execution_count": 10,
      "outputs": []
    },
    {
      "cell_type": "code",
      "source": [
        "import jax\n",
        "import jax.numpy as jnp  # JAX NumPy\n",
        "\n",
        "cnn = CNN()\n",
        "print(cnn.tabulate(jax.random.PRNGKey(0), jnp.ones((1, 28, 28, 1))))"
      ],
      "metadata": {
        "colab": {
          "base_uri": "https://localhost:8080/"
        },
        "id": "yMlb7lP2D08Y",
        "outputId": "c7473028-9003-4002-edd8-df06715199ee"
      },
      "execution_count": 11,
      "outputs": [
        {
          "output_type": "stream",
          "name": "stdout",
          "text": [
            "\n",
            "\u001b[3m                                  CNN Summary                                   \u001b[0m\n",
            "┏━━━━━━━━━┳━━━━━━━━┳━━━━━━━━━━━━━━━━━━━┳━━━━━━━━━━━━━━━━━━━┳━━━━━━━━━━━━━━━━━━━┓\n",
            "┃\u001b[1m \u001b[0m\u001b[1mpath   \u001b[0m\u001b[1m \u001b[0m┃\u001b[1m \u001b[0m\u001b[1mmodule\u001b[0m\u001b[1m \u001b[0m┃\u001b[1m \u001b[0m\u001b[1minputs           \u001b[0m\u001b[1m \u001b[0m┃\u001b[1m \u001b[0m\u001b[1moutputs          \u001b[0m\u001b[1m \u001b[0m┃\u001b[1m \u001b[0m\u001b[1mparams           \u001b[0m\u001b[1m \u001b[0m┃\n",
            "┡━━━━━━━━━╇━━━━━━━━╇━━━━━━━━━━━━━━━━━━━╇━━━━━━━━━━━━━━━━━━━╇━━━━━━━━━━━━━━━━━━━┩\n",
            "│         │ CNN    │ \u001b[2mfloat32\u001b[0m[1,28,28,… │ \u001b[2mfloat32\u001b[0m[1,10]     │                   │\n",
            "├─────────┼────────┼───────────────────┼───────────────────┼───────────────────┤\n",
            "│ Conv_0  │ Conv   │ \u001b[2mfloat32\u001b[0m[1,28,28,… │ \u001b[2mfloat32\u001b[0m[1,28,28,… │ bias: \u001b[2mfloat32\u001b[0m[32] │\n",
            "│         │        │                   │                   │ kernel:           │\n",
            "│         │        │                   │                   │ \u001b[2mfloat32\u001b[0m[3,3,1,32] │\n",
            "│         │        │                   │                   │                   │\n",
            "│         │        │                   │                   │ \u001b[1m320 \u001b[0m\u001b[1;2m(1.3 KB)\u001b[0m      │\n",
            "├─────────┼────────┼───────────────────┼───────────────────┼───────────────────┤\n",
            "│ Conv_1  │ Conv   │ \u001b[2mfloat32\u001b[0m[1,14,14,… │ \u001b[2mfloat32\u001b[0m[1,14,14,… │ bias: \u001b[2mfloat32\u001b[0m[64] │\n",
            "│         │        │                   │                   │ kernel:           │\n",
            "│         │        │                   │                   │ \u001b[2mfloat32\u001b[0m[3,3,32,6… │\n",
            "│         │        │                   │                   │                   │\n",
            "│         │        │                   │                   │ \u001b[1m18,496 \u001b[0m\u001b[1;2m(74.0 KB)\u001b[0m  │\n",
            "├─────────┼────────┼───────────────────┼───────────────────┼───────────────────┤\n",
            "│ Dense_0 │ Dense  │ \u001b[2mfloat32\u001b[0m[1,3136]   │ \u001b[2mfloat32\u001b[0m[1,256]    │ bias:             │\n",
            "│         │        │                   │                   │ \u001b[2mfloat32\u001b[0m[256]      │\n",
            "│         │        │                   │                   │ kernel:           │\n",
            "│         │        │                   │                   │ \u001b[2mfloat32\u001b[0m[3136,256] │\n",
            "│         │        │                   │                   │                   │\n",
            "│         │        │                   │                   │ \u001b[1m803,072 \u001b[0m\u001b[1;2m(3.2 MB)\u001b[0m  │\n",
            "├─────────┼────────┼───────────────────┼───────────────────┼───────────────────┤\n",
            "│ Dense_1 │ Dense  │ \u001b[2mfloat32\u001b[0m[1,256]    │ \u001b[2mfloat32\u001b[0m[1,10]     │ bias: \u001b[2mfloat32\u001b[0m[10] │\n",
            "│         │        │                   │                   │ kernel:           │\n",
            "│         │        │                   │                   │ \u001b[2mfloat32\u001b[0m[256,10]   │\n",
            "│         │        │                   │                   │                   │\n",
            "│         │        │                   │                   │ \u001b[1m2,570 \u001b[0m\u001b[1;2m(10.3 KB)\u001b[0m   │\n",
            "├─────────┼────────┼───────────────────┼───────────────────┼───────────────────┤\n",
            "│\u001b[1m \u001b[0m\u001b[1m       \u001b[0m\u001b[1m \u001b[0m│\u001b[1m \u001b[0m\u001b[1m      \u001b[0m\u001b[1m \u001b[0m│\u001b[1m \u001b[0m\u001b[1m                 \u001b[0m\u001b[1m \u001b[0m│\u001b[1m \u001b[0m\u001b[1m            Total\u001b[0m\u001b[1m \u001b[0m│\u001b[1m \u001b[0m\u001b[1m824,458 \u001b[0m\u001b[1;2m(3.3 MB)\u001b[0m\u001b[1m \u001b[0m\u001b[1m \u001b[0m│\n",
            "└─────────┴────────┴───────────────────┴───────────────────┴───────────────────┘\n",
            "\u001b[1m                                                                                \u001b[0m\n",
            "\u001b[1m                       Total Parameters: 824,458 \u001b[0m\u001b[1;2m(3.3 MB)\u001b[0m\u001b[1m                       \u001b[0m\n",
            "\n",
            "\n"
          ]
        }
      ]
    },
    {
      "cell_type": "code",
      "source": [
        "!pip install -q clu"
      ],
      "metadata": {
        "colab": {
          "base_uri": "https://localhost:8080/"
        },
        "id": "UfCLR5AiD3IN",
        "outputId": "d3f7e757-b39b-463e-cc12-cace5afe9c22"
      },
      "execution_count": 12,
      "outputs": [
        {
          "output_type": "stream",
          "name": "stdout",
          "text": [
            "\u001b[?25l     \u001b[90m━━━━━━━━━━━━━━━━━━━━━━━━━━━━━━━━━━━━━━━━\u001b[0m \u001b[32m0.0/98.2 kB\u001b[0m \u001b[31m?\u001b[0m eta \u001b[36m-:--:--\u001b[0m\r\u001b[2K     \u001b[90m━━━━━━━━━━━━━━━━━━━━━━━━━━━━━━━━━━━━━━━━\u001b[0m \u001b[32m98.2/98.2 kB\u001b[0m \u001b[31m8.8 MB/s\u001b[0m eta \u001b[36m0:00:00\u001b[0m\n",
            "\u001b[?25h"
          ]
        }
      ]
    },
    {
      "cell_type": "code",
      "source": [
        "from clu import metrics\n",
        "from flax.training import train_state  # Useful dataclass to keep train state\n",
        "from flax import struct                # Flax dataclasses\n",
        "import optax    "
      ],
      "metadata": {
        "id": "jOm0_2NCD8Ce"
      },
      "execution_count": 13,
      "outputs": []
    },
    {
      "cell_type": "code",
      "source": [
        "@struct.dataclass\n",
        "class Metrics(metrics.Collection):\n",
        "  accuracy: metrics.Accuracy\n",
        "  loss: metrics.Average.from_output('loss')"
      ],
      "metadata": {
        "id": "ziwQQIihEPYO"
      },
      "execution_count": 14,
      "outputs": []
    },
    {
      "cell_type": "code",
      "source": [
        "class TrainState(train_state.TrainState):\n",
        "  metrics: Metrics\n",
        "\n",
        "def create_train_state(module, rng, learning_rate, momentum):\n",
        "  \"\"\"Creates an initial `TrainState`.\"\"\"\n",
        "  params = module.init(rng, jnp.ones([1, 28, 28, 1]))['params'] # initialize parameters by passing a template image\n",
        "  tx = optax.sgd(learning_rate, momentum)\n",
        "  return TrainState.create(\n",
        "      apply_fn=module.apply, params=params, tx=tx,\n",
        "      metrics=Metrics.empty())"
      ],
      "metadata": {
        "id": "2P0vwdJmEXF5"
      },
      "execution_count": 15,
      "outputs": []
    },
    {
      "cell_type": "code",
      "source": [
        "@jax.jit\n",
        "def train_step(state, batch):\n",
        "  \"\"\"Train for a single step.\"\"\"\n",
        "  def loss_fn(params):\n",
        "    logits = state.apply_fn({'params': params}, batch['image'])\n",
        "    loss = optax.softmax_cross_entropy_with_integer_labels(\n",
        "        logits=logits, labels=batch['label']).mean()\n",
        "    return loss\n",
        "  grad_fn = jax.grad(loss_fn)\n",
        "  grads = grad_fn(state.params)\n",
        "  state = state.apply_gradients(grads=grads)\n",
        "  return state"
      ],
      "metadata": {
        "id": "FgYDhC0gEZ0_"
      },
      "execution_count": 16,
      "outputs": []
    },
    {
      "cell_type": "code",
      "source": [
        "@jax.jit\n",
        "def train_for_n_steps(state, batches):\n",
        "  for batch in batches:\n",
        "    state = train_step(state, batch)\n",
        "  return state"
      ],
      "metadata": {
        "id": "jBrJ1gu5-rWc"
      },
      "execution_count": 17,
      "outputs": []
    },
    {
      "cell_type": "code",
      "source": [
        "@jax.jit\n",
        "def compute_metrics(*, state, batch):\n",
        "  logits = state.apply_fn({'params': state.params}, batch['image'])\n",
        "  loss = optax.softmax_cross_entropy_with_integer_labels(\n",
        "        logits=logits, labels=batch['label']).mean()\n",
        "  metric_updates = state.metrics.single_from_model_output(\n",
        "    logits=logits, labels=batch['label'], loss=loss)\n",
        "  metrics = state.metrics.merge(metric_updates)\n",
        "  state = state.replace(metrics=metrics)\n",
        "  return state"
      ],
      "metadata": {
        "id": "t_-ICIcOEhvi"
      },
      "execution_count": 18,
      "outputs": []
    },
    {
      "cell_type": "code",
      "source": [
        "num_epochs = 10\n",
        "batch_size = 32\n",
        "\n",
        "train_ds, test_ds = get_datasets(num_epochs, batch_size)"
      ],
      "metadata": {
        "colab": {
          "base_uri": "https://localhost:8080/",
          "height": 85,
          "referenced_widgets": [
            "3adfb7943b2a4a76916a6490d2b3e857",
            "28611da02ada4ffcbae74f43b94a79aa",
            "6ec2860b396041498b15db09cd7804e9",
            "5958a6b41f0e4ab3b31e2b93bcc4adaf",
            "8785e273a8134b4dab7bc33940b6fd91",
            "4d70cc43b8ef4d2e94173004282638d6",
            "9ac023b1bb47461fa1cae1b203c00693",
            "942e95158a264a08b24094f3983ec625",
            "a6163aee389a450c96acb79a9afdaf81",
            "a608715adbc941beb6448ff92c4007f3",
            "17c66fdad5be4ff299ebb701343e7a54"
          ]
        },
        "id": "YWMUu96pEy1S",
        "outputId": "d1892ea4-d3de-4f82-f1b4-b2e5c129278d"
      },
      "execution_count": 19,
      "outputs": [
        {
          "output_type": "stream",
          "name": "stdout",
          "text": [
            "Downloading and preparing dataset 11.06 MiB (download: 11.06 MiB, generated: 21.00 MiB, total: 32.06 MiB) to /root/tensorflow_datasets/mnist/3.0.1...\n"
          ]
        },
        {
          "output_type": "display_data",
          "data": {
            "text/plain": [
              "Dl Completed...:   0%|          | 0/5 [00:00<?, ? file/s]"
            ],
            "application/vnd.jupyter.widget-view+json": {
              "version_major": 2,
              "version_minor": 0,
              "model_id": "3adfb7943b2a4a76916a6490d2b3e857"
            }
          },
          "metadata": {}
        },
        {
          "output_type": "stream",
          "name": "stdout",
          "text": [
            "Dataset mnist downloaded and prepared to /root/tensorflow_datasets/mnist/3.0.1. Subsequent calls will reuse this data.\n"
          ]
        }
      ]
    },
    {
      "cell_type": "code",
      "source": [
        "tf.random.set_seed(0)\n",
        "init_rng = jax.random.PRNGKey(0)"
      ],
      "metadata": {
        "id": "O06OayNcEzOW"
      },
      "execution_count": 20,
      "outputs": []
    },
    {
      "cell_type": "code",
      "source": [
        "learning_rate = 0.01\n",
        "momentum = 0.9"
      ],
      "metadata": {
        "id": "_r6_X-oSE4sv"
      },
      "execution_count": 21,
      "outputs": []
    },
    {
      "cell_type": "code",
      "source": [
        "state = create_train_state(cnn, init_rng, learning_rate, momentum)\n",
        "del init_rng  # Must not be used anymore."
      ],
      "metadata": {
        "id": "wr-MGDotE7Nr"
      },
      "execution_count": 22,
      "outputs": []
    },
    {
      "cell_type": "code",
      "source": [
        "num_steps_per_epoch = train_ds.cardinality().numpy() // num_epochs"
      ],
      "metadata": {
        "id": "0_gQcerKE-RM"
      },
      "execution_count": 23,
      "outputs": []
    },
    {
      "cell_type": "code",
      "source": [
        "metrics_history = {'train_loss': [],\n",
        "                   'train_accuracy': [],\n",
        "                   'test_loss': [],\n",
        "                   'test_accuracy': []}"
      ],
      "metadata": {
        "id": "S1rCXSWfFBSy"
      },
      "execution_count": 24,
      "outputs": []
    },
    {
      "cell_type": "code",
      "source": [
        "import more_itertools"
      ],
      "metadata": {
        "id": "gYtwKU5m7KnC"
      },
      "execution_count": 25,
      "outputs": []
    },
    {
      "cell_type": "code",
      "source": [
        "step = 0\n",
        "\n",
        "for batch in list(more_itertools.chunked(train_ds.as_numpy_iterator(), 5)):\n",
        "  # Run optimization steps over training batches and compute batch metrics\n",
        "  state = train_for_n_steps(state, batch) # get updated train state (which contains the updated parameters)\n",
        "  state = compute_metrics(state=state, batch=batch[-1]) # aggregate batch metrics\n",
        "  step += 5\n",
        "  if (step+5) % num_steps_per_epoch == 0: # one training epoch has passed\n",
        "    for metric,value in state.metrics.compute().items(): # compute metrics\n",
        "      metrics_history[f'train_{metric}'].append(value) # record metrics\n",
        "    state = state.replace(metrics=state.metrics.empty()) # reset train_metrics for next training epoch\n",
        "\n",
        "    # Compute metrics on the test set after each training epoch\n",
        "    test_state = state\n",
        "    for test_batch in test_ds.as_numpy_iterator():\n",
        "      test_state = compute_metrics(state=test_state, batch=test_batch)\n",
        "\n",
        "    for metric,value in test_state.metrics.compute().items():\n",
        "      metrics_history[f'test_{metric}'].append(value)\n",
        "\n",
        "    print(f\"train epoch: {(step) // num_steps_per_epoch}, \"\n",
        "          f\"loss: {metrics_history['train_loss'][-1]}, \"\n",
        "          f\"accuracy: {metrics_history['train_accuracy'][-1] * 100}\")\n",
        "    print(f\"test epoch: {(step) // num_steps_per_epoch}, \"\n",
        "          f\"loss: {metrics_history['test_loss'][-1]}, \"\n",
        "          f\"accuracy: {metrics_history['test_accuracy'][-1] * 100}\")\n",
        "    \n",
        "    "
      ],
      "metadata": {
        "id": "XlmvTDfxFDqL",
        "colab": {
          "base_uri": "https://localhost:8080/"
        },
        "outputId": "20fdcbac-aa9b-4374-974d-02c55f1a2e13"
      },
      "execution_count": 38,
      "outputs": [
        {
          "output_type": "stream",
          "name": "stdout",
          "text": [
            "1875\n",
            "train epoch: 0, loss: 3.403730079298839e-05, accuracy: 100.0\n",
            "test epoch: 0, loss: 0.04590881988406181, accuracy: 99.12860870361328\n",
            "train epoch: 1, loss: 2.4146080249920487e-05, accuracy: 100.0\n",
            "test epoch: 1, loss: 0.04603571072220802, accuracy: 99.13862609863281\n",
            "train epoch: 2, loss: 2.4504495740984567e-05, accuracy: 100.0\n",
            "test epoch: 2, loss: 0.04608907550573349, accuracy: 99.13862609863281\n",
            "train epoch: 3, loss: 2.703744212340098e-05, accuracy: 100.0\n",
            "test epoch: 3, loss: 0.04585125669836998, accuracy: 99.14863586425781\n",
            "train epoch: 4, loss: 2.7178943128092214e-05, accuracy: 100.0\n",
            "test epoch: 4, loss: 0.046379104256629944, accuracy: 99.13862609863281\n",
            "train epoch: 5, loss: 2.5676101358840242e-05, accuracy: 100.0\n",
            "test epoch: 5, loss: 0.04646486043930054, accuracy: 99.11859130859375\n",
            "train epoch: 6, loss: 2.3920987587189302e-05, accuracy: 100.0\n",
            "test epoch: 6, loss: 0.04654723033308983, accuracy: 99.11859130859375\n",
            "train epoch: 7, loss: 2.5559264031471685e-05, accuracy: 100.0\n",
            "test epoch: 7, loss: 0.04667998105287552, accuracy: 99.11859130859375\n",
            "train epoch: 8, loss: 2.6051920940517448e-05, accuracy: 100.0\n",
            "test epoch: 8, loss: 0.04688284546136856, accuracy: 99.11859130859375\n",
            "train epoch: 9, loss: 2.4166722141671926e-05, accuracy: 100.0\n",
            "test epoch: 9, loss: 0.04690954461693764, accuracy: 99.12860870361328\n"
          ]
        }
      ]
    },
    {
      "cell_type": "code",
      "source": [
        "import matplotlib.pyplot as plt  # Visualization\n",
        "\n",
        "# Plot loss and accuracy in subplots\n",
        "fig, (ax1, ax2) = plt.subplots(1, 2, figsize=(15, 5))\n",
        "ax1.set_title('Loss')\n",
        "ax2.set_title('Accuracy')\n",
        "for dataset in ('train','test'):\n",
        "  ax1.plot(metrics_history[f'{dataset}_loss'], label=f'{dataset}_loss')\n",
        "  ax2.plot(metrics_history[f'{dataset}_accuracy'], label=f'{dataset}_accuracy')\n",
        "ax1.legend()\n",
        "ax2.legend()\n",
        "plt.show()\n",
        "plt.clf()"
      ],
      "metadata": {
        "id": "rjCTNeinFGEF"
      },
      "execution_count": null,
      "outputs": []
    },
    {
      "cell_type": "code",
      "source": [
        "@jax.jit\n",
        "def pred_step(state, batch):\n",
        "  logits = state.apply_fn({'params': state.params}, test_batch['image'])\n",
        "  return logits.argmax(axis=1)\n",
        "\n",
        "test_batch = test_ds.as_numpy_iterator().next()\n",
        "pred = pred_step(state, test_batch)"
      ],
      "metadata": {
        "id": "-2Vxjhg0FRHP"
      },
      "execution_count": 28,
      "outputs": []
    },
    {
      "cell_type": "code",
      "source": [
        "fig, axs = plt.subplots(5, 5, figsize=(12, 12))\n",
        "for i, ax in enumerate(axs.flatten()):\n",
        "    ax.imshow(test_batch['image'][i, ..., 0], cmap='gray')\n",
        "    ax.set_title(f\"label={pred[i]}\")\n",
        "    ax.axis('off')"
      ],
      "metadata": {
        "colab": {
          "base_uri": "https://localhost:8080/",
          "height": 983
        },
        "id": "R6FmzrTBFUNR",
        "outputId": "486288fe-9d71-49a2-ace3-9ed6f28b3760"
      },
      "execution_count": 29,
      "outputs": [
        {
          "output_type": "display_data",
          "data": {
            "text/plain": [
              "<Figure size 1200x1200 with 25 Axes>"
            ],
            "image/png": "[encoded data removed]"
          },
          "metadata": {}
        }
      ]
    },
    {
      "cell_type": "code",
      "source": [],
      "metadata": {
        "id": "IRTPDxZ3FXLy"
      },
      "execution_count": 29,
      "outputs": []
    }
  ],
  "metadata": {
    "accelerator": "GPU",
    "colab": {
      "machine_shape": "hm",
      "provenance": [],
      "gpuType": "A100"
    },
    "gpuClass": "premium",
    "kernelspec": {
      "display_name": "Python 3",
      "name": "python3"
    },
    "language_info": {
      "name": "python"
    },
    "widgets": {
      "application/vnd.jupyter.widget-state+json": {
        "3adfb7943b2a4a76916a6490d2b3e857": {
          "model_module": "@jupyter-widgets/controls",
          "model_name": "HBoxModel",
          "model_module_version": "1.5.0",
          "state": {
            "_dom_classes": [],
            "_model_module": "@jupyter-widgets/controls",
            "_model_module_version": "1.5.0",
            "_model_name": "HBoxModel",
            "_view_count": null,
            "_view_module": "@jupyter-widgets/controls",
            "_view_module_version": "1.5.0",
            "_view_name": "HBoxView",
            "box_style": "",
            "children": [
              "IPY_MODEL_28611da02ada4ffcbae74f43b94a79aa",
              "IPY_MODEL_6ec2860b396041498b15db09cd7804e9",
              "IPY_MODEL_5958a6b41f0e4ab3b31e2b93bcc4adaf"
            ],
            "layout": "IPY_MODEL_8785e273a8134b4dab7bc33940b6fd91"
          }
        },
        "28611da02ada4ffcbae74f43b94a79aa": {
          "model_module": "@jupyter-widgets/controls",
          "model_name": "HTMLModel",
          "model_module_version": "1.5.0",
          "state": {
            "_dom_classes": [],
            "_model_module": "@jupyter-widgets/controls",
            "_model_module_version": "1.5.0",
            "_model_name": "HTMLModel",
            "_view_count": null,
            "_view_module": "@jupyter-widgets/controls",
            "_view_module_version": "1.5.0",
            "_view_name": "HTMLView",
            "description": "",
            "description_tooltip": null,
            "layout": "IPY_MODEL_4d70cc43b8ef4d2e94173004282638d6",
            "placeholder": "​",
            "style": "IPY_MODEL_9ac023b1bb47461fa1cae1b203c00693",
            "value": "Dl Completed...: 100%"
          }
        },
        "6ec2860b396041498b15db09cd7804e9": {
          "model_module": "@jupyter-widgets/controls",
          "model_name": "FloatProgressModel",
          "model_module_version": "1.5.0",
          "state": {
            "_dom_classes": [],
            "_model_module": "@jupyter-widgets/controls",
            "_model_module_version": "1.5.0",
            "_model_name": "FloatProgressModel",
            "_view_count": null,
            "_view_module": "@jupyter-widgets/controls",
            "_view_module_version": "1.5.0",
            "_view_name": "ProgressView",
            "bar_style": "success",
            "description": "",
            "description_tooltip": null,
            "layout": "IPY_MODEL_942e95158a264a08b24094f3983ec625",
            "max": 5,
            "min": 0,
            "orientation": "horizontal",
            "style": "IPY_MODEL_a6163aee389a450c96acb79a9afdaf81",
            "value": 5
          }
        },
        "5958a6b41f0e4ab3b31e2b93bcc4adaf": {
          "model_module": "@jupyter-widgets/controls",
          "model_name": "HTMLModel",
          "model_module_version": "1.5.0",
          "state": {
            "_dom_classes": [],
            "_model_module": "@jupyter-widgets/controls",
            "_model_module_version": "1.5.0",
            "_model_name": "HTMLModel",
            "_view_count": null,
            "_view_module": "@jupyter-widgets/controls",
            "_view_module_version": "1.5.0",
            "_view_name": "HTMLView",
            "description": "",
            "description_tooltip": null,
            "layout": "IPY_MODEL_a608715adbc941beb6448ff92c4007f3",
            "placeholder": "​",
            "style": "IPY_MODEL_17c66fdad5be4ff299ebb701343e7a54",
            "value": " 5/5 [00:03&lt;00:00,  1.20 file/s]"
          }
        },
        "8785e273a8134b4dab7bc33940b6fd91": {
          "model_module": "@jupyter-widgets/base",
          "model_name": "LayoutModel",
          "model_module_version": "1.2.0",
          "state": {
            "_model_module": "@jupyter-widgets/base",
            "_model_module_version": "1.2.0",
            "_model_name": "LayoutModel",
            "_view_count": null,
            "_view_module": "@jupyter-widgets/base",
            "_view_module_version": "1.2.0",
            "_view_name": "LayoutView",
            "align_content": null,
            "align_items": null,
            "align_self": null,
            "border": null,
            "bottom": null,
            "display": null,
            "flex": null,
            "flex_flow": null,
            "grid_area": null,
            "grid_auto_columns": null,
            "grid_auto_flow": null,
            "grid_auto_rows": null,
            "grid_column": null,
            "grid_gap": null,
            "grid_row": null,
            "grid_template_areas": null,
            "grid_template_columns": null,
            "grid_template_rows": null,
            "height": null,
            "justify_content": null,
            "justify_items": null,
            "left": null,
            "margin": null,
            "max_height": null,
            "max_width": null,
            "min_height": null,
            "min_width": null,
            "object_fit": null,
            "object_position": null,
            "order": null,
            "overflow": null,
            "overflow_x": null,
            "overflow_y": null,
            "padding": null,
            "right": null,
            "top": null,
            "visibility": null,
            "width": null
          }
        },
        "4d70cc43b8ef4d2e94173004282638d6": {
          "model_module": "@jupyter-widgets/base",
          "model_name": "LayoutModel",
          "model_module_version": "1.2.0",
          "state": {
            "_model_module": "@jupyter-widgets/base",
            "_model_module_version": "1.2.0",
            "_model_name": "LayoutModel",
            "_view_count": null,
            "_view_module": "@jupyter-widgets/base",
            "_view_module_version": "1.2.0",
            "_view_name": "LayoutView",
            "align_content": null,
            "align_items": null,
            "align_self": null,
            "border": null,
            "bottom": null,
            "display": null,
            "flex": null,
            "flex_flow": null,
            "grid_area": null,
            "grid_auto_columns": null,
            "grid_auto_flow": null,
            "grid_auto_rows": null,
            "grid_column": null,
            "grid_gap": null,
            "grid_row": null,
            "grid_template_areas": null,
            "grid_template_columns": null,
            "grid_template_rows": null,
            "height": null,
            "justify_content": null,
            "justify_items": null,
            "left": null,
            "margin": null,
            "max_height": null,
            "max_width": null,
            "min_height": null,
            "min_width": null,
            "object_fit": null,
            "object_position": null,
            "order": null,
            "overflow": null,
            "overflow_x": null,
            "overflow_y": null,
            "padding": null,
            "right": null,
            "top": null,
            "visibility": null,
            "width": null
          }
        },
        "9ac023b1bb47461fa1cae1b203c00693": {
          "model_module": "@jupyter-widgets/controls",
          "model_name": "DescriptionStyleModel",
          "model_module_version": "1.5.0",
          "state": {
            "_model_module": "@jupyter-widgets/controls",
            "_model_module_version": "1.5.0",
            "_model_name": "DescriptionStyleModel",
            "_view_count": null,
            "_view_module": "@jupyter-widgets/base",
            "_view_module_version": "1.2.0",
            "_view_name": "StyleView",
            "description_width": ""
          }
        },
        "942e95158a264a08b24094f3983ec625": {
          "model_module": "@jupyter-widgets/base",
          "model_name": "LayoutModel",
          "model_module_version": "1.2.0",
          "state": {
            "_model_module": "@jupyter-widgets/base",
            "_model_module_version": "1.2.0",
            "_model_name": "LayoutModel",
            "_view_count": null,
            "_view_module": "@jupyter-widgets/base",
            "_view_module_version": "1.2.0",
            "_view_name": "LayoutView",
            "align_content": null,
            "align_items": null,
            "align_self": null,
            "border": null,
            "bottom": null,
            "display": null,
            "flex": null,
            "flex_flow": null,
            "grid_area": null,
            "grid_auto_columns": null,
            "grid_auto_flow": null,
            "grid_auto_rows": null,
            "grid_column": null,
            "grid_gap": null,
            "grid_row": null,
            "grid_template_areas": null,
            "grid_template_columns": null,
            "grid_template_rows": null,
            "height": null,
            "justify_content": null,
            "justify_items": null,
            "left": null,
            "margin": null,
            "max_height": null,
            "max_width": null,
            "min_height": null,
            "min_width": null,
            "object_fit": null,
            "object_position": null,
            "order": null,
            "overflow": null,
            "overflow_x": null,
            "overflow_y": null,
            "padding": null,
            "right": null,
            "top": null,
            "visibility": null,
            "width": null
          }
        },
        "a6163aee389a450c96acb79a9afdaf81": {
          "model_module": "@jupyter-widgets/controls",
          "model_name": "ProgressStyleModel",
          "model_module_version": "1.5.0",
          "state": {
            "_model_module": "@jupyter-widgets/controls",
            "_model_module_version": "1.5.0",
            "_model_name": "ProgressStyleModel",
            "_view_count": null,
            "_view_module": "@jupyter-widgets/base",
            "_view_module_version": "1.2.0",
            "_view_name": "StyleView",
            "bar_color": null,
            "description_width": ""
          }
        },
        "a608715adbc941beb6448ff92c4007f3": {
          "model_module": "@jupyter-widgets/base",
          "model_name": "LayoutModel",
          "model_module_version": "1.2.0",
          "state": {
            "_model_module": "@jupyter-widgets/base",
            "_model_module_version": "1.2.0",
            "_model_name": "LayoutModel",
            "_view_count": null,
            "_view_module": "@jupyter-widgets/base",
            "_view_module_version": "1.2.0",
            "_view_name": "LayoutView",
            "align_content": null,
            "align_items": null,
            "align_self": null,
            "border": null,
            "bottom": null,
            "display": null,
            "flex": null,
            "flex_flow": null,
            "grid_area": null,
            "grid_auto_columns": null,
            "grid_auto_flow": null,
            "grid_auto_rows": null,
            "grid_column": null,
            "grid_gap": null,
            "grid_row": null,
            "grid_template_areas": null,
            "grid_template_columns": null,
            "grid_template_rows": null,
            "height": null,
            "justify_content": null,
            "justify_items": null,
            "left": null,
            "margin": null,
            "max_height": null,
            "max_width": null,
            "min_height": null,
            "min_width": null,
            "object_fit": null,
            "object_position": null,
            "order": null,
            "overflow": null,
            "overflow_x": null,
            "overflow_y": null,
            "padding": null,
            "right": null,
            "top": null,
            "visibility": null,
            "width": null
          }
        },
        "17c66fdad5be4ff299ebb701343e7a54": {
          "model_module": "@jupyter-widgets/controls",
          "model_name": "DescriptionStyleModel",
          "model_module_version": "1.5.0",
          "state": {
            "_model_module": "@jupyter-widgets/controls",
            "_model_module_version": "1.5.0",
            "_model_name": "DescriptionStyleModel",
            "_view_count": null,
            "_view_module": "@jupyter-widgets/base",
            "_view_module_version": "1.2.0",
            "_view_name": "StyleView",
            "description_width": ""
          }
        }
      }
    }
  },
  "nbformat": 4,
  "nbformat_minor": 0
}