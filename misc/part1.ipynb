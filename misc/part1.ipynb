{
  "nbformat": 4,
  "nbformat_minor": 0,
  "metadata": {
    "colab": {
      "provenance": [],
      "collapsed_sections": [
        "UT0rqZbyS7Zr",
        "XmCcOJXoU2Gd",
        "BLJ-UGubYdVu",
        "sJml5XvZbaV1",
        "-I_jKATQ8JzP"
      ]
    },
    "kernelspec": {
      "name": "python3",
      "display_name": "Python 3"
    },
    "language_info": {
      "name": "python"
    }
  },
  "cells": [
    {
      "cell_type": "markdown",
      "metadata": {
        "id": "SEPtIzlfiOGl"
      },
      "source": [
        "# Fundamental Concepts of Jax\n",
        "\n"
      ]
    },
    {
      "cell_type": "code",
      "metadata": {
        "colab": {
          "base_uri": "https://localhost:8080/"
        },
        "id": "XSKL5wlXiO6M",
        "outputId": "2e25bca4-8661-47ed-e41b-c3d3b1926ddc"
      },
      "source": [
        "!pip install jax jaxlib"
      ],
      "execution_count": 67,
      "outputs": [
        {
          "output_type": "stream",
          "name": "stdout",
          "text": [
            "Looking in indexes: https://pypi.org/simple, https://us-python.pkg.dev/colab-wheels/public/simple/\n",
            "Requirement already satisfied: jax in /usr/local/lib/python3.9/dist-packages (0.4.4)\n",
            "Requirement already satisfied: jaxlib in /usr/local/lib/python3.9/dist-packages (0.4.4+cuda11.cudnn82)\n",
            "Requirement already satisfied: scipy>=1.5 in /usr/local/lib/python3.9/dist-packages (from jax) (1.10.1)\n",
            "Requirement already satisfied: numpy>=1.20 in /usr/local/lib/python3.9/dist-packages (from jax) (1.22.4)\n",
            "Requirement already satisfied: opt-einsum in /usr/local/lib/python3.9/dist-packages (from jax) (3.3.0)\n"
          ]
        }
      ]
    },
    {
      "cell_type": "markdown",
      "metadata": {
        "id": "GTwyWyR6M91-"
      },
      "source": [
        "## jax.numpy and numpy\n",
        "---\n"
      ]
    },
    {
      "cell_type": "code",
      "metadata": {
        "id": "KSTJ6982NEFs"
      },
      "source": [
        "import numpy as np\n",
        "import jax.numpy as jnp"
      ],
      "execution_count": 3,
      "outputs": []
    },
    {
      "cell_type": "code",
      "metadata": {
        "id": "1JNDcmXNNY9M",
        "colab": {
          "base_uri": "https://localhost:8080/"
        },
        "outputId": "d408eae4-ccc2-4faf-87e2-7ffd329adce8"
      },
      "source": [
        "x = jnp.arange(5.0)\n"
      ],
      "execution_count": 4,
      "outputs": [
        {
          "output_type": "stream",
          "name": "stderr",
          "text": [
            "WARNING:jax._src.lib.xla_bridge:No GPU/TPU found, falling back to CPU. (Set TF_CPP_MIN_LOG_LEVEL=0 and rerun for more info.)\n"
          ]
        }
      ]
    },
    {
      "cell_type": "code",
      "metadata": {
        "colab": {
          "base_uri": "https://localhost:8080/"
        },
        "id": "a4cZVJePOFV7",
        "outputId": "9d06f253-d766-40aa-9962-d863b2d187bd"
      },
      "source": [
        "x = jnp.arange(5.0)\n",
        "x.at[2:4].add(10)"
      ],
      "execution_count": 15,
      "outputs": [
        {
          "output_type": "execute_result",
          "data": {
            "text/plain": [
              "Array([ 0.,  1., 12., 13.,  4.], dtype=float32)"
            ]
          },
          "metadata": {},
          "execution_count": 15
        }
      ]
    },
    {
      "cell_type": "code",
      "metadata": {
        "id": "Zm9EzFujPTxD"
      },
      "source": [
        "from jax import random\n",
        "key = random.PRNGKey(0)"
      ],
      "execution_count": 16,
      "outputs": []
    },
    {
      "cell_type": "code",
      "metadata": {
        "colab": {
          "base_uri": "https://localhost:8080/"
        },
        "id": "GSJOMZkuPX5w",
        "outputId": "9bd292e7-f5b3-468c-c02d-4a18ac55bced"
      },
      "source": [
        "print(random.normal(key, shape=(1,)))\n",
        "# Unlike numpy, this will give the exact same results;\n",
        "print(random.normal(key, shape=(1,)))"
      ],
      "execution_count": 17,
      "outputs": [
        {
          "output_type": "stream",
          "name": "stdout",
          "text": [
            "[-0.20584226]\n",
            "[-0.20584226]\n"
          ]
        }
      ]
    },
    {
      "cell_type": "code",
      "metadata": {
        "colab": {
          "base_uri": "https://localhost:8080/"
        },
        "id": "pSDit9UWPksB",
        "outputId": "317dc6ee-357c-4256-80df-8eadadb2439f"
      },
      "source": [
        "key, subkey, _ = random.split(key, 3)\n",
        "print(random.normal(key, shape=(1,)))\n",
        "print(random.normal(subkey, shape=(1,)))"
      ],
      "execution_count": 18,
      "outputs": [
        {
          "output_type": "stream",
          "name": "stdout",
          "text": [
            "[1.1188384]\n",
            "[0.5781488]\n"
          ]
        }
      ]
    },
    {
      "cell_type": "markdown",
      "metadata": {
        "id": "JzGISafRksXx"
      },
      "source": [
        "## JIT simple example\n",
        "---\n",
        "This is a simple example of using `jit` functionality in Jax. Note that if you run the code twice, things will be different."
      ]
    },
    {
      "cell_type": "code",
      "metadata": {
        "id": "KF1tij_SlUZz"
      },
      "source": [
        "import numpy as np\n",
        "import jax.numpy as jnp\n",
        "from jax import jit\n",
        "import jax"
      ],
      "execution_count": 35,
      "outputs": []
    },
    {
      "cell_type": "code",
      "metadata": {
        "id": "iB0ewe6QiK-6"
      },
      "source": [
        "@jit\n",
        "def f(x, y):\n",
        "  print(\"Running f():\") #Print will introduce an side effect\n",
        "  print(f\"  x = {x}\")\n",
        "  print(f\"  y = {y}\")\n",
        "  result = jnp.dot(x + 1, y + 1)\n",
        "  print(f\"  result = {result}\")\n",
        "  return result\n",
        "\n",
        "x = np.random.randn(3, 4)\n",
        "y = np.random.randn(4)\n"
      ],
      "execution_count": 22,
      "outputs": []
    },
    {
      "cell_type": "code",
      "metadata": {
        "colab": {
          "base_uri": "https://localhost:8080/"
        },
        "id": "71RZdCA5lLbg",
        "outputId": "07418111-0e21-4d76-9544-d9146a3ed25e"
      },
      "source": [
        "f(x, y)"
      ],
      "execution_count": 23,
      "outputs": [
        {
          "output_type": "stream",
          "name": "stdout",
          "text": [
            "Running f():\n",
            "  x = Traced<ShapedArray(float32[3,4])>with<DynamicJaxprTrace(level=1/0)>\n",
            "  y = Traced<ShapedArray(float32[4])>with<DynamicJaxprTrace(level=1/0)>\n",
            "  result = Traced<ShapedArray(float32[3])>with<DynamicJaxprTrace(level=1/0)>\n"
          ]
        },
        {
          "output_type": "execute_result",
          "data": {
            "text/plain": [
              "Array([1.5641091, 2.545023 , 4.3680015], dtype=float32)"
            ]
          },
          "metadata": {},
          "execution_count": 23
        }
      ]
    },
    {
      "cell_type": "markdown",
      "metadata": {
        "id": "UT0rqZbyS7Zr"
      },
      "source": [
        "### Pure functions and jit\n",
        "___________________________\n",
        "Here you have to save the global variable if you do not want any side effect."
      ]
    },
    {
      "cell_type": "code",
      "metadata": {
        "colab": {
          "base_uri": "https://localhost:8080/"
        },
        "id": "HkArl3NflR7C",
        "outputId": "c2ac8512-9f46-4361-b4a4-6ee96c927bfc"
      },
      "source": [
        "g = 0.\n",
        "def impure_uses_globals(x):\n",
        "  return x + g\n",
        "\n",
        "print (\"First call: \", jit(impure_uses_globals)(4.))\n",
        "g = 10.  \n",
        "print (\"Second call: \", jit(impure_uses_globals)(5.))\n",
        "print (\"Third call, different type: \", jit(impure_uses_globals)(jnp.array([4.])))\n",
        "\n",
        "# Question: Why does this happen?"
      ],
      "execution_count": 27,
      "outputs": [
        {
          "output_type": "stream",
          "name": "stdout",
          "text": [
            "First call:  4.0\n",
            "Second call:  5.0\n",
            "Third call, different type:  [14.]\n"
          ]
        }
      ]
    },
    {
      "cell_type": "code",
      "metadata": {
        "id": "C3QHIZRYlTNC",
        "colab": {
          "base_uri": "https://localhost:8080/"
        },
        "outputId": "fdc46555-e7b4-4d6a-bceb-1d2c105bb16f"
      },
      "source": [
        "g = 0.\n",
        "def impure_saves_global(x):\n",
        "  global g\n",
        "  g = x\n",
        "  return x\n",
        "\n",
        "print (\"First call: \", jit(impure_saves_global)(4.))\n",
        "print (\"Saved global: \", g)  \n"
      ],
      "execution_count": 28,
      "outputs": [
        {
          "output_type": "stream",
          "name": "stdout",
          "text": [
            "First call:  4.0\n",
            "Saved global:  Traced<ShapedArray(float32[], weak_type=True)>with<DynamicJaxprTrace(level=1/0)>\n"
          ]
        }
      ]
    },
    {
      "cell_type": "code",
      "source": [
        "from jax import lax"
      ],
      "metadata": {
        "id": "IvBhurd1mw_4"
      },
      "execution_count": 30,
      "outputs": []
    },
    {
      "cell_type": "code",
      "metadata": {
        "colab": {
          "base_uri": "https://localhost:8080/"
        },
        "id": "F64rdP3IPjcq",
        "outputId": "82a8d274-ea42-4891-b759-5ccf2061ad01"
      },
      "source": [
        "array = jnp.arange(10)\n",
        "print(lax.fori_loop(0, 10, lambda i,x: x+array[i], 0)) # expected result 45\n",
        "iterator = iter(range(10))\n",
        "print(lax.fori_loop(0, 10, lambda i,x: x+next(iterator), 0)) # unexpected result 0"
      ],
      "execution_count": 31,
      "outputs": [
        {
          "output_type": "stream",
          "name": "stdout",
          "text": [
            "45\n",
            "0\n"
          ]
        }
      ]
    },
    {
      "cell_type": "code",
      "metadata": {
        "colab": {
          "base_uri": "https://localhost:8080/"
        },
        "id": "PvMEIja6TzuF",
        "outputId": "034cfe80-9bb1-4519-827f-6c0bfa9a9c63"
      },
      "source": [
        "# This works\n",
        "class Counter:\n",
        "  \"\"\"A simple counter.\"\"\"\n",
        "\n",
        "  def __init__(self):\n",
        "    self.n = 0\n",
        "\n",
        "  def count(self) -> int:\n",
        "    \"\"\"Increments the counter and returns the new value.\"\"\"\n",
        "    self.n += 1\n",
        "    return self.n\n",
        "\n",
        "  def reset(self):\n",
        "    \"\"\"Resets the counter to zero.\"\"\"\n",
        "    self.n = 0\n",
        "\n",
        "\n",
        "counter = Counter()\n",
        "\n",
        "for _ in range(3):\n",
        "  print(counter.count())"
      ],
      "execution_count": 32,
      "outputs": [
        {
          "output_type": "stream",
          "name": "stdout",
          "text": [
            "1\n",
            "2\n",
            "3\n"
          ]
        }
      ]
    },
    {
      "cell_type": "code",
      "metadata": {
        "colab": {
          "base_uri": "https://localhost:8080/"
        },
        "id": "lapqaj7wUDZt",
        "outputId": "d1302d91-2195-40a1-cf8f-e466acd90553"
      },
      "source": [
        "# Doesn't work\n",
        "counter.reset()\n",
        "fast_count = jit(counter.count)\n",
        "\n",
        "for _ in range(3):\n",
        "  print(fast_count())"
      ],
      "execution_count": 33,
      "outputs": [
        {
          "output_type": "stream",
          "name": "stdout",
          "text": [
            "1\n",
            "1\n",
            "1\n"
          ]
        }
      ]
    },
    {
      "cell_type": "code",
      "metadata": {
        "id": "_pQt3FdfURc5",
        "colab": {
          "base_uri": "https://localhost:8080/"
        },
        "outputId": "aa19f1df-7b44-4ea0-dcff-966e7fbd43fd"
      },
      "source": [
        "from typing import Tuple\n",
        "\n",
        "CounterState = int\n",
        "\n",
        "class CounterV2:\n",
        "\n",
        "  def count(self, n: CounterState) -> Tuple[int, CounterState]:\n",
        "    return n+1, n+1\n",
        "\n",
        "  def reset(self) -> CounterState:\n",
        "    return 0\n",
        "\n",
        "counter = CounterV2()\n",
        "state = counter.reset()\n",
        "\n",
        "fast_count = jax.jit(counter.count)\n",
        "\n",
        "for _ in range(3):\n",
        "  value, state = fast_count(state)\n",
        "  print(value)"
      ],
      "execution_count": 36,
      "outputs": [
        {
          "output_type": "stream",
          "name": "stdout",
          "text": [
            "1\n",
            "2\n",
            "3\n"
          ]
        }
      ]
    },
    {
      "cell_type": "markdown",
      "metadata": {
        "id": "XmCcOJXoU2Gd"
      },
      "source": [
        "### Tracing and static variables/operations in jit\n"
      ]
    },
    {
      "cell_type": "code",
      "metadata": {
        "id": "Qn2i7fPpU45F",
        "colab": {
          "base_uri": "https://localhost:8080/",
          "height": 641
        },
        "outputId": "cce91e32-b7a4-4f80-ece4-e780597f6703"
      },
      "source": [
        "# This will NOT work!\n",
        "@jit\n",
        "def f(x, neg):\n",
        "  return -x if neg else x\n",
        "\n",
        "f(1, True)"
      ],
      "execution_count": 37,
      "outputs": [
        {
          "output_type": "error",
          "ename": "ConcretizationTypeError",
          "evalue": "ignored",
          "traceback": [
            "\u001b[0;31m---------------------------------------------------------------------------\u001b[0m",
            "\u001b[0;31mUnfilteredStackTrace\u001b[0m                      Traceback (most recent call last)",
            "\u001b[0;32m<ipython-input-37-8ee1523c6325>\u001b[0m in \u001b[0;36m<module>\u001b[0;34m\u001b[0m\n\u001b[1;32m      5\u001b[0m \u001b[0;34m\u001b[0m\u001b[0m\n\u001b[0;32m----> 6\u001b[0;31m \u001b[0mf\u001b[0m\u001b[0;34m(\u001b[0m\u001b[0;36m1\u001b[0m\u001b[0;34m,\u001b[0m \u001b[0;32mTrue\u001b[0m\u001b[0;34m)\u001b[0m\u001b[0;34m\u001b[0m\u001b[0;34m\u001b[0m\u001b[0m\n\u001b[0m",
            "\u001b[0;32m/usr/local/lib/python3.9/dist-packages/jax/_src/traceback_util.py\u001b[0m in \u001b[0;36mreraise_with_filtered_traceback\u001b[0;34m(*args, **kwargs)\u001b[0m\n\u001b[1;32m    162\u001b[0m     \u001b[0;32mtry\u001b[0m\u001b[0;34m:\u001b[0m\u001b[0;34m\u001b[0m\u001b[0;34m\u001b[0m\u001b[0m\n\u001b[0;32m--> 163\u001b[0;31m       \u001b[0;32mreturn\u001b[0m \u001b[0mfun\u001b[0m\u001b[0;34m(\u001b[0m\u001b[0;34m*\u001b[0m\u001b[0margs\u001b[0m\u001b[0;34m,\u001b[0m \u001b[0;34m**\u001b[0m\u001b[0mkwargs\u001b[0m\u001b[0;34m)\u001b[0m\u001b[0;34m\u001b[0m\u001b[0;34m\u001b[0m\u001b[0m\n\u001b[0m\u001b[1;32m    164\u001b[0m     \u001b[0;32mexcept\u001b[0m \u001b[0mException\u001b[0m \u001b[0;32mas\u001b[0m \u001b[0me\u001b[0m\u001b[0;34m:\u001b[0m\u001b[0;34m\u001b[0m\u001b[0;34m\u001b[0m\u001b[0m\n",
            "\u001b[0;32m/usr/local/lib/python3.9/dist-packages/jax/_src/pjit.py\u001b[0m in \u001b[0;36mcache_miss\u001b[0;34m(*args, **kwargs)\u001b[0m\n\u001b[1;32m    236\u001b[0m   \u001b[0;32mdef\u001b[0m \u001b[0mcache_miss\u001b[0m\u001b[0;34m(\u001b[0m\u001b[0;34m*\u001b[0m\u001b[0margs\u001b[0m\u001b[0;34m,\u001b[0m \u001b[0;34m**\u001b[0m\u001b[0mkwargs\u001b[0m\u001b[0;34m)\u001b[0m\u001b[0;34m:\u001b[0m\u001b[0;34m\u001b[0m\u001b[0;34m\u001b[0m\u001b[0m\n\u001b[0;32m--> 237\u001b[0;31m     outs, out_flat, out_tree, args_flat = _python_pjit_helper(\n\u001b[0m\u001b[1;32m    238\u001b[0m         fun, infer_params_fn, *args, **kwargs)\n",
            "\u001b[0;32m/usr/local/lib/python3.9/dist-packages/jax/_src/pjit.py\u001b[0m in \u001b[0;36m_python_pjit_helper\u001b[0;34m(fun, infer_params_fn, *args, **kwargs)\u001b[0m\n\u001b[1;32m    179\u001b[0m \u001b[0;32mdef\u001b[0m \u001b[0m_python_pjit_helper\u001b[0m\u001b[0;34m(\u001b[0m\u001b[0mfun\u001b[0m\u001b[0;34m,\u001b[0m \u001b[0minfer_params_fn\u001b[0m\u001b[0;34m,\u001b[0m \u001b[0;34m*\u001b[0m\u001b[0margs\u001b[0m\u001b[0;34m,\u001b[0m \u001b[0;34m**\u001b[0m\u001b[0mkwargs\u001b[0m\u001b[0;34m)\u001b[0m\u001b[0;34m:\u001b[0m\u001b[0;34m\u001b[0m\u001b[0;34m\u001b[0m\u001b[0m\n\u001b[0;32m--> 180\u001b[0;31m   args_flat, _, params, in_tree, out_tree, _ = infer_params_fn(\n\u001b[0m\u001b[1;32m    181\u001b[0m       *args, **kwargs)\n",
            "\u001b[0;32m/usr/local/lib/python3.9/dist-packages/jax/_src/api.py\u001b[0m in \u001b[0;36minfer_params\u001b[0;34m(*args, **kwargs)\u001b[0m\n\u001b[1;32m    442\u001b[0m           inline=inline, resource_env=None)\n\u001b[0;32m--> 443\u001b[0;31m       \u001b[0;32mreturn\u001b[0m \u001b[0mpjit\u001b[0m\u001b[0;34m.\u001b[0m\u001b[0mcommon_infer_params\u001b[0m\u001b[0;34m(\u001b[0m\u001b[0mpjit_info_args\u001b[0m\u001b[0;34m,\u001b[0m \u001b[0;34m*\u001b[0m\u001b[0margs\u001b[0m\u001b[0;34m,\u001b[0m \u001b[0;34m**\u001b[0m\u001b[0mkwargs\u001b[0m\u001b[0;34m)\u001b[0m\u001b[0;34m\u001b[0m\u001b[0;34m\u001b[0m\u001b[0m\n\u001b[0m\u001b[1;32m    444\u001b[0m \u001b[0;34m\u001b[0m\u001b[0m\n",
            "\u001b[0;32m/usr/local/lib/python3.9/dist-packages/jax/_src/pjit.py\u001b[0m in \u001b[0;36mcommon_infer_params\u001b[0;34m(***failed resolving arguments***)\u001b[0m\n\u001b[1;32m    519\u001b[0m \u001b[0;34m\u001b[0m\u001b[0m\n\u001b[0;32m--> 520\u001b[0;31m   jaxpr, consts, canonicalized_out_shardings_flat = _pjit_jaxpr(\n\u001b[0m\u001b[1;32m    521\u001b[0m       \u001b[0mflat_fun\u001b[0m\u001b[0;34m,\u001b[0m \u001b[0mhashable_pytree\u001b[0m\u001b[0;34m(\u001b[0m\u001b[0mout_shardings\u001b[0m\u001b[0;34m)\u001b[0m\u001b[0;34m,\u001b[0m \u001b[0mglobal_in_avals\u001b[0m\u001b[0;34m,\u001b[0m\u001b[0;34m\u001b[0m\u001b[0;34m\u001b[0m\u001b[0m\n",
            "\u001b[0;32m/usr/local/lib/python3.9/dist-packages/jax/_src/linear_util.py\u001b[0m in \u001b[0;36mmemoized_fun\u001b[0;34m(fun, *args)\u001b[0m\n\u001b[1;32m    300\u001b[0m     \u001b[0;32melse\u001b[0m\u001b[0;34m:\u001b[0m\u001b[0;34m\u001b[0m\u001b[0;34m\u001b[0m\u001b[0m\n\u001b[0;32m--> 301\u001b[0;31m       \u001b[0mans\u001b[0m \u001b[0;34m=\u001b[0m \u001b[0mcall\u001b[0m\u001b[0;34m(\u001b[0m\u001b[0mfun\u001b[0m\u001b[0;34m,\u001b[0m \u001b[0;34m*\u001b[0m\u001b[0margs\u001b[0m\u001b[0;34m)\u001b[0m\u001b[0;34m\u001b[0m\u001b[0;34m\u001b[0m\u001b[0m\n\u001b[0m\u001b[1;32m    302\u001b[0m       \u001b[0mcache\u001b[0m\u001b[0;34m[\u001b[0m\u001b[0mkey\u001b[0m\u001b[0;34m]\u001b[0m \u001b[0;34m=\u001b[0m \u001b[0;34m(\u001b[0m\u001b[0mans\u001b[0m\u001b[0;34m,\u001b[0m \u001b[0mfun\u001b[0m\u001b[0;34m.\u001b[0m\u001b[0mstores\u001b[0m\u001b[0;34m)\u001b[0m\u001b[0;34m\u001b[0m\u001b[0;34m\u001b[0m\u001b[0m\n",
            "\u001b[0;32m/usr/local/lib/python3.9/dist-packages/jax/_src/pjit.py\u001b[0m in \u001b[0;36m_pjit_jaxpr\u001b[0;34m(fun, out_shardings_thunk, global_in_avals, out_tree, api_name)\u001b[0m\n\u001b[1;32m    931\u001b[0m                                     event=dispatch.JAXPR_TRACE_EVENT):\n\u001b[0;32m--> 932\u001b[0;31m       jaxpr, global_out_avals, consts = pe.trace_to_jaxpr_dynamic(\n\u001b[0m\u001b[1;32m    933\u001b[0m           fun, global_in_avals, debug_info=pe.debug_info_final(fun, api_name))\n",
            "\u001b[0;32m/usr/local/lib/python3.9/dist-packages/jax/_src/profiler.py\u001b[0m in \u001b[0;36mwrapper\u001b[0;34m(*args, **kwargs)\u001b[0m\n\u001b[1;32m    313\u001b[0m     \u001b[0;32mwith\u001b[0m \u001b[0mTraceAnnotation\u001b[0m\u001b[0;34m(\u001b[0m\u001b[0mname\u001b[0m\u001b[0;34m,\u001b[0m \u001b[0;34m**\u001b[0m\u001b[0mdecorator_kwargs\u001b[0m\u001b[0;34m)\u001b[0m\u001b[0;34m:\u001b[0m\u001b[0;34m\u001b[0m\u001b[0;34m\u001b[0m\u001b[0m\n\u001b[0;32m--> 314\u001b[0;31m       \u001b[0;32mreturn\u001b[0m \u001b[0mfunc\u001b[0m\u001b[0;34m(\u001b[0m\u001b[0;34m*\u001b[0m\u001b[0margs\u001b[0m\u001b[0;34m,\u001b[0m \u001b[0;34m**\u001b[0m\u001b[0mkwargs\u001b[0m\u001b[0;34m)\u001b[0m\u001b[0;34m\u001b[0m\u001b[0;34m\u001b[0m\u001b[0m\n\u001b[0m\u001b[1;32m    315\u001b[0m     \u001b[0;32mreturn\u001b[0m \u001b[0mwrapper\u001b[0m\u001b[0;34m\u001b[0m\u001b[0;34m\u001b[0m\u001b[0m\n",
            "\u001b[0;32m/usr/local/lib/python3.9/dist-packages/jax/interpreters/partial_eval.py\u001b[0m in \u001b[0;36mtrace_to_jaxpr_dynamic\u001b[0;34m(fun, in_avals, debug_info, keep_inputs)\u001b[0m\n\u001b[1;32m   1984\u001b[0m     \u001b[0mmain\u001b[0m\u001b[0;34m.\u001b[0m\u001b[0mjaxpr_stack\u001b[0m \u001b[0;34m=\u001b[0m \u001b[0;34m(\u001b[0m\u001b[0;34m)\u001b[0m  \u001b[0;31m# type: ignore\u001b[0m\u001b[0;34m\u001b[0m\u001b[0;34m\u001b[0m\u001b[0m\n\u001b[0;32m-> 1985\u001b[0;31m     jaxpr, out_avals, consts = trace_to_subjaxpr_dynamic(\n\u001b[0m\u001b[1;32m   1986\u001b[0m       fun, main, in_avals, keep_inputs=keep_inputs, debug_info=debug_info)\n",
            "\u001b[0;32m/usr/local/lib/python3.9/dist-packages/jax/interpreters/partial_eval.py\u001b[0m in \u001b[0;36mtrace_to_subjaxpr_dynamic\u001b[0;34m(fun, main, in_avals, keep_inputs, debug_info)\u001b[0m\n\u001b[1;32m   2001\u001b[0m     \u001b[0min_tracers_\u001b[0m \u001b[0;34m=\u001b[0m \u001b[0;34m[\u001b[0m\u001b[0mt\u001b[0m \u001b[0;32mfor\u001b[0m \u001b[0mt\u001b[0m\u001b[0;34m,\u001b[0m \u001b[0mkeep\u001b[0m \u001b[0;32min\u001b[0m \u001b[0mzip\u001b[0m\u001b[0;34m(\u001b[0m\u001b[0min_tracers\u001b[0m\u001b[0;34m,\u001b[0m \u001b[0mkeep_inputs\u001b[0m\u001b[0;34m)\u001b[0m \u001b[0;32mif\u001b[0m \u001b[0mkeep\u001b[0m\u001b[0;34m]\u001b[0m\u001b[0;34m\u001b[0m\u001b[0;34m\u001b[0m\u001b[0m\n\u001b[0;32m-> 2002\u001b[0;31m     \u001b[0mans\u001b[0m \u001b[0;34m=\u001b[0m \u001b[0mfun\u001b[0m\u001b[0;34m.\u001b[0m\u001b[0mcall_wrapped\u001b[0m\u001b[0;34m(\u001b[0m\u001b[0;34m*\u001b[0m\u001b[0min_tracers_\u001b[0m\u001b[0;34m)\u001b[0m\u001b[0;34m\u001b[0m\u001b[0;34m\u001b[0m\u001b[0m\n\u001b[0m\u001b[1;32m   2003\u001b[0m     \u001b[0mout_tracers\u001b[0m \u001b[0;34m=\u001b[0m \u001b[0mmap\u001b[0m\u001b[0;34m(\u001b[0m\u001b[0mtrace\u001b[0m\u001b[0;34m.\u001b[0m\u001b[0mfull_raise\u001b[0m\u001b[0;34m,\u001b[0m \u001b[0mans\u001b[0m\u001b[0;34m)\u001b[0m\u001b[0;34m\u001b[0m\u001b[0;34m\u001b[0m\u001b[0m\n",
            "\u001b[0;32m/usr/local/lib/python3.9/dist-packages/jax/_src/linear_util.py\u001b[0m in \u001b[0;36mcall_wrapped\u001b[0;34m(self, *args, **kwargs)\u001b[0m\n\u001b[1;32m    164\u001b[0m     \u001b[0;32mtry\u001b[0m\u001b[0;34m:\u001b[0m\u001b[0;34m\u001b[0m\u001b[0;34m\u001b[0m\u001b[0m\n\u001b[0;32m--> 165\u001b[0;31m       \u001b[0mans\u001b[0m \u001b[0;34m=\u001b[0m \u001b[0mself\u001b[0m\u001b[0;34m.\u001b[0m\u001b[0mf\u001b[0m\u001b[0;34m(\u001b[0m\u001b[0;34m*\u001b[0m\u001b[0margs\u001b[0m\u001b[0;34m,\u001b[0m \u001b[0;34m**\u001b[0m\u001b[0mdict\u001b[0m\u001b[0;34m(\u001b[0m\u001b[0mself\u001b[0m\u001b[0;34m.\u001b[0m\u001b[0mparams\u001b[0m\u001b[0;34m,\u001b[0m \u001b[0;34m**\u001b[0m\u001b[0mkwargs\u001b[0m\u001b[0;34m)\u001b[0m\u001b[0;34m)\u001b[0m\u001b[0;34m\u001b[0m\u001b[0;34m\u001b[0m\u001b[0m\n\u001b[0m\u001b[1;32m    166\u001b[0m     \u001b[0;32mexcept\u001b[0m\u001b[0;34m:\u001b[0m\u001b[0;34m\u001b[0m\u001b[0;34m\u001b[0m\u001b[0m\n",
            "\u001b[0;32m<ipython-input-37-8ee1523c6325>\u001b[0m in \u001b[0;36mf\u001b[0;34m(x, neg)\u001b[0m\n\u001b[1;32m      3\u001b[0m \u001b[0;32mdef\u001b[0m \u001b[0mf\u001b[0m\u001b[0;34m(\u001b[0m\u001b[0mx\u001b[0m\u001b[0;34m,\u001b[0m \u001b[0mneg\u001b[0m\u001b[0;34m)\u001b[0m\u001b[0;34m:\u001b[0m\u001b[0;34m\u001b[0m\u001b[0;34m\u001b[0m\u001b[0m\n\u001b[0;32m----> 4\u001b[0;31m   \u001b[0;32mreturn\u001b[0m \u001b[0;34m-\u001b[0m\u001b[0mx\u001b[0m \u001b[0;32mif\u001b[0m \u001b[0mneg\u001b[0m \u001b[0;32melse\u001b[0m \u001b[0mx\u001b[0m\u001b[0;34m\u001b[0m\u001b[0;34m\u001b[0m\u001b[0m\n\u001b[0m\u001b[1;32m      5\u001b[0m \u001b[0;34m\u001b[0m\u001b[0m\n",
            "\u001b[0;32m/usr/local/lib/python3.9/dist-packages/jax/_src/core.py\u001b[0m in \u001b[0;36m__bool__\u001b[0;34m(self)\u001b[0m\n\u001b[1;32m    649\u001b[0m   \u001b[0;32mdef\u001b[0m \u001b[0m__nonzero__\u001b[0m\u001b[0;34m(\u001b[0m\u001b[0mself\u001b[0m\u001b[0;34m)\u001b[0m\u001b[0;34m:\u001b[0m \u001b[0;32mreturn\u001b[0m \u001b[0mself\u001b[0m\u001b[0;34m.\u001b[0m\u001b[0maval\u001b[0m\u001b[0;34m.\u001b[0m\u001b[0m_nonzero\u001b[0m\u001b[0;34m(\u001b[0m\u001b[0mself\u001b[0m\u001b[0;34m)\u001b[0m\u001b[0;34m\u001b[0m\u001b[0;34m\u001b[0m\u001b[0m\n\u001b[0;32m--> 650\u001b[0;31m   \u001b[0;32mdef\u001b[0m \u001b[0m__bool__\u001b[0m\u001b[0;34m(\u001b[0m\u001b[0mself\u001b[0m\u001b[0;34m)\u001b[0m\u001b[0;34m:\u001b[0m \u001b[0;32mreturn\u001b[0m \u001b[0mself\u001b[0m\u001b[0;34m.\u001b[0m\u001b[0maval\u001b[0m\u001b[0;34m.\u001b[0m\u001b[0m_bool\u001b[0m\u001b[0;34m(\u001b[0m\u001b[0mself\u001b[0m\u001b[0;34m)\u001b[0m\u001b[0;34m\u001b[0m\u001b[0;34m\u001b[0m\u001b[0m\n\u001b[0m\u001b[1;32m    651\u001b[0m   \u001b[0;32mdef\u001b[0m \u001b[0m__int__\u001b[0m\u001b[0;34m(\u001b[0m\u001b[0mself\u001b[0m\u001b[0;34m)\u001b[0m\u001b[0;34m:\u001b[0m \u001b[0;32mreturn\u001b[0m \u001b[0mself\u001b[0m\u001b[0;34m.\u001b[0m\u001b[0maval\u001b[0m\u001b[0;34m.\u001b[0m\u001b[0m_int\u001b[0m\u001b[0;34m(\u001b[0m\u001b[0mself\u001b[0m\u001b[0;34m)\u001b[0m\u001b[0;34m\u001b[0m\u001b[0;34m\u001b[0m\u001b[0m\n",
            "\u001b[0;32m/usr/local/lib/python3.9/dist-packages/jax/_src/core.py\u001b[0m in \u001b[0;36merror\u001b[0;34m(self, arg)\u001b[0m\n\u001b[1;32m   1340\u001b[0m   \u001b[0;32mdef\u001b[0m \u001b[0merror\u001b[0m\u001b[0;34m(\u001b[0m\u001b[0mself\u001b[0m\u001b[0;34m,\u001b[0m \u001b[0marg\u001b[0m\u001b[0;34m)\u001b[0m\u001b[0;34m:\u001b[0m\u001b[0;34m\u001b[0m\u001b[0;34m\u001b[0m\u001b[0m\n\u001b[0;32m-> 1341\u001b[0;31m     \u001b[0;32mraise\u001b[0m \u001b[0mConcretizationTypeError\u001b[0m\u001b[0;34m(\u001b[0m\u001b[0marg\u001b[0m\u001b[0;34m,\u001b[0m \u001b[0mfname_context\u001b[0m\u001b[0;34m)\u001b[0m\u001b[0;34m\u001b[0m\u001b[0;34m\u001b[0m\u001b[0m\n\u001b[0m\u001b[1;32m   1342\u001b[0m   \u001b[0;32mreturn\u001b[0m \u001b[0merror\u001b[0m\u001b[0;34m\u001b[0m\u001b[0;34m\u001b[0m\u001b[0m\n",
            "\u001b[0;31mUnfilteredStackTrace\u001b[0m: jax._src.errors.ConcretizationTypeError: Abstract tracer value encountered where concrete value is expected: Traced<ShapedArray(bool[])>with<DynamicJaxprTrace(level=1/0)>\nThe problem arose with the `bool` function. \nThe error occurred while tracing the function f at <ipython-input-37-8ee1523c6325>:2 for jit. This concrete value was not available in Python because it depends on the value of the argument 'neg'.\n\nSee https://jax.readthedocs.io/en/latest/errors.html#jax.errors.ConcretizationTypeError\n\nThe stack trace below excludes JAX-internal frames.\nThe preceding is the original exception that occurred, unmodified.\n\n--------------------",
            "\nThe above exception was the direct cause of the following exception:\n",
            "\u001b[0;31mConcretizationTypeError\u001b[0m                   Traceback (most recent call last)",
            "\u001b[0;32m<ipython-input-37-8ee1523c6325>\u001b[0m in \u001b[0;36m<module>\u001b[0;34m\u001b[0m\n\u001b[1;32m      4\u001b[0m   \u001b[0;32mreturn\u001b[0m \u001b[0;34m-\u001b[0m\u001b[0mx\u001b[0m \u001b[0;32mif\u001b[0m \u001b[0mneg\u001b[0m \u001b[0;32melse\u001b[0m \u001b[0mx\u001b[0m\u001b[0;34m\u001b[0m\u001b[0;34m\u001b[0m\u001b[0m\n\u001b[1;32m      5\u001b[0m \u001b[0;34m\u001b[0m\u001b[0m\n\u001b[0;32m----> 6\u001b[0;31m \u001b[0mf\u001b[0m\u001b[0;34m(\u001b[0m\u001b[0;36m1\u001b[0m\u001b[0;34m,\u001b[0m \u001b[0;32mTrue\u001b[0m\u001b[0;34m)\u001b[0m\u001b[0;34m\u001b[0m\u001b[0;34m\u001b[0m\u001b[0m\n\u001b[0m",
            "\u001b[0;32m<ipython-input-37-8ee1523c6325>\u001b[0m in \u001b[0;36mf\u001b[0;34m(x, neg)\u001b[0m\n\u001b[1;32m      2\u001b[0m \u001b[0;34m@\u001b[0m\u001b[0mjit\u001b[0m\u001b[0;34m\u001b[0m\u001b[0;34m\u001b[0m\u001b[0m\n\u001b[1;32m      3\u001b[0m \u001b[0;32mdef\u001b[0m \u001b[0mf\u001b[0m\u001b[0;34m(\u001b[0m\u001b[0mx\u001b[0m\u001b[0;34m,\u001b[0m \u001b[0mneg\u001b[0m\u001b[0;34m)\u001b[0m\u001b[0;34m:\u001b[0m\u001b[0;34m\u001b[0m\u001b[0;34m\u001b[0m\u001b[0m\n\u001b[0;32m----> 4\u001b[0;31m   \u001b[0;32mreturn\u001b[0m \u001b[0;34m-\u001b[0m\u001b[0mx\u001b[0m \u001b[0;32mif\u001b[0m \u001b[0mneg\u001b[0m \u001b[0;32melse\u001b[0m \u001b[0mx\u001b[0m\u001b[0;34m\u001b[0m\u001b[0;34m\u001b[0m\u001b[0m\n\u001b[0m\u001b[1;32m      5\u001b[0m \u001b[0;34m\u001b[0m\u001b[0m\n\u001b[1;32m      6\u001b[0m \u001b[0mf\u001b[0m\u001b[0;34m(\u001b[0m\u001b[0;36m1\u001b[0m\u001b[0;34m,\u001b[0m \u001b[0;32mTrue\u001b[0m\u001b[0;34m)\u001b[0m\u001b[0;34m\u001b[0m\u001b[0;34m\u001b[0m\u001b[0m\n",
            "\u001b[0;31mConcretizationTypeError\u001b[0m: Abstract tracer value encountered where concrete value is expected: Traced<ShapedArray(bool[])>with<DynamicJaxprTrace(level=1/0)>\nThe problem arose with the `bool` function. \nThe error occurred while tracing the function f at <ipython-input-37-8ee1523c6325>:2 for jit. This concrete value was not available in Python because it depends on the value of the argument 'neg'.\n\nSee https://jax.readthedocs.io/en/latest/errors.html#jax.errors.ConcretizationTypeError"
          ]
        }
      ]
    },
    {
      "cell_type": "code",
      "metadata": {
        "id": "veqiC3HlXbZZ"
      },
      "source": [
        "# This works\n",
        "from functools import partial\n",
        "\n",
        "@partial(jit, static_argnums=(1,))\n",
        "def f(x, neg):\n",
        "    print(\"Need to compile\")\n",
        "    return -x if neg else x"
      ],
      "execution_count": 38,
      "outputs": []
    },
    {
      "cell_type": "code",
      "metadata": {
        "colab": {
          "base_uri": "https://localhost:8080/"
        },
        "id": "Bcl5fdd34fqD",
        "outputId": "6239aa2b-8491-4b41-8315-f09f3e3ad8d1"
      },
      "source": [
        "f(1, True)\n",
        "f(2, False)"
      ],
      "execution_count": 39,
      "outputs": [
        {
          "output_type": "stream",
          "name": "stdout",
          "text": [
            "Need to compile\n",
            "Need to compile\n"
          ]
        },
        {
          "output_type": "execute_result",
          "data": {
            "text/plain": [
              "Array(2, dtype=int32, weak_type=True)"
            ]
          },
          "metadata": {},
          "execution_count": 39
        }
      ]
    },
    {
      "cell_type": "code",
      "metadata": {
        "colab": {
          "base_uri": "https://localhost:8080/",
          "height": 675
        },
        "id": "pWknvipGXr-c",
        "outputId": "e94b08c3-6591-4c95-db71-766296d0114f"
      },
      "source": [
        "# This doesn't work\n",
        "@jit\n",
        "def f(x):\n",
        "  return x.reshape(jnp.array(x.shape).prod())\n",
        "\n",
        "x = jnp.ones((2, 3))\n",
        "f(x)"
      ],
      "execution_count": 40,
      "outputs": [
        {
          "output_type": "error",
          "ename": "TypeError",
          "evalue": "ignored",
          "traceback": [
            "\u001b[0;31m---------------------------------------------------------------------------\u001b[0m",
            "\u001b[0;31mUnfilteredStackTrace\u001b[0m                      Traceback (most recent call last)",
            "\u001b[0;32m<ipython-input-40-ae4680b93359>\u001b[0m in \u001b[0;36m<module>\u001b[0;34m\u001b[0m\n\u001b[1;32m      6\u001b[0m \u001b[0mx\u001b[0m \u001b[0;34m=\u001b[0m \u001b[0mjnp\u001b[0m\u001b[0;34m.\u001b[0m\u001b[0mones\u001b[0m\u001b[0;34m(\u001b[0m\u001b[0;34m(\u001b[0m\u001b[0;36m2\u001b[0m\u001b[0;34m,\u001b[0m \u001b[0;36m3\u001b[0m\u001b[0;34m)\u001b[0m\u001b[0;34m)\u001b[0m\u001b[0;34m\u001b[0m\u001b[0;34m\u001b[0m\u001b[0m\n\u001b[0;32m----> 7\u001b[0;31m \u001b[0mf\u001b[0m\u001b[0;34m(\u001b[0m\u001b[0mx\u001b[0m\u001b[0;34m)\u001b[0m\u001b[0;34m\u001b[0m\u001b[0;34m\u001b[0m\u001b[0m\n\u001b[0m",
            "\u001b[0;32m/usr/local/lib/python3.9/dist-packages/jax/_src/traceback_util.py\u001b[0m in \u001b[0;36mreraise_with_filtered_traceback\u001b[0;34m(*args, **kwargs)\u001b[0m\n\u001b[1;32m    162\u001b[0m     \u001b[0;32mtry\u001b[0m\u001b[0;34m:\u001b[0m\u001b[0;34m\u001b[0m\u001b[0;34m\u001b[0m\u001b[0m\n\u001b[0;32m--> 163\u001b[0;31m       \u001b[0;32mreturn\u001b[0m \u001b[0mfun\u001b[0m\u001b[0;34m(\u001b[0m\u001b[0;34m*\u001b[0m\u001b[0margs\u001b[0m\u001b[0;34m,\u001b[0m \u001b[0;34m**\u001b[0m\u001b[0mkwargs\u001b[0m\u001b[0;34m)\u001b[0m\u001b[0;34m\u001b[0m\u001b[0;34m\u001b[0m\u001b[0m\n\u001b[0m\u001b[1;32m    164\u001b[0m     \u001b[0;32mexcept\u001b[0m \u001b[0mException\u001b[0m \u001b[0;32mas\u001b[0m \u001b[0me\u001b[0m\u001b[0;34m:\u001b[0m\u001b[0;34m\u001b[0m\u001b[0;34m\u001b[0m\u001b[0m\n",
            "\u001b[0;32m/usr/local/lib/python3.9/dist-packages/jax/_src/pjit.py\u001b[0m in \u001b[0;36mcache_miss\u001b[0;34m(*args, **kwargs)\u001b[0m\n\u001b[1;32m    236\u001b[0m   \u001b[0;32mdef\u001b[0m \u001b[0mcache_miss\u001b[0m\u001b[0;34m(\u001b[0m\u001b[0;34m*\u001b[0m\u001b[0margs\u001b[0m\u001b[0;34m,\u001b[0m \u001b[0;34m**\u001b[0m\u001b[0mkwargs\u001b[0m\u001b[0;34m)\u001b[0m\u001b[0;34m:\u001b[0m\u001b[0;34m\u001b[0m\u001b[0;34m\u001b[0m\u001b[0m\n\u001b[0;32m--> 237\u001b[0;31m     outs, out_flat, out_tree, args_flat = _python_pjit_helper(\n\u001b[0m\u001b[1;32m    238\u001b[0m         fun, infer_params_fn, *args, **kwargs)\n",
            "\u001b[0;32m/usr/local/lib/python3.9/dist-packages/jax/_src/pjit.py\u001b[0m in \u001b[0;36m_python_pjit_helper\u001b[0;34m(fun, infer_params_fn, *args, **kwargs)\u001b[0m\n\u001b[1;32m    179\u001b[0m \u001b[0;32mdef\u001b[0m \u001b[0m_python_pjit_helper\u001b[0m\u001b[0;34m(\u001b[0m\u001b[0mfun\u001b[0m\u001b[0;34m,\u001b[0m \u001b[0minfer_params_fn\u001b[0m\u001b[0;34m,\u001b[0m \u001b[0;34m*\u001b[0m\u001b[0margs\u001b[0m\u001b[0;34m,\u001b[0m \u001b[0;34m**\u001b[0m\u001b[0mkwargs\u001b[0m\u001b[0;34m)\u001b[0m\u001b[0;34m:\u001b[0m\u001b[0;34m\u001b[0m\u001b[0;34m\u001b[0m\u001b[0m\n\u001b[0;32m--> 180\u001b[0;31m   args_flat, _, params, in_tree, out_tree, _ = infer_params_fn(\n\u001b[0m\u001b[1;32m    181\u001b[0m       *args, **kwargs)\n",
            "\u001b[0;32m/usr/local/lib/python3.9/dist-packages/jax/_src/api.py\u001b[0m in \u001b[0;36minfer_params\u001b[0;34m(*args, **kwargs)\u001b[0m\n\u001b[1;32m    442\u001b[0m           inline=inline, resource_env=None)\n\u001b[0;32m--> 443\u001b[0;31m       \u001b[0;32mreturn\u001b[0m \u001b[0mpjit\u001b[0m\u001b[0;34m.\u001b[0m\u001b[0mcommon_infer_params\u001b[0m\u001b[0;34m(\u001b[0m\u001b[0mpjit_info_args\u001b[0m\u001b[0;34m,\u001b[0m \u001b[0;34m*\u001b[0m\u001b[0margs\u001b[0m\u001b[0;34m,\u001b[0m \u001b[0;34m**\u001b[0m\u001b[0mkwargs\u001b[0m\u001b[0;34m)\u001b[0m\u001b[0;34m\u001b[0m\u001b[0;34m\u001b[0m\u001b[0m\n\u001b[0m\u001b[1;32m    444\u001b[0m \u001b[0;34m\u001b[0m\u001b[0m\n",
            "\u001b[0;32m/usr/local/lib/python3.9/dist-packages/jax/_src/pjit.py\u001b[0m in \u001b[0;36mcommon_infer_params\u001b[0;34m(***failed resolving arguments***)\u001b[0m\n\u001b[1;32m    519\u001b[0m \u001b[0;34m\u001b[0m\u001b[0m\n\u001b[0;32m--> 520\u001b[0;31m   jaxpr, consts, canonicalized_out_shardings_flat = _pjit_jaxpr(\n\u001b[0m\u001b[1;32m    521\u001b[0m       \u001b[0mflat_fun\u001b[0m\u001b[0;34m,\u001b[0m \u001b[0mhashable_pytree\u001b[0m\u001b[0;34m(\u001b[0m\u001b[0mout_shardings\u001b[0m\u001b[0;34m)\u001b[0m\u001b[0;34m,\u001b[0m \u001b[0mglobal_in_avals\u001b[0m\u001b[0;34m,\u001b[0m\u001b[0;34m\u001b[0m\u001b[0;34m\u001b[0m\u001b[0m\n",
            "\u001b[0;32m/usr/local/lib/python3.9/dist-packages/jax/_src/linear_util.py\u001b[0m in \u001b[0;36mmemoized_fun\u001b[0;34m(fun, *args)\u001b[0m\n\u001b[1;32m    300\u001b[0m     \u001b[0;32melse\u001b[0m\u001b[0;34m:\u001b[0m\u001b[0;34m\u001b[0m\u001b[0;34m\u001b[0m\u001b[0m\n\u001b[0;32m--> 301\u001b[0;31m       \u001b[0mans\u001b[0m \u001b[0;34m=\u001b[0m \u001b[0mcall\u001b[0m\u001b[0;34m(\u001b[0m\u001b[0mfun\u001b[0m\u001b[0;34m,\u001b[0m \u001b[0;34m*\u001b[0m\u001b[0margs\u001b[0m\u001b[0;34m)\u001b[0m\u001b[0;34m\u001b[0m\u001b[0;34m\u001b[0m\u001b[0m\n\u001b[0m\u001b[1;32m    302\u001b[0m       \u001b[0mcache\u001b[0m\u001b[0;34m[\u001b[0m\u001b[0mkey\u001b[0m\u001b[0;34m]\u001b[0m \u001b[0;34m=\u001b[0m \u001b[0;34m(\u001b[0m\u001b[0mans\u001b[0m\u001b[0;34m,\u001b[0m \u001b[0mfun\u001b[0m\u001b[0;34m.\u001b[0m\u001b[0mstores\u001b[0m\u001b[0;34m)\u001b[0m\u001b[0;34m\u001b[0m\u001b[0;34m\u001b[0m\u001b[0m\n",
            "\u001b[0;32m/usr/local/lib/python3.9/dist-packages/jax/_src/pjit.py\u001b[0m in \u001b[0;36m_pjit_jaxpr\u001b[0;34m(fun, out_shardings_thunk, global_in_avals, out_tree, api_name)\u001b[0m\n\u001b[1;32m    931\u001b[0m                                     event=dispatch.JAXPR_TRACE_EVENT):\n\u001b[0;32m--> 932\u001b[0;31m       jaxpr, global_out_avals, consts = pe.trace_to_jaxpr_dynamic(\n\u001b[0m\u001b[1;32m    933\u001b[0m           fun, global_in_avals, debug_info=pe.debug_info_final(fun, api_name))\n",
            "\u001b[0;32m/usr/local/lib/python3.9/dist-packages/jax/_src/profiler.py\u001b[0m in \u001b[0;36mwrapper\u001b[0;34m(*args, **kwargs)\u001b[0m\n\u001b[1;32m    313\u001b[0m     \u001b[0;32mwith\u001b[0m \u001b[0mTraceAnnotation\u001b[0m\u001b[0;34m(\u001b[0m\u001b[0mname\u001b[0m\u001b[0;34m,\u001b[0m \u001b[0;34m**\u001b[0m\u001b[0mdecorator_kwargs\u001b[0m\u001b[0;34m)\u001b[0m\u001b[0;34m:\u001b[0m\u001b[0;34m\u001b[0m\u001b[0;34m\u001b[0m\u001b[0m\n\u001b[0;32m--> 314\u001b[0;31m       \u001b[0;32mreturn\u001b[0m \u001b[0mfunc\u001b[0m\u001b[0;34m(\u001b[0m\u001b[0;34m*\u001b[0m\u001b[0margs\u001b[0m\u001b[0;34m,\u001b[0m \u001b[0;34m**\u001b[0m\u001b[0mkwargs\u001b[0m\u001b[0;34m)\u001b[0m\u001b[0;34m\u001b[0m\u001b[0;34m\u001b[0m\u001b[0m\n\u001b[0m\u001b[1;32m    315\u001b[0m     \u001b[0;32mreturn\u001b[0m \u001b[0mwrapper\u001b[0m\u001b[0;34m\u001b[0m\u001b[0;34m\u001b[0m\u001b[0m\n",
            "\u001b[0;32m/usr/local/lib/python3.9/dist-packages/jax/interpreters/partial_eval.py\u001b[0m in \u001b[0;36mtrace_to_jaxpr_dynamic\u001b[0;34m(fun, in_avals, debug_info, keep_inputs)\u001b[0m\n\u001b[1;32m   1984\u001b[0m     \u001b[0mmain\u001b[0m\u001b[0;34m.\u001b[0m\u001b[0mjaxpr_stack\u001b[0m \u001b[0;34m=\u001b[0m \u001b[0;34m(\u001b[0m\u001b[0;34m)\u001b[0m  \u001b[0;31m# type: ignore\u001b[0m\u001b[0;34m\u001b[0m\u001b[0;34m\u001b[0m\u001b[0m\n\u001b[0;32m-> 1985\u001b[0;31m     jaxpr, out_avals, consts = trace_to_subjaxpr_dynamic(\n\u001b[0m\u001b[1;32m   1986\u001b[0m       fun, main, in_avals, keep_inputs=keep_inputs, debug_info=debug_info)\n",
            "\u001b[0;32m/usr/local/lib/python3.9/dist-packages/jax/interpreters/partial_eval.py\u001b[0m in \u001b[0;36mtrace_to_subjaxpr_dynamic\u001b[0;34m(fun, main, in_avals, keep_inputs, debug_info)\u001b[0m\n\u001b[1;32m   2001\u001b[0m     \u001b[0min_tracers_\u001b[0m \u001b[0;34m=\u001b[0m \u001b[0;34m[\u001b[0m\u001b[0mt\u001b[0m \u001b[0;32mfor\u001b[0m \u001b[0mt\u001b[0m\u001b[0;34m,\u001b[0m \u001b[0mkeep\u001b[0m \u001b[0;32min\u001b[0m \u001b[0mzip\u001b[0m\u001b[0;34m(\u001b[0m\u001b[0min_tracers\u001b[0m\u001b[0;34m,\u001b[0m \u001b[0mkeep_inputs\u001b[0m\u001b[0;34m)\u001b[0m \u001b[0;32mif\u001b[0m \u001b[0mkeep\u001b[0m\u001b[0;34m]\u001b[0m\u001b[0;34m\u001b[0m\u001b[0;34m\u001b[0m\u001b[0m\n\u001b[0;32m-> 2002\u001b[0;31m     \u001b[0mans\u001b[0m \u001b[0;34m=\u001b[0m \u001b[0mfun\u001b[0m\u001b[0;34m.\u001b[0m\u001b[0mcall_wrapped\u001b[0m\u001b[0;34m(\u001b[0m\u001b[0;34m*\u001b[0m\u001b[0min_tracers_\u001b[0m\u001b[0;34m)\u001b[0m\u001b[0;34m\u001b[0m\u001b[0;34m\u001b[0m\u001b[0m\n\u001b[0m\u001b[1;32m   2003\u001b[0m     \u001b[0mout_tracers\u001b[0m \u001b[0;34m=\u001b[0m \u001b[0mmap\u001b[0m\u001b[0;34m(\u001b[0m\u001b[0mtrace\u001b[0m\u001b[0;34m.\u001b[0m\u001b[0mfull_raise\u001b[0m\u001b[0;34m,\u001b[0m \u001b[0mans\u001b[0m\u001b[0;34m)\u001b[0m\u001b[0;34m\u001b[0m\u001b[0;34m\u001b[0m\u001b[0m\n",
            "\u001b[0;32m/usr/local/lib/python3.9/dist-packages/jax/_src/linear_util.py\u001b[0m in \u001b[0;36mcall_wrapped\u001b[0;34m(self, *args, **kwargs)\u001b[0m\n\u001b[1;32m    164\u001b[0m     \u001b[0;32mtry\u001b[0m\u001b[0;34m:\u001b[0m\u001b[0;34m\u001b[0m\u001b[0;34m\u001b[0m\u001b[0m\n\u001b[0;32m--> 165\u001b[0;31m       \u001b[0mans\u001b[0m \u001b[0;34m=\u001b[0m \u001b[0mself\u001b[0m\u001b[0;34m.\u001b[0m\u001b[0mf\u001b[0m\u001b[0;34m(\u001b[0m\u001b[0;34m*\u001b[0m\u001b[0margs\u001b[0m\u001b[0;34m,\u001b[0m \u001b[0;34m**\u001b[0m\u001b[0mdict\u001b[0m\u001b[0;34m(\u001b[0m\u001b[0mself\u001b[0m\u001b[0;34m.\u001b[0m\u001b[0mparams\u001b[0m\u001b[0;34m,\u001b[0m \u001b[0;34m**\u001b[0m\u001b[0mkwargs\u001b[0m\u001b[0;34m)\u001b[0m\u001b[0;34m)\u001b[0m\u001b[0;34m\u001b[0m\u001b[0;34m\u001b[0m\u001b[0m\n\u001b[0m\u001b[1;32m    166\u001b[0m     \u001b[0;32mexcept\u001b[0m\u001b[0;34m:\u001b[0m\u001b[0;34m\u001b[0m\u001b[0;34m\u001b[0m\u001b[0m\n",
            "\u001b[0;32m<ipython-input-40-ae4680b93359>\u001b[0m in \u001b[0;36mf\u001b[0;34m(x)\u001b[0m\n\u001b[1;32m      3\u001b[0m \u001b[0;32mdef\u001b[0m \u001b[0mf\u001b[0m\u001b[0;34m(\u001b[0m\u001b[0mx\u001b[0m\u001b[0;34m)\u001b[0m\u001b[0;34m:\u001b[0m\u001b[0;34m\u001b[0m\u001b[0;34m\u001b[0m\u001b[0m\n\u001b[0;32m----> 4\u001b[0;31m   \u001b[0;32mreturn\u001b[0m \u001b[0mx\u001b[0m\u001b[0;34m.\u001b[0m\u001b[0mreshape\u001b[0m\u001b[0;34m(\u001b[0m\u001b[0mjnp\u001b[0m\u001b[0;34m.\u001b[0m\u001b[0marray\u001b[0m\u001b[0;34m(\u001b[0m\u001b[0mx\u001b[0m\u001b[0;34m.\u001b[0m\u001b[0mshape\u001b[0m\u001b[0;34m)\u001b[0m\u001b[0;34m.\u001b[0m\u001b[0mprod\u001b[0m\u001b[0;34m(\u001b[0m\u001b[0;34m)\u001b[0m\u001b[0;34m)\u001b[0m\u001b[0;34m\u001b[0m\u001b[0;34m\u001b[0m\u001b[0m\n\u001b[0m\u001b[1;32m      5\u001b[0m \u001b[0;34m\u001b[0m\u001b[0m\n",
            "\u001b[0;32m/usr/local/lib/python3.9/dist-packages/jax/_src/numpy/lax_numpy.py\u001b[0m in \u001b[0;36m_reshape\u001b[0;34m(a, order, *args)\u001b[0m\n\u001b[1;32m    805\u001b[0m   \"\"\"\n\u001b[0;32m--> 806\u001b[0;31m   \u001b[0mnewshape\u001b[0m \u001b[0;34m=\u001b[0m \u001b[0m_compute_newshape\u001b[0m\u001b[0;34m(\u001b[0m\u001b[0ma\u001b[0m\u001b[0;34m,\u001b[0m \u001b[0margs\u001b[0m\u001b[0;34m[\u001b[0m\u001b[0;36m0\u001b[0m\u001b[0;34m]\u001b[0m \u001b[0;32mif\u001b[0m \u001b[0mlen\u001b[0m\u001b[0;34m(\u001b[0m\u001b[0margs\u001b[0m\u001b[0;34m)\u001b[0m \u001b[0;34m==\u001b[0m \u001b[0;36m1\u001b[0m \u001b[0;32melse\u001b[0m \u001b[0margs\u001b[0m\u001b[0;34m)\u001b[0m\u001b[0;34m\u001b[0m\u001b[0;34m\u001b[0m\u001b[0m\n\u001b[0m\u001b[1;32m    807\u001b[0m   \u001b[0;32mif\u001b[0m \u001b[0morder\u001b[0m \u001b[0;34m==\u001b[0m \u001b[0;34m\"C\"\u001b[0m\u001b[0;34m:\u001b[0m\u001b[0;34m\u001b[0m\u001b[0;34m\u001b[0m\u001b[0m\n",
            "\u001b[0;32m/usr/local/lib/python3.9/dist-packages/jax/_src/numpy/lax_numpy.py\u001b[0m in \u001b[0;36m_compute_newshape\u001b[0;34m(a, newshape)\u001b[0m\n\u001b[1;32m    782\u001b[0m     \u001b[0miterable\u001b[0m \u001b[0;34m=\u001b[0m \u001b[0;32mTrue\u001b[0m\u001b[0;34m\u001b[0m\u001b[0;34m\u001b[0m\u001b[0m\n\u001b[0;32m--> 783\u001b[0;31m   \u001b[0mnewshape\u001b[0m \u001b[0;34m=\u001b[0m \u001b[0mcore\u001b[0m\u001b[0;34m.\u001b[0m\u001b[0mcanonicalize_shape\u001b[0m\u001b[0;34m(\u001b[0m\u001b[0mnewshape\u001b[0m \u001b[0;32mif\u001b[0m \u001b[0miterable\u001b[0m \u001b[0;32melse\u001b[0m \u001b[0;34m[\u001b[0m\u001b[0mnewshape\u001b[0m\u001b[0;34m]\u001b[0m\u001b[0;34m)\u001b[0m  \u001b[0;31m# type: ignore[arg-type]\u001b[0m\u001b[0;34m\u001b[0m\u001b[0;34m\u001b[0m\u001b[0m\n\u001b[0m\u001b[1;32m    784\u001b[0m   return tuple(- core.divide_shape_sizes(np.shape(a), newshape)\n",
            "\u001b[0;32m/usr/local/lib/python3.9/dist-packages/jax/_src/core.py\u001b[0m in \u001b[0;36mcanonicalize_shape\u001b[0;34m(shape, context)\u001b[0m\n\u001b[1;32m   2005\u001b[0m     \u001b[0;32mpass\u001b[0m\u001b[0;34m\u001b[0m\u001b[0;34m\u001b[0m\u001b[0m\n\u001b[0;32m-> 2006\u001b[0;31m   \u001b[0;32mraise\u001b[0m \u001b[0m_invalid_shape_error\u001b[0m\u001b[0;34m(\u001b[0m\u001b[0mshape\u001b[0m\u001b[0;34m,\u001b[0m \u001b[0mcontext\u001b[0m\u001b[0;34m)\u001b[0m\u001b[0;34m\u001b[0m\u001b[0;34m\u001b[0m\u001b[0m\n\u001b[0m\u001b[1;32m   2007\u001b[0m \u001b[0;34m\u001b[0m\u001b[0m\n",
            "\u001b[0;31mUnfilteredStackTrace\u001b[0m: TypeError: Shapes must be 1D sequences of concrete values of integer type, got [Traced<ShapedArray(int32[])>with<DynamicJaxprTrace(level=1/0)>].\nIf using `jit`, try using `static_argnums` or applying `jit` to smaller subfunctions.\nThe error occurred while tracing the function f at <ipython-input-40-ae4680b93359>:2 for jit. This value became a tracer due to JAX operations on these lines:\n\n  operation a:i32[2] = convert_element_type[new_dtype=int32 weak_type=False] b\n    from line <ipython-input-40-ae4680b93359>:4 (f)\n\nThe stack trace below excludes JAX-internal frames.\nThe preceding is the original exception that occurred, unmodified.\n\n--------------------",
            "\nThe above exception was the direct cause of the following exception:\n",
            "\u001b[0;31mTypeError\u001b[0m                                 Traceback (most recent call last)",
            "\u001b[0;32m<ipython-input-40-ae4680b93359>\u001b[0m in \u001b[0;36m<module>\u001b[0;34m\u001b[0m\n\u001b[1;32m      5\u001b[0m \u001b[0;34m\u001b[0m\u001b[0m\n\u001b[1;32m      6\u001b[0m \u001b[0mx\u001b[0m \u001b[0;34m=\u001b[0m \u001b[0mjnp\u001b[0m\u001b[0;34m.\u001b[0m\u001b[0mones\u001b[0m\u001b[0;34m(\u001b[0m\u001b[0;34m(\u001b[0m\u001b[0;36m2\u001b[0m\u001b[0;34m,\u001b[0m \u001b[0;36m3\u001b[0m\u001b[0;34m)\u001b[0m\u001b[0;34m)\u001b[0m\u001b[0;34m\u001b[0m\u001b[0;34m\u001b[0m\u001b[0m\n\u001b[0;32m----> 7\u001b[0;31m \u001b[0mf\u001b[0m\u001b[0;34m(\u001b[0m\u001b[0mx\u001b[0m\u001b[0;34m)\u001b[0m\u001b[0;34m\u001b[0m\u001b[0;34m\u001b[0m\u001b[0m\n\u001b[0m",
            "\u001b[0;32m<ipython-input-40-ae4680b93359>\u001b[0m in \u001b[0;36mf\u001b[0;34m(x)\u001b[0m\n\u001b[1;32m      2\u001b[0m \u001b[0;34m@\u001b[0m\u001b[0mjit\u001b[0m\u001b[0;34m\u001b[0m\u001b[0;34m\u001b[0m\u001b[0m\n\u001b[1;32m      3\u001b[0m \u001b[0;32mdef\u001b[0m \u001b[0mf\u001b[0m\u001b[0;34m(\u001b[0m\u001b[0mx\u001b[0m\u001b[0;34m)\u001b[0m\u001b[0;34m:\u001b[0m\u001b[0;34m\u001b[0m\u001b[0;34m\u001b[0m\u001b[0m\n\u001b[0;32m----> 4\u001b[0;31m   \u001b[0;32mreturn\u001b[0m \u001b[0mx\u001b[0m\u001b[0;34m.\u001b[0m\u001b[0mreshape\u001b[0m\u001b[0;34m(\u001b[0m\u001b[0mjnp\u001b[0m\u001b[0;34m.\u001b[0m\u001b[0marray\u001b[0m\u001b[0;34m(\u001b[0m\u001b[0mx\u001b[0m\u001b[0;34m.\u001b[0m\u001b[0mshape\u001b[0m\u001b[0;34m)\u001b[0m\u001b[0;34m.\u001b[0m\u001b[0mprod\u001b[0m\u001b[0;34m(\u001b[0m\u001b[0;34m)\u001b[0m\u001b[0;34m)\u001b[0m\u001b[0;34m\u001b[0m\u001b[0;34m\u001b[0m\u001b[0m\n\u001b[0m\u001b[1;32m      5\u001b[0m \u001b[0;34m\u001b[0m\u001b[0m\n\u001b[1;32m      6\u001b[0m \u001b[0mx\u001b[0m \u001b[0;34m=\u001b[0m \u001b[0mjnp\u001b[0m\u001b[0;34m.\u001b[0m\u001b[0mones\u001b[0m\u001b[0;34m(\u001b[0m\u001b[0;34m(\u001b[0m\u001b[0;36m2\u001b[0m\u001b[0;34m,\u001b[0m \u001b[0;36m3\u001b[0m\u001b[0;34m)\u001b[0m\u001b[0;34m)\u001b[0m\u001b[0;34m\u001b[0m\u001b[0;34m\u001b[0m\u001b[0m\n",
            "\u001b[0;32m/usr/local/lib/python3.9/dist-packages/jax/_src/numpy/lax_numpy.py\u001b[0m in \u001b[0;36m_reshape\u001b[0;34m(a, order, *args)\u001b[0m\n\u001b[1;32m    804\u001b[0m   \u001b[0mRefer\u001b[0m \u001b[0mto\u001b[0m \u001b[0;34m:\u001b[0m\u001b[0mfunc\u001b[0m\u001b[0;34m:\u001b[0m\u001b[0;31m`\u001b[0m\u001b[0mjax\u001b[0m\u001b[0;34m.\u001b[0m\u001b[0mnumpy\u001b[0m\u001b[0;34m.\u001b[0m\u001b[0mreshape\u001b[0m\u001b[0;31m`\u001b[0m \u001b[0;32mfor\u001b[0m \u001b[0mfull\u001b[0m \u001b[0mdocumentation\u001b[0m\u001b[0;34m.\u001b[0m\u001b[0;34m\u001b[0m\u001b[0;34m\u001b[0m\u001b[0m\n\u001b[1;32m    805\u001b[0m   \"\"\"\n\u001b[0;32m--> 806\u001b[0;31m   \u001b[0mnewshape\u001b[0m \u001b[0;34m=\u001b[0m \u001b[0m_compute_newshape\u001b[0m\u001b[0;34m(\u001b[0m\u001b[0ma\u001b[0m\u001b[0;34m,\u001b[0m \u001b[0margs\u001b[0m\u001b[0;34m[\u001b[0m\u001b[0;36m0\u001b[0m\u001b[0;34m]\u001b[0m \u001b[0;32mif\u001b[0m \u001b[0mlen\u001b[0m\u001b[0;34m(\u001b[0m\u001b[0margs\u001b[0m\u001b[0;34m)\u001b[0m \u001b[0;34m==\u001b[0m \u001b[0;36m1\u001b[0m \u001b[0;32melse\u001b[0m \u001b[0margs\u001b[0m\u001b[0;34m)\u001b[0m\u001b[0;34m\u001b[0m\u001b[0;34m\u001b[0m\u001b[0m\n\u001b[0m\u001b[1;32m    807\u001b[0m   \u001b[0;32mif\u001b[0m \u001b[0morder\u001b[0m \u001b[0;34m==\u001b[0m \u001b[0;34m\"C\"\u001b[0m\u001b[0;34m:\u001b[0m\u001b[0;34m\u001b[0m\u001b[0;34m\u001b[0m\u001b[0m\n\u001b[1;32m    808\u001b[0m     \u001b[0;32mreturn\u001b[0m \u001b[0mlax\u001b[0m\u001b[0;34m.\u001b[0m\u001b[0mreshape\u001b[0m\u001b[0;34m(\u001b[0m\u001b[0ma\u001b[0m\u001b[0;34m,\u001b[0m \u001b[0mnewshape\u001b[0m\u001b[0;34m,\u001b[0m \u001b[0;32mNone\u001b[0m\u001b[0;34m)\u001b[0m\u001b[0;34m\u001b[0m\u001b[0;34m\u001b[0m\u001b[0m\n",
            "\u001b[0;32m/usr/local/lib/python3.9/dist-packages/jax/_src/numpy/lax_numpy.py\u001b[0m in \u001b[0;36m_compute_newshape\u001b[0;34m(a, newshape)\u001b[0m\n\u001b[1;32m    781\u001b[0m   \u001b[0;32melse\u001b[0m\u001b[0;34m:\u001b[0m\u001b[0;34m\u001b[0m\u001b[0;34m\u001b[0m\u001b[0m\n\u001b[1;32m    782\u001b[0m     \u001b[0miterable\u001b[0m \u001b[0;34m=\u001b[0m \u001b[0;32mTrue\u001b[0m\u001b[0;34m\u001b[0m\u001b[0;34m\u001b[0m\u001b[0m\n\u001b[0;32m--> 783\u001b[0;31m   \u001b[0mnewshape\u001b[0m \u001b[0;34m=\u001b[0m \u001b[0mcore\u001b[0m\u001b[0;34m.\u001b[0m\u001b[0mcanonicalize_shape\u001b[0m\u001b[0;34m(\u001b[0m\u001b[0mnewshape\u001b[0m \u001b[0;32mif\u001b[0m \u001b[0miterable\u001b[0m \u001b[0;32melse\u001b[0m \u001b[0;34m[\u001b[0m\u001b[0mnewshape\u001b[0m\u001b[0;34m]\u001b[0m\u001b[0;34m)\u001b[0m  \u001b[0;31m# type: ignore[arg-type]\u001b[0m\u001b[0;34m\u001b[0m\u001b[0;34m\u001b[0m\u001b[0m\n\u001b[0m\u001b[1;32m    784\u001b[0m   return tuple(- core.divide_shape_sizes(np.shape(a), newshape)\n\u001b[1;32m    785\u001b[0m                \u001b[0;32mif\u001b[0m \u001b[0mcore\u001b[0m\u001b[0;34m.\u001b[0m\u001b[0msymbolic_equal_dim\u001b[0m\u001b[0;34m(\u001b[0m\u001b[0md\u001b[0m\u001b[0;34m,\u001b[0m \u001b[0;34m-\u001b[0m\u001b[0;36m1\u001b[0m\u001b[0;34m)\u001b[0m \u001b[0;32melse\u001b[0m \u001b[0md\u001b[0m\u001b[0;34m\u001b[0m\u001b[0;34m\u001b[0m\u001b[0m\n",
            "\u001b[0;31mTypeError\u001b[0m: Shapes must be 1D sequences of concrete values of integer type, got [Traced<ShapedArray(int32[])>with<DynamicJaxprTrace(level=1/0)>].\nIf using `jit`, try using `static_argnums` or applying `jit` to smaller subfunctions.\nThe error occurred while tracing the function f at <ipython-input-40-ae4680b93359>:2 for jit. This value became a tracer due to JAX operations on these lines:\n\n  operation a:i32[2] = convert_element_type[new_dtype=int32 weak_type=False] b\n    from line <ipython-input-40-ae4680b93359>:4 (f)"
          ]
        }
      ]
    },
    {
      "cell_type": "code",
      "metadata": {
        "colab": {
          "base_uri": "https://localhost:8080/"
        },
        "id": "VJvDFfDpX6mN",
        "outputId": "8e826efc-3f77-4e31-b323-033046306c35"
      },
      "source": [
        "# To understand why, it is good practice to print which is traced and which is not\n",
        "@jit\n",
        "def f(x):\n",
        "  print(f\"x = {x}\")\n",
        "  print(f\"x.shape = {x.shape}\")\n",
        "  print(f\"jnp.array(x.shape).prod() = {jnp.array(x.shape).prod()}\")\n",
        "  # comment this out to avoid the error:\n",
        "  # return x.reshape(jnp.array(x.shape).prod())\n",
        "\n",
        "f(x)"
      ],
      "execution_count": 41,
      "outputs": [
        {
          "output_type": "stream",
          "name": "stdout",
          "text": [
            "x = Traced<ShapedArray(float32[2,3])>with<DynamicJaxprTrace(level=1/0)>\n",
            "x.shape = (2, 3)\n",
            "jnp.array(x.shape).prod() = Traced<ShapedArray(int32[])>with<DynamicJaxprTrace(level=1/0)>\n"
          ]
        }
      ]
    },
    {
      "cell_type": "code",
      "metadata": {
        "colab": {
          "base_uri": "https://localhost:8080/"
        },
        "id": "W0zr9zfCYJAs",
        "outputId": "26691957-b1db-4ada-91cf-b0af9f507068"
      },
      "source": [
        "# Just replace it with numpy solves the problem\n",
        "@jit\n",
        "def f(x):\n",
        "  return x.reshape((np.prod(x.shape),))\n",
        "\n",
        "f(x)"
      ],
      "execution_count": 42,
      "outputs": [
        {
          "output_type": "execute_result",
          "data": {
            "text/plain": [
              "Array([1., 1., 1., 1., 1., 1.], dtype=float32)"
            ]
          },
          "metadata": {},
          "execution_count": 42
        }
      ]
    },
    {
      "cell_type": "markdown",
      "metadata": {
        "id": "BLJ-UGubYdVu"
      },
      "source": [
        "### Control flow"
      ]
    },
    {
      "cell_type": "code",
      "metadata": {
        "id": "pLSSm-YZN_6Y"
      },
      "source": [
        "# lax.cond is equivalent to \n",
        "# def cond(pred, true_fun, false_fun, operand):\n",
        "#   if pred:\n",
        "#     return true_fun(operand)\n",
        "#   else:\n",
        "#     return false_fun(operand)"
      ],
      "execution_count": null,
      "outputs": []
    },
    {
      "cell_type": "code",
      "metadata": {
        "id": "waSjfvAdYQ7x"
      },
      "source": [
        "@jit\n",
        "def f(x, neg):\n",
        "  return lax.cond(neg, \n",
        "                  lambda inp: inp, \n",
        "                  lambda inp: -inp, \n",
        "                  x)\n",
        "print(f(x, True))\n",
        "print(f(x, False))"
      ],
      "execution_count": null,
      "outputs": []
    },
    {
      "cell_type": "code",
      "metadata": {
        "id": "a5cZh30280hy"
      },
      "source": [
        "# The definition of scan\n",
        "# def scan(f, init, xs, length=None):\n",
        "#   if xs is None:\n",
        "#     xs = [None] * length\n",
        "#   carry = init\n",
        "#   ys = []\n",
        "#   for x in xs:\n",
        "#     carry, y = f(carry, x)\n",
        "#     ys.append(y)\n",
        "#   return carry, np.stack(ys)\n",
        "\n",
        "# Example: [1,2,3,4,5,6,7,8,9,10]\n",
        "# f = lambda x, y:x+y, x+y\n",
        "# init = 0\n",
        "# xs = [1,2,3,4,5,6,7,8,9,10]\n",
        "# carry = 0\n",
        "# ys = []\n",
        "# carry, y = 1, 1\n",
        "# ys = [1]\n",
        "# carry, y = 3, 3\n",
        "# ys = [1,3]\n",
        "# And the code continues"
      ],
      "execution_count": null,
      "outputs": []
    },
    {
      "cell_type": "code",
      "metadata": {
        "id": "2mw0mreGZNo4"
      },
      "source": [
        "# Exercise: rewrite the following code using scan\n",
        "def cum(x):\n",
        "    for i in range(10):\n",
        "        x+=10\n",
        "    return x"
      ],
      "execution_count": null,
      "outputs": []
    },
    {
      "cell_type": "code",
      "metadata": {
        "id": "fVCupsvrOUaT"
      },
      "source": [
        "def cum_v2(x):\n",
        "    def func_inner(inp, y):\n",
        "        return inp+10, None\n",
        "    return lax.scan(func_inner, x, None, 10)"
      ],
      "execution_count": null,
      "outputs": []
    },
    {
      "cell_type": "code",
      "metadata": {
        "id": "XZYEAFxPOdwQ"
      },
      "source": [
        "cum_v2(0)"
      ],
      "execution_count": null,
      "outputs": []
    },
    {
      "cell_type": "markdown",
      "metadata": {
        "id": "sJml5XvZbaV1"
      },
      "source": [
        "## PyTree"
      ]
    },
    {
      "cell_type": "code",
      "metadata": {
        "colab": {
          "base_uri": "https://localhost:8080/"
        },
        "id": "EXyvB92GZh23",
        "outputId": "6adb02e1-aa98-44a9-ec35-7a1aabdb55a9"
      },
      "source": [
        "list_of_lists = [\n",
        "    [1, 2, 3],\n",
        "    [1, 2],\n",
        "    [1, 2, 3, 4]\n",
        "]\n",
        "\n",
        "jax.tree_map(lambda x: x*2, list_of_lists)\n"
      ],
      "execution_count": 45,
      "outputs": [
        {
          "output_type": "execute_result",
          "data": {
            "text/plain": [
              "[[2, 4, 6], [2, 4], [2, 4, 6, 8]]"
            ]
          },
          "metadata": {},
          "execution_count": 45
        }
      ]
    },
    {
      "cell_type": "code",
      "metadata": {
        "colab": {
          "base_uri": "https://localhost:8080/"
        },
        "id": "JsdaJfQ2bojG",
        "outputId": "df00f206-ef3b-483a-f537-15158ebabc7b"
      },
      "source": [
        "another_list_of_lists = list_of_lists\n",
        "jax.tree_map(lambda x, y: x+y*2, list_of_lists, another_list_of_lists)"
      ],
      "execution_count": 46,
      "outputs": [
        {
          "output_type": "execute_result",
          "data": {
            "text/plain": [
              "[[3, 6, 9], [3, 6], [3, 6, 9, 12]]"
            ]
          },
          "metadata": {},
          "execution_count": 46
        }
      ]
    },
    {
      "cell_type": "markdown",
      "metadata": {
        "id": "drorqBoCewgg"
      },
      "source": [
        "## vmap and pmap"
      ]
    },
    {
      "cell_type": "code",
      "metadata": {
        "id": "xFaDIFrIdVym"
      },
      "source": [
        "def predict(W, b, input_vec):\n",
        "    activations = input_vec\n",
        "    outputs = jnp.dot(W, activations) + b  # `input_vec` on the right-hand side!\n",
        "    activations = jnp.tanh(outputs)\n",
        "    return outputs"
      ],
      "execution_count": 47,
      "outputs": []
    },
    {
      "cell_type": "code",
      "metadata": {
        "id": "KaQINSchgjpP",
        "colab": {
          "base_uri": "https://localhost:8080/"
        },
        "outputId": "f844f26d-2f78-4dcb-9e06-f73adf327bfd"
      },
      "source": [
        "from jax import vmap\n",
        "W, b = jnp.ones((10, 5)), jnp.ones(1)\n",
        "input_batch = jnp.ones((64,5))\n",
        "predictions = vmap(predict, in_axes=(None, None, 0))(W, b, input_batch)\n",
        "print(predictions)"
      ],
      "execution_count": 48,
      "outputs": [
        {
          "output_type": "stream",
          "name": "stdout",
          "text": [
            "[[6. 6. 6. 6. 6. 6. 6. 6. 6. 6.]\n",
            " [6. 6. 6. 6. 6. 6. 6. 6. 6. 6.]\n",
            " [6. 6. 6. 6. 6. 6. 6. 6. 6. 6.]\n",
            " [6. 6. 6. 6. 6. 6. 6. 6. 6. 6.]\n",
            " [6. 6. 6. 6. 6. 6. 6. 6. 6. 6.]\n",
            " [6. 6. 6. 6. 6. 6. 6. 6. 6. 6.]\n",
            " [6. 6. 6. 6. 6. 6. 6. 6. 6. 6.]\n",
            " [6. 6. 6. 6. 6. 6. 6. 6. 6. 6.]\n",
            " [6. 6. 6. 6. 6. 6. 6. 6. 6. 6.]\n",
            " [6. 6. 6. 6. 6. 6. 6. 6. 6. 6.]\n",
            " [6. 6. 6. 6. 6. 6. 6. 6. 6. 6.]\n",
            " [6. 6. 6. 6. 6. 6. 6. 6. 6. 6.]\n",
            " [6. 6. 6. 6. 6. 6. 6. 6. 6. 6.]\n",
            " [6. 6. 6. 6. 6. 6. 6. 6. 6. 6.]\n",
            " [6. 6. 6. 6. 6. 6. 6. 6. 6. 6.]\n",
            " [6. 6. 6. 6. 6. 6. 6. 6. 6. 6.]\n",
            " [6. 6. 6. 6. 6. 6. 6. 6. 6. 6.]\n",
            " [6. 6. 6. 6. 6. 6. 6. 6. 6. 6.]\n",
            " [6. 6. 6. 6. 6. 6. 6. 6. 6. 6.]\n",
            " [6. 6. 6. 6. 6. 6. 6. 6. 6. 6.]\n",
            " [6. 6. 6. 6. 6. 6. 6. 6. 6. 6.]\n",
            " [6. 6. 6. 6. 6. 6. 6. 6. 6. 6.]\n",
            " [6. 6. 6. 6. 6. 6. 6. 6. 6. 6.]\n",
            " [6. 6. 6. 6. 6. 6. 6. 6. 6. 6.]\n",
            " [6. 6. 6. 6. 6. 6. 6. 6. 6. 6.]\n",
            " [6. 6. 6. 6. 6. 6. 6. 6. 6. 6.]\n",
            " [6. 6. 6. 6. 6. 6. 6. 6. 6. 6.]\n",
            " [6. 6. 6. 6. 6. 6. 6. 6. 6. 6.]\n",
            " [6. 6. 6. 6. 6. 6. 6. 6. 6. 6.]\n",
            " [6. 6. 6. 6. 6. 6. 6. 6. 6. 6.]\n",
            " [6. 6. 6. 6. 6. 6. 6. 6. 6. 6.]\n",
            " [6. 6. 6. 6. 6. 6. 6. 6. 6. 6.]\n",
            " [6. 6. 6. 6. 6. 6. 6. 6. 6. 6.]\n",
            " [6. 6. 6. 6. 6. 6. 6. 6. 6. 6.]\n",
            " [6. 6. 6. 6. 6. 6. 6. 6. 6. 6.]\n",
            " [6. 6. 6. 6. 6. 6. 6. 6. 6. 6.]\n",
            " [6. 6. 6. 6. 6. 6. 6. 6. 6. 6.]\n",
            " [6. 6. 6. 6. 6. 6. 6. 6. 6. 6.]\n",
            " [6. 6. 6. 6. 6. 6. 6. 6. 6. 6.]\n",
            " [6. 6. 6. 6. 6. 6. 6. 6. 6. 6.]\n",
            " [6. 6. 6. 6. 6. 6. 6. 6. 6. 6.]\n",
            " [6. 6. 6. 6. 6. 6. 6. 6. 6. 6.]\n",
            " [6. 6. 6. 6. 6. 6. 6. 6. 6. 6.]\n",
            " [6. 6. 6. 6. 6. 6. 6. 6. 6. 6.]\n",
            " [6. 6. 6. 6. 6. 6. 6. 6. 6. 6.]\n",
            " [6. 6. 6. 6. 6. 6. 6. 6. 6. 6.]\n",
            " [6. 6. 6. 6. 6. 6. 6. 6. 6. 6.]\n",
            " [6. 6. 6. 6. 6. 6. 6. 6. 6. 6.]\n",
            " [6. 6. 6. 6. 6. 6. 6. 6. 6. 6.]\n",
            " [6. 6. 6. 6. 6. 6. 6. 6. 6. 6.]\n",
            " [6. 6. 6. 6. 6. 6. 6. 6. 6. 6.]\n",
            " [6. 6. 6. 6. 6. 6. 6. 6. 6. 6.]\n",
            " [6. 6. 6. 6. 6. 6. 6. 6. 6. 6.]\n",
            " [6. 6. 6. 6. 6. 6. 6. 6. 6. 6.]\n",
            " [6. 6. 6. 6. 6. 6. 6. 6. 6. 6.]\n",
            " [6. 6. 6. 6. 6. 6. 6. 6. 6. 6.]\n",
            " [6. 6. 6. 6. 6. 6. 6. 6. 6. 6.]\n",
            " [6. 6. 6. 6. 6. 6. 6. 6. 6. 6.]\n",
            " [6. 6. 6. 6. 6. 6. 6. 6. 6. 6.]\n",
            " [6. 6. 6. 6. 6. 6. 6. 6. 6. 6.]\n",
            " [6. 6. 6. 6. 6. 6. 6. 6. 6. 6.]\n",
            " [6. 6. 6. 6. 6. 6. 6. 6. 6. 6.]\n",
            " [6. 6. 6. 6. 6. 6. 6. 6. 6. 6.]\n",
            " [6. 6. 6. 6. 6. 6. 6. 6. 6. 6.]]\n"
          ]
        }
      ]
    },
    {
      "cell_type": "markdown",
      "metadata": {
        "id": "nO056dEl63O2"
      },
      "source": [
        "# Implement Autograd using Jax"
      ]
    },
    {
      "cell_type": "markdown",
      "metadata": {
        "id": "-I_jKATQ8JzP"
      },
      "source": [
        "## Autograd basics\n",
        "---\n",
        "In general, since we only care about autograd function, we only need to define the so-called Jacobian-vector product (jvp). To understand what is jvp, consider the following approximation of an arbitrary function.\n",
        "\n",
        "$f(x+v) \\approx f(x) + \\partial f v$.\n",
        "\n",
        "Here, $\\partial f v$ is the jvp. In most cases, it suffices to to define jvp in order to get complete autograd machenism to work. \n",
        "\n"
      ]
    },
    {
      "cell_type": "code",
      "metadata": {
        "id": "z_KxScDq8Qcb"
      },
      "source": [
        "def toy1(w, b):\n",
        "    return jnp.dot(w, b).sum()"
      ],
      "execution_count": 49,
      "outputs": []
    },
    {
      "cell_type": "code",
      "metadata": {
        "colab": {
          "base_uri": "https://localhost:8080/"
        },
        "id": "TXVA1BU28f4M",
        "outputId": "8b800e58-e8e4-479f-f04a-2a3cf575349d"
      },
      "source": [
        "w = jnp.ones((3, 3))\n",
        "b = jnp.ones(3)\n",
        "\n",
        "toy1(w, b)"
      ],
      "execution_count": 50,
      "outputs": [
        {
          "output_type": "execute_result",
          "data": {
            "text/plain": [
              "Array(9., dtype=float32)"
            ]
          },
          "metadata": {},
          "execution_count": 50
        }
      ]
    },
    {
      "cell_type": "code",
      "metadata": {
        "colab": {
          "base_uri": "https://localhost:8080/"
        },
        "id": "s32azv2l80AP",
        "outputId": "4ae22f6a-3916-49b4-a116-c1c118a982e8"
      },
      "source": [
        "from jax import grad, value_and_grad\n",
        "print(grad(toy1)(w, b))"
      ],
      "execution_count": 51,
      "outputs": [
        {
          "output_type": "stream",
          "name": "stdout",
          "text": [
            "[[1. 1. 1.]\n",
            " [1. 1. 1.]\n",
            " [1. 1. 1.]]\n"
          ]
        }
      ]
    },
    {
      "cell_type": "code",
      "metadata": {
        "colab": {
          "base_uri": "https://localhost:8080/"
        },
        "id": "YVM0emuF9AZ6",
        "outputId": "99460df4-9f38-474e-f3fb-96dfbe60999e"
      },
      "source": [
        "print(grad(toy1, (0, ))(w, b))"
      ],
      "execution_count": 52,
      "outputs": [
        {
          "output_type": "stream",
          "name": "stdout",
          "text": [
            "(Array([[1., 1., 1.],\n",
            "       [1., 1., 1.],\n",
            "       [1., 1., 1.]], dtype=float32),)\n"
          ]
        }
      ]
    },
    {
      "cell_type": "code",
      "metadata": {
        "colab": {
          "base_uri": "https://localhost:8080/"
        },
        "id": "5_kYqXIZ9DrW",
        "outputId": "ff3028b9-fa4d-47d1-b886-35b0c6b3807c"
      },
      "source": [
        "print(grad(toy1, (1, ))(w, b))"
      ],
      "execution_count": 53,
      "outputs": [
        {
          "output_type": "stream",
          "name": "stdout",
          "text": [
            "(Array([3., 3., 3.], dtype=float32),)\n"
          ]
        }
      ]
    },
    {
      "cell_type": "code",
      "metadata": {
        "colab": {
          "base_uri": "https://localhost:8080/"
        },
        "id": "2gmlZ1VR9Xdw",
        "outputId": "8b51fc9e-45bc-4ebb-a2d0-3d38d53186fd"
      },
      "source": [
        "print(grad(toy1, (0, 1))(w, b))"
      ],
      "execution_count": 54,
      "outputs": [
        {
          "output_type": "stream",
          "name": "stdout",
          "text": [
            "(Array([[1., 1., 1.],\n",
            "       [1., 1., 1.],\n",
            "       [1., 1., 1.]], dtype=float32), Array([3., 3., 3.], dtype=float32))\n"
          ]
        }
      ]
    },
    {
      "cell_type": "code",
      "metadata": {
        "colab": {
          "base_uri": "https://localhost:8080/"
        },
        "id": "o4Qret5M9hgr",
        "outputId": "94700ec6-75e8-4a0a-c1a6-612d03764a2d"
      },
      "source": [
        "# A more convenient way is to define the dictionaries. \n",
        "def toy2(params):\n",
        "    return jnp.dot(params['w'], params['b']).sum()\n",
        "\n",
        "params = dict()\n",
        "params['w'] = w\n",
        "params['b'] = b\n",
        "\n",
        "print(toy2(params))"
      ],
      "execution_count": 55,
      "outputs": [
        {
          "output_type": "stream",
          "name": "stdout",
          "text": [
            "9.0\n"
          ]
        }
      ]
    },
    {
      "cell_type": "code",
      "metadata": {
        "colab": {
          "base_uri": "https://localhost:8080/"
        },
        "id": "U_oO-4vv9uOt",
        "outputId": "4d9e8375-7b75-47ee-b1c6-f68f33e7767f"
      },
      "source": [
        "print(grad(toy2)(params))"
      ],
      "execution_count": 56,
      "outputs": [
        {
          "output_type": "stream",
          "name": "stdout",
          "text": [
            "{'b': Array([3., 3., 3.], dtype=float32), 'w': Array([[1., 1., 1.],\n",
            "       [1., 1., 1.],\n",
            "       [1., 1., 1.]], dtype=float32)}\n"
          ]
        }
      ]
    },
    {
      "cell_type": "markdown",
      "metadata": {
        "id": "JBWruMzJ_jiw"
      },
      "source": [
        "## Defining our own autograd functions"
      ]
    },
    {
      "cell_type": "code",
      "metadata": {
        "id": "FHfajJrq_i0I"
      },
      "source": [
        "from jax import custom_jvp\n",
        "\n",
        "### This is the original function \n",
        "@custom_jvp\n",
        "def log1pexp(x):\n",
        "  return jnp.log(1. + jnp.exp(x))\n",
        "\n",
        "### This is the definition of custom jvp \n",
        "@log1pexp.defjvp\n",
        "def log1pexp_jvp(primals, tangents):\n",
        "  x, = primals # This is the original input\n",
        "  x_dot, = tangents # This is the tangents associated with x\n",
        "  ans = log1pexp(x) # The function value\n",
        "  ans_dot = (1 - 1/(1 + jnp.exp(x))) * x_dot # The derivative w.r.t. to times the tangets of x\n",
        "  return ans, ans_dot"
      ],
      "execution_count": 57,
      "outputs": []
    },
    {
      "cell_type": "markdown",
      "metadata": {
        "id": "S98uqya3_7hP"
      },
      "source": [
        "## Entmax-$\\alpha$ implementation\n",
        "_________________________________\n",
        "\n",
        "This comes from [this paper](https://arxiv.org/pdf/1912.11637.pdf)."
      ]
    },
    {
      "cell_type": "code",
      "metadata": {
        "id": "WadJHsFtA5Z4"
      },
      "source": [
        "### The first idea is to try it without any JIT\n",
        "\n",
        "\n",
        "import jax.numpy as jnp\n",
        "from jax import grad, jit, value_and_grad\n",
        "from jax import vmap, pmap\n",
        "from jax import random\n",
        "import jax\n",
        "from jax import lax\n",
        "from jax import custom_jvp\n",
        "\n",
        "def p_tau(z, tau, alpha=1.5):\n",
        "    return jnp.clip((alpha - 1) * z - tau, 0) ** (1 / (alpha - 1))\n",
        "\n",
        "\n",
        "def get_tau(tau, tau_max, tau_min, z_value):\n",
        "    return lax.cond(z_value < 1,\n",
        "                    lambda _: (tau, tau_min),\n",
        "                    lambda _: (tau_max, tau),\n",
        "                    operand=None\n",
        "                    )\n",
        "    \n",
        "def body(kwargs, x):\n",
        "    tau_min = kwargs['tau_min']\n",
        "    tau_max = kwargs['tau_max']\n",
        "    z = kwargs['z']\n",
        "    alpha = kwargs['alpha']\n",
        "\n",
        "    tau = (tau_min + tau_max) / 2\n",
        "    z_value = p_tau(z, tau, alpha).sum()\n",
        "    taus = get_tau(tau, tau_max, tau_min, z_value)\n",
        "    tau_max, tau_min = taus[0], taus[1]\n",
        "    return {'tau_min': tau_min, 'tau_max': tau_max, 'z': z, 'alpha': alpha}, None\n",
        "\n",
        "def map_row(z_input, alpha, T):\n",
        "    z = (alpha - 1) * z_input\n",
        "\n",
        "    tau_min, tau_max = jnp.min(z) - 1, jnp.max(z) - z.shape[0] ** (1 - alpha)\n",
        "    result, _ = lax.scan(body, {'tau_min': tau_min, 'tau_max': tau_max, 'z': z, 'alpha': alpha}, xs=None,\n",
        "                         length=T)\n",
        "    tau = (result['tau_max'] + result['tau_min']) / 2\n",
        "    result = p_tau(z, tau, alpha)\n",
        "    return result / result.sum()\n",
        "\n",
        "def _entmax(input, axis=-1, alpha=1.5, T=20):\n",
        "    result = vmap(lambda z: map_row(z, alpha, T), axis)(input) ## Pay attention here!\n",
        "    return result\n",
        "\n",
        "def entmax(input, axis=-1, alpha=1.5, T=10):\n",
        "    return _entmax(input, axis, alpha, T)\n",
        "\n"
      ],
      "execution_count": 59,
      "outputs": []
    },
    {
      "cell_type": "code",
      "metadata": {
        "id": "ebdvAmZhCoKS",
        "colab": {
          "base_uri": "https://localhost:8080/"
        },
        "outputId": "e897cc85-b5fb-416c-c721-20a7d6518d35"
      },
      "source": [
        "import numpy as np\n",
        "input = jnp.array(np.random.randn(64, 10)).block_until_ready()\n",
        "weight = jnp.array(np.random.randn(64, 10)).block_until_ready()\n",
        "\n",
        "def toy(input, weight):\n",
        "    return (weight*entmax(input, 0, 1.5, 20)).sum()\n",
        "\n",
        "toy(input, weight)"
      ],
      "execution_count": 60,
      "outputs": [
        {
          "output_type": "execute_result",
          "data": {
            "text/plain": [
              "Array(-7.328603, dtype=float32)"
            ]
          },
          "metadata": {},
          "execution_count": 60
        }
      ]
    },
    {
      "cell_type": "code",
      "metadata": {
        "id": "6J9uK60MCa7m"
      },
      "source": [
        "### The second step is to do it without JIT\n",
        "\n",
        "@partial(custom_jvp, nondiff_argnums=(1, 2, 3,))\n",
        "def entmax(input, axis=-1, alpha=1.5, T=10):\n",
        "    return _entmax(input, axis, alpha, T)\n",
        "\n",
        "def _entmax_jvp_impl(axis, alpha, T, primals, tangents):\n",
        "    input = primals[0]\n",
        "    Y = entmax(input, axis, alpha, T)\n",
        "    gppr = Y  ** (2 - alpha)\n",
        "    grad_output = tangents[0]\n",
        "    dX = grad_output * gppr\n",
        "    q = dX.sum(axis=axis) / gppr.sum(axis=axis)\n",
        "    q = jnp.expand_dims(q, axis=axis)\n",
        "    dX -= q * gppr\n",
        "    return Y, dX\n",
        "\n",
        "\n",
        "@entmax.defjvp\n",
        "def entmax_jvp(axis, alpha, T, primals, tangents):\n",
        "    return _entmax_jvp_impl(axis, alpha, T, primals, tangents)"
      ],
      "execution_count": 63,
      "outputs": []
    },
    {
      "cell_type": "code",
      "metadata": {
        "id": "9b2l7VmZCZp2",
        "colab": {
          "base_uri": "https://localhost:8080/"
        },
        "outputId": "1373de77-788a-4241-dad5-4b99cd555c7f"
      },
      "source": [
        "import numpy as np\n",
        "input = jnp.array(np.random.randn(64, 10)).block_until_ready()\n",
        "weight = jnp.array(np.random.randn(64, 10)).block_until_ready()\n",
        "\n",
        "def toy(input, weight):\n",
        "    return (weight*entmax(input, 0, 1.5, 20)).sum()\n",
        "\n",
        "value_and_grad(toy)(input, weight)"
      ],
      "execution_count": 64,
      "outputs": [
        {
          "output_type": "execute_result",
          "data": {
            "text/plain": [
              "(Array(9.618575, dtype=float32),\n",
              " Array([[ 0.0163976 , -0.10273282,  0.06469838,  0.01347553, -0.5293114 ,\n",
              "         -0.        ,  0.05213852, -0.18185703,  0.10476619, -0.16644944],\n",
              "        [ 0.15140419, -0.11494707,  0.28096712, -0.06867173,  0.        ,\n",
              "         -0.28615507,  0.        ,  0.02768484,  0.00857848,  0.19686379],\n",
              "        [ 0.0899851 ,  0.17949833, -0.15484603,  0.15318573,  0.35233545,\n",
              "          0.        ,  0.09586761, -0.01077976, -0.00738061, -0.12621234],\n",
              "        [-0.22487909,  0.04021792,  0.19407374,  0.6367048 ,  0.10712407,\n",
              "         -0.27746785, -0.2437227 , -0.11114511,  0.09989041, -0.00346325],\n",
              "        [ 1.0118692 ,  0.35418448, -0.08551174, -1.0712987 ,  0.3389108 ,\n",
              "         -0.03183718, -0.        , -0.        , -0.1114131 , -0.        ],\n",
              "        [ 0.        , -0.20795597,  0.11889306,  0.16654454,  0.00884845,\n",
              "         -0.        , -0.        ,  0.91167074,  0.5254332 , -0.8373338 ],\n",
              "        [-0.00269561, -0.        ,  0.55038655, -0.10957966,  0.5481675 ,\n",
              "          0.59075665, -0.01265087,  0.        ,  0.05672435, -0.12122965],\n",
              "        [-0.05664847, -0.08165648, -0.10492459, -0.00769718, -0.11888881,\n",
              "         -0.31583482, -0.29794613, -0.2837864 ,  0.05740099, -0.17282553],\n",
              "        [-0.06912632,  0.        ,  0.64310515, -0.0245477 ,  0.9829124 ,\n",
              "          0.10109629,  0.        ,  0.        ,  0.        ,  0.12869829],\n",
              "        [ 0.        ,  0.07129033, -0.        , -0.        , -0.00681335,\n",
              "         -0.5198743 , -0.09566691, -0.00322671, -0.3092611 , -0.12917843],\n",
              "        [-0.42262274,  0.28827363,  0.23231441, -0.37196004, -0.        ,\n",
              "          0.        , -0.08641153,  0.56463367, -0.08944265,  0.05984345],\n",
              "        [ 0.        , -0.24532463, -0.        , -0.03409997,  0.27872065,\n",
              "         -0.2628565 ,  0.        , -0.        , -0.15336028,  0.        ],\n",
              "        [-1.0157852 , -0.33340892,  0.04563202, -0.        , -0.        ,\n",
              "          0.5606869 , -0.08269179, -0.        ,  0.        ,  0.        ],\n",
              "        [-0.0031102 , -0.16543196,  0.21845265,  0.06847895,  0.03950143,\n",
              "         -0.09204138,  0.15302522, -0.        , -0.03340243,  0.23520836],\n",
              "        [ 0.        ,  0.16867247, -0.62113625, -0.11820748,  0.1067057 ,\n",
              "         -0.2503761 , -0.22983688, -0.16301116, -0.10501999,  0.        ],\n",
              "        [ 0.32840547, -0.01227187, -0.        , -0.15003018, -0.        ,\n",
              "          0.        , -0.33237138, -0.6498506 ,  0.55729204,  0.        ],\n",
              "        [-0.39647573, -0.04774212, -0.04478244, -0.5918039 ,  0.1171635 ,\n",
              "         -0.47878823,  0.03037552, -0.40045634,  0.14076328,  0.35139745],\n",
              "        [-0.2381804 , -0.10116807, -0.06079476, -0.06634728,  0.1054507 ,\n",
              "         -0.24135928,  0.4039861 , -0.02834791, -0.4056454 , -0.22063485],\n",
              "        [ 0.085062  ,  0.14640199, -0.        ,  0.4818017 ,  0.10715206,\n",
              "          0.1416659 ,  0.11994837,  0.21397229, -0.1847947 , -0.08166203],\n",
              "        [-0.86211747,  0.10451752, -0.20648456,  0.34112525, -0.23483093,\n",
              "          0.34877652, -0.2718154 ,  0.13577035,  0.34784463,  0.        ],\n",
              "        [-0.08192635, -0.11125199, -0.        , -0.33784032,  0.28363374,\n",
              "         -0.04985653, -0.57856035,  0.06507232,  0.        , -0.13970175],\n",
              "        [ 0.14978282,  0.01676081, -0.04966867,  0.01794407,  0.19354798,\n",
              "         -0.0914326 , -0.14747033,  0.        ,  0.3262234 ,  0.        ],\n",
              "        [-0.29289097,  0.264946  , -0.8912124 , -0.12933634,  0.24294412,\n",
              "         -0.21701908, -0.07502536,  0.03611494, -1.3111761 , -0.        ],\n",
              "        [-0.41530448, -0.30780002, -0.08723629,  0.06498063, -0.14228185,\n",
              "         -0.        , -0.34828156,  0.09162362, -0.19716126,  0.49032652],\n",
              "        [ 0.13182716, -0.        , -0.        , -0.15102617, -0.9384057 ,\n",
              "         -0.0578774 , -0.        , -0.06263884, -0.01522342,  0.        ],\n",
              "        [ 0.0146336 ,  0.19232582, -0.07375874, -0.0676906 , -0.0545961 ,\n",
              "         -0.03044965,  0.        ,  0.1186363 ,  0.30706233, -0.        ],\n",
              "        [ 0.61800873, -0.13187581, -0.07556232, -0.        ,  0.        ,\n",
              "         -0.0162302 , -0.        , -0.05435387,  0.11694343,  0.1877992 ],\n",
              "        [-0.27024108, -0.43437928,  0.20788215,  0.25250977,  1.3601199 ,\n",
              "         -0.0020393 , -0.50744164,  0.40320078, -0.03862472, -0.15787625],\n",
              "        [ 0.10895908, -0.61590165,  0.6776529 ,  0.01305593, -0.20450014,\n",
              "         -0.17318326,  0.        , -0.20574835, -0.17971914, -0.06018027],\n",
              "        [ 0.711593  ,  0.        ,  0.        , -0.53361756,  0.35482547,\n",
              "          0.2774863 ,  0.15423653,  0.43473944, -0.01921216,  0.645699  ],\n",
              "        [-0.42928743, -0.05395215,  0.        ,  0.2980355 ,  0.10764743,\n",
              "          0.6264623 , -0.05127554,  0.03193838, -0.11200888, -0.00491432],\n",
              "        [-0.15973416, -0.41592604,  0.12440885,  0.2318126 , -0.42462948,\n",
              "         -0.03469071,  0.7900596 , -0.        , -0.03254144,  0.08860933],\n",
              "        [ 0.02453149,  0.32395405,  0.43136004,  0.07183336, -0.067207  ,\n",
              "          0.9485773 ,  0.        ,  0.        , -0.6757787 , -0.06680158],\n",
              "        [ 0.00538148,  0.41879085,  0.25406638,  0.06773219, -0.09844215,\n",
              "          0.        , -0.01977608, -0.8998653 ,  0.        , -0.03733782],\n",
              "        [-0.1118978 , -0.15082243, -0.05171724,  0.22654961,  0.        ,\n",
              "         -0.34997565,  0.5259629 , -0.00552025, -0.        ,  0.        ],\n",
              "        [-0.        ,  0.23705533,  0.08289628,  0.11798309, -0.71587795,\n",
              "         -0.2006512 ,  0.13150969,  0.31269884, -0.16229074, -0.01072601],\n",
              "        [ 0.02672785, -0.07886565, -0.059072  , -0.05490166, -0.        ,\n",
              "         -0.70541316,  0.        ,  0.43821904,  0.00903763,  0.12049612],\n",
              "        [ 0.08070514,  0.        ,  0.13831292, -0.34837827, -0.33494124,\n",
              "         -0.11954021, -0.05163465, -0.12550433, -1.4486251 ,  0.15669651],\n",
              "        [ 0.        , -0.24915743, -0.        ,  0.32994953,  0.17684104,\n",
              "          0.18679628,  0.65942293, -0.02459379, -0.        , -0.16433655],\n",
              "        [ 0.5431242 ,  0.03878364, -0.0181219 , -0.03573707,  0.10747271,\n",
              "          0.00234509, -0.        , -0.        ,  0.        , -0.4974665 ],\n",
              "        [-0.06580523, -0.        , -0.33848056, -0.15906225, -0.82744855,\n",
              "          0.26572144,  0.27331144, -0.14168693, -0.        ,  0.        ],\n",
              "        [-1.0005536 ,  0.16884744, -0.02667481,  0.        , -0.47256497,\n",
              "          0.08027116,  0.        , -0.        , -0.29061458,  0.        ],\n",
              "        [ 0.2043887 , -0.06339788, -0.19414866, -0.20330909,  0.        ,\n",
              "          0.02030569,  1.2624478 , -0.01137913,  1.3713392 ,  0.4825031 ],\n",
              "        [-0.05138374, -0.25543314,  0.23959108,  0.19828974,  0.5967146 ,\n",
              "          0.09051947, -0.26320532,  0.7264174 ,  0.07447854,  0.16909364],\n",
              "        [-0.        , -0.09549022,  0.10744283, -0.03418202, -0.01501086,\n",
              "          0.14993721, -0.16002889,  0.17944682,  0.8881068 ,  0.        ],\n",
              "        [-0.        , -0.00282573, -0.37691143, -0.        , -0.04393018,\n",
              "          0.13805184,  0.        ,  0.17098968,  1.1064528 , -0.0068745 ],\n",
              "        [ 0.11096417,  0.21705486, -0.13652037, -0.08104971,  0.01551599,\n",
              "          0.41039607,  0.5982083 , -0.1357216 ,  0.23285651, -0.12534532],\n",
              "        [-0.        , -0.07395924,  0.        ,  0.44548446,  0.30292526,\n",
              "         -0.7209686 ,  0.24074386,  0.        , -0.        ,  0.46385202],\n",
              "        [-0.03967573,  0.09249862,  0.04355348, -0.        , -1.3629643 ,\n",
              "          0.30784902, -0.        , -0.2015173 ,  0.17805825,  0.6365321 ],\n",
              "        [ 0.049502  ,  0.0162949 , -0.07139682, -0.02911033, -0.75011796,\n",
              "         -0.23661694,  0.09343478, -0.26902825, -0.09281218, -0.04018242],\n",
              "        [ 0.8182707 , -0.06800961, -0.40563878,  0.04258092, -0.        ,\n",
              "          0.02447247,  0.        ,  0.        , -0.11915749, -0.9155141 ],\n",
              "        [-0.17149702,  0.        ,  0.3136379 , -0.38515264,  0.        ,\n",
              "          0.03082381,  0.        ,  0.03238656, -0.00642186,  0.4145074 ],\n",
              "        [-0.13058743, -0.31398907, -0.        ,  0.        , -0.3394344 ,\n",
              "         -0.19645451, -0.2635798 , -0.203954  , -0.4521918 , -0.54589045],\n",
              "        [ 0.        ,  0.5827461 , -0.14833571,  0.34461227,  0.        ,\n",
              "          0.        , -0.73846036,  0.06560999,  0.04456571, -0.01051867],\n",
              "        [-0.01573115, -0.3887179 , -0.09085664, -0.41034943,  0.17192733,\n",
              "          0.04789355,  1.1242079 , -0.80281   ,  0.0717852 ,  0.02602689],\n",
              "        [ 0.03420731, -0.2913835 , -0.5714646 ,  0.66802853,  0.04405833,\n",
              "          0.        ,  0.13745064,  0.00282783,  0.11874646, -0.23340486],\n",
              "        [ 0.        , -0.01450779,  0.19782333,  0.        ,  0.58899605,\n",
              "         -0.        ,  0.735291  ,  0.47960255, -0.35778397,  0.        ],\n",
              "        [ 0.18612853,  0.5334818 , -0.        ,  0.14453353, -0.03098631,\n",
              "          0.12597938,  0.09180418, -0.09465079, -0.28354222,  0.03165437],\n",
              "        [ 0.63711536, -0.        ,  0.153412  , -0.        , -0.11043733,\n",
              "          0.16490994, -0.84059024,  0.        , -0.        , -0.17010616],\n",
              "        [ 0.        ,  0.11103972,  0.33721554, -0.        ,  0.34594637,\n",
              "         -0.08547709,  0.2484998 , -0.07854842, -0.04591119,  0.01580728],\n",
              "        [ 0.        , -0.07277957, -0.39051762,  0.38615227, -0.        ,\n",
              "         -0.        , -1.0069242 , -0.01505339,  0.17504182,  0.5433221 ],\n",
              "        [ 0.4710436 ,  0.7850842 , -0.29626703,  0.        ,  0.13281165,\n",
              "         -0.        , -0.56840664, -0.08857808, -0.        , -0.02871512],\n",
              "        [ 0.03403013,  0.10804798, -0.27443224, -0.13824359, -0.0305603 ,\n",
              "          0.1531203 , -0.49359426, -0.14947164, -0.        , -0.20032936],\n",
              "        [-0.11589163,  0.14229695,  0.24869663, -0.07015377, -0.2647392 ,\n",
              "          0.24956597, -0.15456411, -0.04017108,  0.32112542, -0.16972564]],      dtype=float32))"
            ]
          },
          "metadata": {},
          "execution_count": 64
        }
      ]
    },
    {
      "cell_type": "code",
      "metadata": {
        "id": "wStaavHI_6-r",
        "colab": {
          "base_uri": "https://localhost:8080/"
        },
        "outputId": "2bd9b939-fd1a-4e5b-aa9e-b7fb0866797c"
      },
      "source": [
        "import jax.numpy as jnp\n",
        "from jax import grad, jit, value_and_grad\n",
        "from jax import vmap, pmap\n",
        "from jax import random\n",
        "import jax\n",
        "from jax import lax\n",
        "from jax import custom_jvp\n",
        "\n",
        "\n",
        "def p_tau(z, tau, alpha=1.5):\n",
        "    return jnp.clip((alpha - 1) * z - tau, 0) ** (1 / (alpha - 1))\n",
        "\n",
        "\n",
        "def get_tau(tau, tau_max, tau_min, z_value):\n",
        "    return lax.cond(z_value < 1,\n",
        "                    lambda _: (tau, tau_min),\n",
        "                    lambda _: (tau_max, tau),\n",
        "                    operand=None\n",
        "                    )\n",
        "\n",
        "\n",
        "def body(kwargs, x):\n",
        "    tau_min = kwargs['tau_min']\n",
        "    tau_max = kwargs['tau_max']\n",
        "    z = kwargs['z']\n",
        "    alpha = kwargs['alpha']\n",
        "\n",
        "    tau = (tau_min + tau_max) / 2\n",
        "    z_value = p_tau(z, tau, alpha).sum()\n",
        "    taus = get_tau(tau, tau_max, tau_min, z_value)\n",
        "    tau_max, tau_min = taus[0], taus[1]\n",
        "    return {'tau_min': tau_min, 'tau_max': tau_max, 'z': z, 'alpha': alpha}, None\n",
        "\n",
        "@partial(jax.jit, static_argnums=(2,))\n",
        "def map_row(z_input, alpha, T):\n",
        "    z = (alpha - 1) * z_input\n",
        "\n",
        "    tau_min, tau_max = jnp.min(z) - 1, jnp.max(z) - z.shape[0] ** (1 - alpha)\n",
        "    result, _ = lax.scan(body, {'tau_min': tau_min, 'tau_max': tau_max, 'z': z, 'alpha': alpha}, xs=None,\n",
        "                         length=T)\n",
        "    tau = (result['tau_max'] + result['tau_min']) / 2\n",
        "    result = p_tau(z, tau, alpha)\n",
        "    return result / result.sum()\n",
        "\n",
        "@partial(jax.jit, static_argnums=(1,3,))\n",
        "def _entmax(input, axis=-1, alpha=1.5, T=20):\n",
        "    result = vmap(lambda z: map_row(z, alpha, T), axis)(input)\n",
        "    return result\n",
        "\n",
        "@partial(custom_jvp, nondiff_argnums=(1, 2, 3,))\n",
        "def entmax(input, axis=-1, alpha=1.5, T=10):\n",
        "    return _entmax(input, axis, alpha, T)\n",
        "\n",
        "@partial(jax.jit, static_argnums=(0,2,))    \n",
        "def _entmax_jvp_impl(axis, alpha, T, primals, tangents):\n",
        "    input = primals[0]\n",
        "    Y = entmax(input, axis, alpha, T)\n",
        "    gppr = Y  ** (2 - alpha)\n",
        "    grad_output = tangents[0]\n",
        "    dX = grad_output * gppr\n",
        "    q = dX.sum(axis=axis) / gppr.sum(axis=axis)\n",
        "    q = jnp.expand_dims(q, axis=axis)\n",
        "    dX -= q * gppr\n",
        "    return Y, dX\n",
        "\n",
        "\n",
        "@entmax.defjvp\n",
        "def entmax_jvp(axis, alpha, T, primals, tangents):\n",
        "    return _entmax_jvp_impl(axis, alpha, T, primals, tangents)\n",
        "\n",
        "import numpy as np\n",
        "input = jnp.array(np.random.randn(64, 10)).block_until_ready()\n",
        "weight = jnp.array(np.random.randn(64, 10)).block_until_ready()\n",
        "\n",
        "def toy(input, weight):\n",
        "    return (weight*entmax(input, 0, 1.5, 20)).sum()\n",
        "\n",
        "jax.jit(value_and_grad(toy))(input, weight)"
      ],
      "execution_count": 66,
      "outputs": [
        {
          "output_type": "execute_result",
          "data": {
            "text/plain": [
              "(Array(5.6667066, dtype=float32),\n",
              " Array([[ 5.72826028e-01, -6.89338446e-01, -2.99717970e-02,\n",
              "          1.43840790e-01, -0.00000000e+00,  2.27360785e-01,\n",
              "         -9.76727128e-01, -0.00000000e+00,  1.70223825e-02,\n",
              "          1.08865477e-01],\n",
              "        [ 4.90314923e-02, -4.86451328e-01,  5.29754572e-02,\n",
              "          4.89378944e-02,  0.00000000e+00,  0.00000000e+00,\n",
              "         -2.82343719e-02, -2.83114940e-01, -0.00000000e+00,\n",
              "          2.43406266e-01],\n",
              "        [ 0.00000000e+00, -1.47417799e-01,  1.36417411e-02,\n",
              "         -0.00000000e+00, -2.54689276e-01,  2.44241610e-01,\n",
              "          3.75806056e-02, -2.16792032e-01, -0.00000000e+00,\n",
              "         -4.15655375e-01],\n",
              "        [ 0.00000000e+00,  4.33304101e-01,  1.25181958e-01,\n",
              "         -5.59592582e-02,  2.47171968e-02,  3.68507579e-02,\n",
              "         -5.63591063e-01, -2.94631310e-02, -0.00000000e+00,\n",
              "          4.62481171e-01],\n",
              "        [-5.11221355e-03, -6.72956169e-01, -7.54861832e-01,\n",
              "         -1.49681762e-01, -1.72253639e-01, -3.39079142e-01,\n",
              "          1.49827093e-01,  0.00000000e+00, -8.80100667e-01,\n",
              "          8.59927982e-02],\n",
              "        [-0.00000000e+00,  1.53504401e-01, -7.68914968e-02,\n",
              "         -2.33949325e-03, -7.89009184e-02, -1.10308915e-01,\n",
              "         -1.97437286e-01,  2.46224515e-02, -5.18764317e-01,\n",
              "          4.32481393e-02],\n",
              "        [ 9.74674746e-02, -8.17697272e-02,  4.60782871e-02,\n",
              "          2.40846261e-01,  0.00000000e+00, -1.54069766e-01,\n",
              "          3.50389749e-01, -1.95811555e-01,  0.00000000e+00,\n",
              "         -8.51907611e-01],\n",
              "        [ 1.36152264e-02, -0.00000000e+00, -2.45895892e-01,\n",
              "          4.57176924e-01, -1.39790446e-01, -0.00000000e+00,\n",
              "          9.89073515e-03, -1.25453874e-01,  0.00000000e+00,\n",
              "          4.67952251e-01],\n",
              "        [-1.72664985e-01,  1.48563795e-02, -3.96618098e-02,\n",
              "         -8.73886347e-02,  7.97700211e-02, -1.14735641e-01,\n",
              "         -3.11943208e-04,  5.76156825e-02, -9.24733758e-01,\n",
              "         -7.84645304e-02],\n",
              "        [ 2.70740658e-01, -1.02999061e-01, -3.35038006e-01,\n",
              "          1.79212257e-01, -2.96079546e-01,  0.00000000e+00,\n",
              "         -2.14270055e-01,  1.03731364e-01,  1.94010630e-01,\n",
              "          6.01767600e-02],\n",
              "        [ 5.15635669e-01,  2.69662216e-02, -0.00000000e+00,\n",
              "         -3.48516665e-02,  0.00000000e+00,  9.33019891e-02,\n",
              "         -6.69704750e-02,  0.00000000e+00,  3.83256078e-01,\n",
              "          3.30829620e-02],\n",
              "        [ 9.81191248e-02,  0.00000000e+00, -4.28557843e-01,\n",
              "         -0.00000000e+00, -2.10591406e-02,  8.69162381e-01,\n",
              "         -7.28302538e-01,  5.38235247e-01,  1.99162662e-01,\n",
              "         -0.00000000e+00],\n",
              "        [-3.72760803e-01, -5.74057810e-02, -5.58449507e-01,\n",
              "         -0.00000000e+00,  1.24145962e-01, -8.56604651e-02,\n",
              "          4.93724830e-02,  4.21866179e-02,  5.33838272e-01,\n",
              "          8.09064269e-01],\n",
              "        [ 9.58181471e-02, -3.65558118e-01, -6.76597375e-03,\n",
              "          0.00000000e+00, -3.07192355e-01, -4.59320694e-02,\n",
              "          2.24621639e-01,  1.27446353e-01,  1.39371961e-01,\n",
              "         -0.00000000e+00],\n",
              "        [ 8.73168886e-01,  0.00000000e+00, -4.04789746e-02,\n",
              "         -3.23195048e-02, -2.24430382e-01, -0.00000000e+00,\n",
              "         -7.20720440e-02,  6.01234660e-03,  6.52560890e-02,\n",
              "          2.81128287e-01],\n",
              "        [-1.19454309e-03,  7.15731978e-01, -3.02762110e-02,\n",
              "          4.46279854e-01, -9.64981839e-02, -1.99583501e-01,\n",
              "          8.42423916e-01,  2.13585526e-01,  0.00000000e+00,\n",
              "         -1.70650229e-01],\n",
              "        [-0.00000000e+00, -3.52473632e-02, -9.27641243e-02,\n",
              "         -4.32926834e-01,  5.06784674e-03, -2.11896539e-01,\n",
              "         -1.04917902e-02,  1.13826893e-01,  1.04188919e-01,\n",
              "         -1.80248156e-01],\n",
              "        [-3.91032457e-01,  2.41622739e-02, -1.03781773e-02,\n",
              "         -2.23567411e-01, -0.00000000e+00,  1.59901947e-01,\n",
              "          0.00000000e+00,  0.00000000e+00, -2.78155711e-02,\n",
              "         -2.00281711e-03],\n",
              "        [-1.23577565e-01,  0.00000000e+00, -5.96447922e-02,\n",
              "         -1.68939188e-01,  0.00000000e+00, -1.43730193e-01,\n",
              "          3.91476490e-02,  1.60139112e-03, -1.99094459e-01,\n",
              "          6.16420284e-02],\n",
              "        [ 4.48633656e-02, -3.29574384e-02,  1.93296243e-02,\n",
              "         -8.63838568e-02, -4.70310777e-01, -0.00000000e+00,\n",
              "          4.17012013e-02, -4.60154526e-02,  2.21218109e-01,\n",
              "          8.05005193e-01],\n",
              "        [-1.57065302e-01,  1.14871733e-01,  6.62506074e-02,\n",
              "          0.00000000e+00,  7.84341097e-02,  3.23829412e-01,\n",
              "          5.33945300e-02, -9.99712348e-02, -2.51627415e-01,\n",
              "          9.55353677e-02],\n",
              "        [-7.30138481e-01,  1.70334324e-01, -2.33731583e-01,\n",
              "          0.00000000e+00, -0.00000000e+00,  1.47623494e-01,\n",
              "          1.40662819e-01, -1.38037698e-02,  1.24648251e-01,\n",
              "         -1.05615616e-01],\n",
              "        [ 6.85854116e-04, -8.29137340e-02, -1.63785130e-01,\n",
              "         -1.03034534e-01, -1.84448063e-02, -0.00000000e+00,\n",
              "         -0.00000000e+00, -2.55605698e-01,  0.00000000e+00,\n",
              "          3.19162756e-01],\n",
              "        [ 3.22762668e-01, -3.48961532e-01,  4.75234270e-01,\n",
              "          7.18484163e-01,  4.63301748e-01, -1.56260163e-01,\n",
              "         -0.00000000e+00,  5.83389141e-02,  6.81915879e-02,\n",
              "          3.88897881e-02],\n",
              "        [ 2.34755620e-01,  7.30640590e-02, -9.41963866e-02,\n",
              "         -2.64572948e-01,  4.49659407e-01, -5.20885348e-01,\n",
              "         -4.30609405e-01, -0.00000000e+00, -5.16018391e-01,\n",
              "         -0.00000000e+00],\n",
              "        [-2.56876916e-01,  4.08925146e-01,  6.09160289e-02,\n",
              "         -5.72488038e-03,  0.00000000e+00, -1.30357757e-01,\n",
              "          1.02806538e-02,  4.67925072e-01,  0.00000000e+00,\n",
              "          5.22856526e-02],\n",
              "        [ 3.18545699e-01,  3.99911344e-01,  8.96641333e-03,\n",
              "         -8.51329230e-03,  5.36519848e-02, -2.27501571e-01,\n",
              "         -8.61046687e-02, -1.69092324e-02, -8.48724693e-02,\n",
              "          6.59960151e-01],\n",
              "        [-4.06204611e-01, -6.28219247e-01,  1.92376569e-01,\n",
              "         -5.13219655e-01, -2.60339398e-02,  2.89967269e-01,\n",
              "         -9.76606011e-02,  1.37817577e-01, -1.83272019e-01,\n",
              "          3.92634511e-01],\n",
              "        [-3.85030389e-01, -0.00000000e+00,  2.11272538e-01,\n",
              "         -9.35144816e-03, -2.74265885e-01, -5.55136442e-01,\n",
              "          1.55203775e-01,  5.52739613e-02, -3.40366773e-02,\n",
              "         -3.85675281e-01],\n",
              "        [-2.15793803e-01, -5.54064289e-02,  1.13778882e-01,\n",
              "         -4.18787561e-02, -1.70772634e-02,  6.61872029e-01,\n",
              "         -1.33494735e-01,  5.12550890e-01, -2.78181940e-01,\n",
              "         -2.12451592e-01],\n",
              "        [ 0.00000000e+00, -0.00000000e+00, -5.95284939e-01,\n",
              "          1.53957736e+00,  1.05934843e-01, -0.00000000e+00,\n",
              "          1.04327276e-01, -3.68869305e-01,  0.00000000e+00,\n",
              "          3.88900399e-01],\n",
              "        [ 3.45808983e-01, -5.61368823e-01, -6.72065606e-03,\n",
              "          4.44877669e-02,  5.22318413e-04, -4.33965474e-02,\n",
              "         -1.86196238e-01, -4.45315868e-01, -3.46483320e-01,\n",
              "         -5.91562629e-01],\n",
              "        [ 2.63931602e-01, -5.65373979e-04,  4.31605130e-01,\n",
              "         -1.56512409e-01,  5.00393271e-01, -0.00000000e+00,\n",
              "         -7.43146241e-02,  4.82691586e-01,  0.00000000e+00,\n",
              "         -7.79333413e-01],\n",
              "        [-0.00000000e+00, -2.75775138e-03,  7.84013346e-02,\n",
              "          5.77771151e-03,  1.04149513e-01, -1.49858713e-01,\n",
              "          0.00000000e+00, -2.69892719e-02, -2.23621711e-01,\n",
              "         -8.74232233e-01],\n",
              "        [-3.11886370e-01,  5.97998023e-01, -2.79599875e-01,\n",
              "         -0.00000000e+00,  2.49435306e-01, -5.28233588e-01,\n",
              "          1.75273463e-01, -6.46236911e-02,  4.12275851e-01,\n",
              "         -1.56190023e-01],\n",
              "        [ 0.00000000e+00,  4.27057892e-01,  5.41313648e-01,\n",
              "         -0.00000000e+00, -0.00000000e+00, -3.38384092e-01,\n",
              "          1.71634763e-01, -2.23885447e-01, -4.58281450e-02,\n",
              "         -4.08000886e-01],\n",
              "        [-8.69032647e-03, -3.64036083e-01,  3.77342373e-01,\n",
              "          4.05817509e-01, -6.08507097e-02,  9.39582288e-02,\n",
              "         -0.00000000e+00, -1.05435699e-01, -2.48618662e-01,\n",
              "          1.73510343e-01],\n",
              "        [ 7.52749434e-03, -1.07022502e-01, -6.28737748e-01,\n",
              "          1.14377663e-02, -4.52352092e-02, -0.00000000e+00,\n",
              "         -2.55413711e-01, -7.22840289e-03, -2.20896341e-02,\n",
              "         -1.72246937e-02],\n",
              "        [ 2.68195063e-01,  1.74468774e-02,  1.13164093e-02,\n",
              "         -6.94370493e-02,  3.31648476e-02,  7.74439573e-02,\n",
              "          1.17280141e-01,  9.95969176e-01, -4.55519915e-01,\n",
              "          9.32065323e-02],\n",
              "        [ 6.18034899e-01,  8.12205151e-02, -0.00000000e+00,\n",
              "         -3.15443869e-03, -7.41171911e-02, -7.76391551e-02,\n",
              "          1.11807473e-01, -0.00000000e+00,  1.96184307e-01,\n",
              "          0.00000000e+00],\n",
              "        [-6.55372560e-01, -5.58725595e-02,  0.00000000e+00,\n",
              "         -9.83605683e-02, -0.00000000e+00, -2.02128738e-01,\n",
              "          0.00000000e+00,  1.14894964e-01,  9.78021473e-02,\n",
              "         -5.05578555e-02],\n",
              "        [ 6.72396943e-02,  1.20151497e-01,  0.00000000e+00,\n",
              "         -7.66789541e-02, -1.66373074e-01,  2.65121788e-01,\n",
              "          2.13872746e-01,  6.96665883e-01,  2.09539440e-02,\n",
              "          8.00213635e-01],\n",
              "        [-0.00000000e+00,  1.26590103e-01,  1.94320813e-01,\n",
              "         -0.00000000e+00,  3.98206949e-01, -0.00000000e+00,\n",
              "          6.56015992e-01, -0.00000000e+00,  2.44075693e-02,\n",
              "          0.00000000e+00],\n",
              "        [ 1.14069752e-01, -8.72867927e-03,  4.84035872e-02,\n",
              "          3.86563569e-01, -5.30956313e-03, -5.23411818e-02,\n",
              "         -6.27377868e-01,  0.00000000e+00,  4.94240634e-02,\n",
              "         -3.00176769e-01],\n",
              "        [ 3.18311006e-01,  3.97424400e-01, -2.48294458e-01,\n",
              "         -2.28233933e-01,  6.27239227e-01, -1.47944331e-01,\n",
              "         -5.94831288e-01, -5.44153988e-01, -2.30040044e-01,\n",
              "          1.34187877e-01],\n",
              "        [ 0.00000000e+00,  1.05439201e-01,  1.44775331e-01,\n",
              "          7.11840913e-02,  1.51001215e-01, -1.92296267e-01,\n",
              "         -1.02886893e-02,  3.38063717e-01,  1.26838475e-01,\n",
              "         -2.92592589e-02],\n",
              "        [-4.92851079e-01,  4.29982901e-01, -9.17484909e-02,\n",
              "         -8.13932419e-02, -0.00000000e+00,  2.87308663e-01,\n",
              "          2.77587742e-01,  2.55251557e-01, -7.99780115e-02,\n",
              "         -3.25330168e-01],\n",
              "        [-2.14321613e-01,  1.23867942e-02, -5.08139171e-02,\n",
              "         -2.74111569e-01, -6.82556555e-02, -5.81138395e-03,\n",
              "         -7.03941435e-02, -8.57622087e-01, -2.51982883e-02,\n",
              "         -0.00000000e+00],\n",
              "        [ 9.34926048e-02,  8.63324106e-02, -1.08284675e-01,\n",
              "         -1.95555706e-02, -2.89929956e-01,  1.04918361e-01,\n",
              "         -0.00000000e+00,  9.90166292e-02,  7.21705481e-02,\n",
              "          0.00000000e+00],\n",
              "        [-3.88066955e-02, -7.55025670e-02,  6.92338943e-01,\n",
              "         -5.40808022e-01, -0.00000000e+00, -0.00000000e+00,\n",
              "          1.15723215e-01,  1.32989004e-01, -1.87444016e-01,\n",
              "          6.84538186e-02],\n",
              "        [-3.69155824e-01, -6.24115430e-02, -4.48713601e-02,\n",
              "          1.52212068e-01,  6.52691424e-01,  2.69214101e-02,\n",
              "          1.84413865e-01,  2.51744777e-01,  2.25254804e-01,\n",
              "         -0.00000000e+00],\n",
              "        [-2.92163119e-02,  1.74668849e-01,  2.99693108e-01,\n",
              "          0.00000000e+00, -4.63150479e-02, -0.00000000e+00,\n",
              "         -0.00000000e+00, -1.46247506e-01,  0.00000000e+00,\n",
              "         -7.80953348e-01],\n",
              "        [ 5.39527297e-01, -4.00984287e-01,  1.19628742e-01,\n",
              "         -1.20431930e-01, -3.59763175e-01,  1.18440993e-01,\n",
              "          4.71659333e-01, -5.40511668e-01,  0.00000000e+00,\n",
              "         -0.00000000e+00],\n",
              "        [ 0.00000000e+00,  9.37251374e-03,  2.47040823e-01,\n",
              "         -9.86761078e-02,  2.53270343e-02,  4.51485580e-03,\n",
              "          8.13162029e-02, -2.38547847e-01,  2.36193657e-01,\n",
              "          5.34154594e-01],\n",
              "        [ 2.46732645e-02,  7.37563148e-02,  3.10293913e-01,\n",
              "          3.43644917e-02, -5.52361429e-01,  1.17945321e-01,\n",
              "         -2.03055516e-02, -0.00000000e+00, -2.63341591e-02,\n",
              "         -2.47956365e-01],\n",
              "        [-2.59399205e-01, -2.78131336e-01,  2.54336502e-02,\n",
              "          1.64825395e-01,  4.60573584e-02,  4.26992029e-01,\n",
              "          6.88152388e-02, -0.00000000e+00,  4.86355245e-01,\n",
              "         -6.79917708e-02],\n",
              "        [-2.63046801e-01, -5.01030274e-02, -0.00000000e+00,\n",
              "         -8.78418326e-01, -0.00000000e+00,  0.00000000e+00,\n",
              "         -1.23996928e-01,  3.38407829e-02,  2.79261898e-02,\n",
              "         -0.00000000e+00],\n",
              "        [-5.29387474e-01,  1.94719627e-01,  4.44945320e-02,\n",
              "          9.07080546e-02, -2.13651061e-01,  3.71648878e-01,\n",
              "         -1.08930916e-01,  9.05919969e-01,  3.99424613e-01,\n",
              "         -2.20032886e-01],\n",
              "        [ 8.25439021e-03,  2.07764730e-02,  3.76405902e-02,\n",
              "         -9.38239843e-02,  4.00881559e-01,  1.17143549e-01,\n",
              "         -8.38719383e-02, -1.67632893e-01,  1.34568080e-01,\n",
              "         -3.34499508e-01],\n",
              "        [-3.69237900e-01,  2.86745310e-01,  2.81278104e-01,\n",
              "         -1.47898614e-01,  3.19235563e-01, -3.33669297e-02,\n",
              "          0.00000000e+00, -5.17222919e-02,  2.75975436e-01,\n",
              "          1.15857995e+00],\n",
              "        [-1.20477654e-01,  0.00000000e+00, -8.90242234e-02,\n",
              "         -0.00000000e+00, -3.86677474e-01, -6.38285503e-02,\n",
              "          1.54358312e-01, -5.92295885e-01,  0.00000000e+00,\n",
              "         -1.05206482e-01],\n",
              "        [-3.24417681e-01, -9.17894319e-02, -5.82061708e-01,\n",
              "         -0.00000000e+00, -3.58516693e-01, -1.84596535e-02,\n",
              "          6.02042139e-01, -1.15520082e-01,  8.88839960e-01,\n",
              "         -1.52747795e-01],\n",
              "        [ 6.60466850e-01,  1.49174869e-01,  7.30396956e-02,\n",
              "         -4.62771170e-02,  4.22194190e-02, -0.00000000e+00,\n",
              "          6.27082512e-02, -1.00297523e+00,  5.66504290e-03,\n",
              "         -2.34875698e-02],\n",
              "        [ 3.66150439e-01, -0.00000000e+00,  5.82428038e-01,\n",
              "          1.26910061e-02,  8.91744792e-02, -2.17642784e-01,\n",
              "          8.88673514e-02,  1.46999871e-02,  5.92484549e-02,\n",
              "         -5.04306495e-01]], dtype=float32))"
            ]
          },
          "metadata": {},
          "execution_count": 66
        }
      ]
    }
  ]
}