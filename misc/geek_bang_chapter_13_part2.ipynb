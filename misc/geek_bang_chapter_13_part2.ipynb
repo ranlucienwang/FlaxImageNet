{
  "cells": [
    {
      "cell_type": "markdown",
      "metadata": {
        "id": "fyXVPXrTvCaZ"
      },
      "source": [
        "# Model Training using GPU"
      ]
    },
    {
      "cell_type": "code",
      "execution_count": null,
      "metadata": {
        "colab": {
          "base_uri": "https://localhost:8080/"
        },
        "id": "1KD5ZDSk5EeK",
        "outputId": "94501424-427b-4f79-a4d3-9c3efa056cbb"
      },
      "outputs": [
        {
          "name": "stdout",
          "output_type": "stream",
          "text": [
            "Looking in indexes: https://pypi.org/simple, https://us-python.pkg.dev/colab-wheels/public/simple/\n",
            "Requirement already satisfied: pip in /usr/local/lib/python3.9/dist-packages (22.0.4)\n",
            "Collecting pip\n",
            "  Downloading pip-23.0.1-py3-none-any.whl (2.1 MB)\n",
            "\u001b[2K     \u001b[90m━━━━━━━━━━━━━━━━━━━━━━━━━━━━━━━━━━━━━━━━\u001b[0m \u001b[32m2.1/2.1 MB\u001b[0m \u001b[31m24.1 MB/s\u001b[0m eta \u001b[36m0:00:00\u001b[0m\n",
            "\u001b[?25hInstalling collected packages: pip\n",
            "  Attempting uninstall: pip\n",
            "    Found existing installation: pip 22.0.4\n",
            "    Uninstalling pip-22.0.4:\n",
            "      Successfully uninstalled pip-22.0.4\n",
            "Successfully installed pip-23.0.1\n"
          ]
        }
      ],
      "source": [
        "!pip install --upgrade pip\n"
      ]
    },
    {
      "cell_type": "code",
      "execution_count": null,
      "metadata": {
        "colab": {
          "base_uri": "https://localhost:8080/"
        },
        "id": "djmQAT785NKG",
        "outputId": "b1c979e1-20b1-4dba-f5bc-464c78260376"
      },
      "outputs": [
        {
          "name": "stdout",
          "output_type": "stream",
          "text": [
            "Looking in indexes: https://pypi.org/simple, https://us-python.pkg.dev/colab-wheels/public/simple/\n",
            "Looking in links: https://storage.googleapis.com/jax-releases/jax_cuda_releases.html\n",
            "Requirement already satisfied: jax[cuda11_cudnn86] in /usr/local/lib/python3.9/dist-packages (0.4.4)\n",
            "Requirement already satisfied: numpy>=1.20 in /usr/local/lib/python3.9/dist-packages (from jax[cuda11_cudnn86]) (1.22.4)\n",
            "Requirement already satisfied: opt-einsum in /usr/local/lib/python3.9/dist-packages (from jax[cuda11_cudnn86]) (3.3.0)\n",
            "Requirement already satisfied: scipy>=1.5 in /usr/local/lib/python3.9/dist-packages (from jax[cuda11_cudnn86]) (1.10.1)\n",
            "Collecting jaxlib==0.4.4+cuda11.cudnn86\n",
            "  Downloading https://storage.googleapis.com/jax-releases/cuda11/jaxlib-0.4.4%2Bcuda11.cudnn86-cp39-cp39-manylinux2014_x86_64.whl (156.8 MB)\n",
            "\u001b[2K     \u001b[90m━━━━━━━━━━━━━━━━━━━━━━━━━━━━━━━━━━━━━━\u001b[0m \u001b[32m156.8/156.8 MB\u001b[0m \u001b[31m10.6 MB/s\u001b[0m eta \u001b[36m0:00:00\u001b[0m\n",
            "\u001b[?25hInstalling collected packages: jaxlib\n",
            "  Attempting uninstall: jaxlib\n",
            "    Found existing installation: jaxlib 0.4.4+cuda11.cudnn82\n",
            "    Uninstalling jaxlib-0.4.4+cuda11.cudnn82:\n",
            "      Successfully uninstalled jaxlib-0.4.4+cuda11.cudnn82\n",
            "Successfully installed jaxlib-0.4.4+cuda11.cudnn86\n",
            "\u001b[33mWARNING: Running pip as the 'root' user can result in broken permissions and conflicting behaviour with the system package manager. It is recommended to use a virtual environment instead: https://pip.pypa.io/warnings/venv\u001b[0m\u001b[33m\n",
            "\u001b[0m"
          ]
        }
      ],
      "source": [
        "!pip install \"jax[cuda11_cudnn86]\" -f https://storage.googleapis.com/jax-releases/jax_cuda_releases.html\n",
        "\n"
      ]
    },
    {
      "cell_type": "code",
      "execution_count": null,
      "metadata": {
        "colab": {
          "base_uri": "https://localhost:8080/"
        },
        "id": "Q6SfZ5FDvbgR",
        "outputId": "414f4367-c3b2-496e-81e0-d875bfb2084a"
      },
      "outputs": [
        {
          "name": "stdout",
          "output_type": "stream",
          "text": [
            "Looking in indexes: https://pypi.org/simple, https://us-python.pkg.dev/colab-wheels/public/simple/\n",
            "Collecting jaxlib==0.4.6\n",
            "  Downloading jaxlib-0.4.6-cp39-cp39-manylinux2014_x86_64.whl (62.0 MB)\n",
            "\u001b[2K     \u001b[90m━━━━━━━━━━━━━━━━━━━━━━━━━━━━━━━━━━━━━━━━\u001b[0m \u001b[32m62.0/62.0 MB\u001b[0m \u001b[31m27.6 MB/s\u001b[0m eta \u001b[36m0:00:00\u001b[0m\n",
            "\u001b[?25hRequirement already satisfied: numpy>=1.20 in /usr/local/lib/python3.9/dist-packages (from jaxlib==0.4.6) (1.22.4)\n",
            "Requirement already satisfied: scipy>=1.5 in /usr/local/lib/python3.9/dist-packages (from jaxlib==0.4.6) (1.10.1)\n",
            "Installing collected packages: jaxlib\n",
            "  Attempting uninstall: jaxlib\n",
            "    Found existing installation: jaxlib 0.4.4+cuda11.cudnn86\n",
            "    Uninstalling jaxlib-0.4.4+cuda11.cudnn86:\n",
            "      Successfully uninstalled jaxlib-0.4.4+cuda11.cudnn86\n",
            "Successfully installed jaxlib-0.4.6\n",
            "\u001b[33mWARNING: Running pip as the 'root' user can result in broken permissions and conflicting behaviour with the system package manager. It is recommended to use a virtual environment instead: https://pip.pypa.io/warnings/venv\u001b[0m\u001b[33m\n",
            "\u001b[0m"
          ]
        }
      ],
      "source": [
        "!pip install jaxlib==0.4.6 "
      ]
    },
    {
      "cell_type": "code",
      "execution_count": null,
      "metadata": {
        "colab": {
          "base_uri": "https://localhost:8080/"
        },
        "id": "qYyfwdFa7ORj",
        "outputId": "b3820274-abda-4806-9a66-0eead5b30c65"
      },
      "outputs": [
        {
          "name": "stdout",
          "output_type": "stream",
          "text": [
            "/bin/bash: -c: line 0: unexpected EOF while looking for matching ``'\n",
            "/bin/bash: -c: line 1: syntax error: unexpected end of file\n"
          ]
        }
      ],
      "source": [
        "!pip install -q ml-collections git+https://github.com/google/flax"
      ]
    },
    {
      "cell_type": "code",
      "execution_count": null,
      "metadata": {
        "colab": {
          "background_save": true,
          "base_uri": "https://localhost:8080/"
        },
        "id": "T_PBEzGm7gcF",
        "outputId": "9401104c-e8e0-466c-8f2e-dd9fe1020fdd"
      },
      "outputs": [
        {
          "name": "stdout",
          "output_type": "stream",
          "text": [
            "Looking in indexes: https://pypi.org/simple, https://us-python.pkg.dev/colab-wheels/public/simple/\n",
            "Collecting git+git://github.com/deepmind/optax.git\n",
            "  Cloning git://github.com/deepmind/optax.git to /tmp/pip-req-build-5ei3mjtr\n",
            "  Running command git clone --filter=blob:none --quiet git://github.com/deepmind/optax.git /tmp/pip-req-build-5ei3mjtr\n"
          ]
        }
      ],
      "source": [
        "!pip install git+git://github.com/deepmind/optax.git\n"
      ]
    },
    {
      "cell_type": "code",
      "execution_count": null,
      "metadata": {
        "id": "uFcPHMQ14JoO"
      },
      "outputs": [],
      "source": [
        "!pip install git+https://github.com/deepmind/dm-haiku"
      ]
    },
    {
      "cell_type": "markdown",
      "metadata": {
        "id": "ILeIEi2NwTzn"
      },
      "source": [
        "## Optional: Connect to Google Cloud so that you can use Google Bucket"
      ]
    },
    {
      "cell_type": "code",
      "execution_count": null,
      "metadata": {
        "id": "7A9-3feYwSjt"
      },
      "outputs": [],
      "source": [
        "# from google.colab import auth\n",
        "# auth.authenticate_user()"
      ]
    },
    {
      "cell_type": "code",
      "execution_count": null,
      "metadata": {
        "id": "QgBQgwjlvfyn"
      },
      "outputs": [],
      "source": [
        "# !echo \"deb http://packages.cloud.google.com/apt gcsfuse-bionic main\" > /etc/apt/sources.list.d/gcsfuse.list\n",
        "# !curl https://packages.cloud.google.com/apt/doc/apt-key.gpg | apt-key add -\n",
        "# !apt -qq update\n",
        "# !apt -qq install gcsfuse"
      ]
    },
    {
      "cell_type": "markdown",
      "metadata": {
        "id": "fNyWu-tozoty"
      },
      "source": [
        "After this you can mount Google Cloud Bucket. However, it is usually required to to convert everything to tf.record so that TPU can be fully utilized. We will not discuss this here. "
      ]
    },
    {
      "cell_type": "markdown",
      "metadata": {
        "id": "UVaGHxWH0PMo"
      },
      "source": [
        "## Use GPU to train a custom neural network\n",
        "--------------------------------------------\n",
        "Here we will use a GPU to train a custom neural network. This is majorly to simplify things. Typically, it is strongly recommend to ``copy'' source codes, typically written in PyTorch, so that no mistakes are made. "
      ]
    },
    {
      "cell_type": "code",
      "execution_count": null,
      "metadata": {
        "id": "4M-EpPXR4dfI"
      },
      "outputs": [],
      "source": [
        "import tensorflow_datasets as tfds  # TFDS for MNIST\n",
        "import tensorflow as tf             # TensorFlow operations\n",
        "\n",
        "def get_datasets(num_epochs, batch_size):\n",
        "  \"\"\"Load MNIST train and test datasets into memory.\"\"\"\n",
        "  train_ds = tfds.load('mnist', split='train')\n",
        "  test_ds = tfds.load('mnist', split='test')\n",
        "\n",
        "  train_ds = train_ds.map(lambda sample: {'image': tf.cast(sample['image'],\n",
        "                                                           tf.float32) / 255.,\n",
        "                                          'label': sample['label']}) # normalize train set\n",
        "  test_ds = test_ds.map(lambda sample: {'image': tf.cast(sample['image'],\n",
        "                                                         tf.float32) / 255.,\n",
        "                                        'label': sample['label']}) # normalize test set\n",
        "\n",
        "  train_ds = train_ds.repeat(num_epochs).shuffle(1024) # create shuffled dataset by allocating a buffer size of 1024 to randomly draw elements from\n",
        "  train_ds = train_ds.batch(batch_size, drop_remainder=True).prefetch(1) # group into batches of batch_size and skip incomplete batch, prefetch the next sample to improve latency\n",
        "  test_ds = test_ds.shuffle(1024) # create shuffled dataset by allocating a buffer size of 1024 to randomly draw elements from\n",
        "  test_ds = test_ds.batch(batch_size, drop_remainder=True).prefetch(1) # group into batches of batch_size and skip incomplete batch, prefetch the next sample to improve latency\n",
        "\n",
        "  return train_ds, test_ds"
      ]
    },
    {
      "cell_type": "code",
      "source": [
        "from flax import linen as nn  # Linen API\n",
        "\n",
        "class CNN(nn.Module):\n",
        "  \"\"\"A simple CNN model.\"\"\"\n",
        "\n",
        "  @nn.compact\n",
        "  def __call__(self, x):\n",
        "    x = nn.Conv(features=32, kernel_size=(3, 3))(x)\n",
        "    x = nn.relu(x)\n",
        "    x = nn.avg_pool(x, window_shape=(2, 2), strides=(2, 2))\n",
        "    x = nn.Conv(features=64, kernel_size=(3, 3))(x)\n",
        "    x = nn.relu(x)\n",
        "    x = nn.avg_pool(x, window_shape=(2, 2), strides=(2, 2))\n",
        "    x = x.reshape((x.shape[0], -1))  # flatten\n",
        "    x = nn.Dense(features=256)(x)\n",
        "    x = nn.relu(x)\n",
        "    x = nn.Dense(features=10)(x)\n",
        "    return x"
      ],
      "metadata": {
        "id": "sOzCfXVBDtPI"
      },
      "execution_count": null,
      "outputs": []
    },
    {
      "cell_type": "code",
      "source": [
        "import jax\n",
        "import jax.numpy as jnp  # JAX NumPy\n",
        "\n",
        "cnn = CNN()\n",
        "print(cnn.tabulate(jax.random.PRNGKey(0), jnp.ones((1, 28, 28, 1))))"
      ],
      "metadata": {
        "colab": {
          "base_uri": "https://localhost:8080/"
        },
        "id": "yMlb7lP2D08Y",
        "outputId": "f119d5ea-993b-4a48-bf27-2c2c6337886a"
      },
      "execution_count": null,
      "outputs": [
        {
          "output_type": "stream",
          "name": "stdout",
          "text": [
            "\n",
            "\u001b[3m                                  CNN Summary                                   \u001b[0m\n",
            "┏━━━━━━━━━┳━━━━━━━━┳━━━━━━━━━━━━━━━━━━━┳━━━━━━━━━━━━━━━━━━━┳━━━━━━━━━━━━━━━━━━━┓\n",
            "┃\u001b[1m \u001b[0m\u001b[1mpath   \u001b[0m\u001b[1m \u001b[0m┃\u001b[1m \u001b[0m\u001b[1mmodule\u001b[0m\u001b[1m \u001b[0m┃\u001b[1m \u001b[0m\u001b[1minputs           \u001b[0m\u001b[1m \u001b[0m┃\u001b[1m \u001b[0m\u001b[1moutputs          \u001b[0m\u001b[1m \u001b[0m┃\u001b[1m \u001b[0m\u001b[1mparams           \u001b[0m\u001b[1m \u001b[0m┃\n",
            "┡━━━━━━━━━╇━━━━━━━━╇━━━━━━━━━━━━━━━━━━━╇━━━━━━━━━━━━━━━━━━━╇━━━━━━━━━━━━━━━━━━━┩\n",
            "│         │ CNN    │ \u001b[2mfloat32\u001b[0m[1,28,28,… │ \u001b[2mfloat32\u001b[0m[1,10]     │ Conv_0:           │\n",
            "│         │        │                   │                   │   bias:           │\n",
            "│         │        │                   │                   │ \u001b[2mfloat32\u001b[0m[32]       │\n",
            "│         │        │                   │                   │   kernel:         │\n",
            "│         │        │                   │                   │ \u001b[2mfloat32\u001b[0m[3,3,1,32] │\n",
            "│         │        │                   │                   │ Conv_1:           │\n",
            "│         │        │                   │                   │   bias:           │\n",
            "│         │        │                   │                   │ \u001b[2mfloat32\u001b[0m[64]       │\n",
            "│         │        │                   │                   │   kernel:         │\n",
            "│         │        │                   │                   │ \u001b[2mfloat32\u001b[0m[3,3,32,6… │\n",
            "│         │        │                   │                   │ Dense_0:          │\n",
            "│         │        │                   │                   │   bias:           │\n",
            "│         │        │                   │                   │ \u001b[2mfloat32\u001b[0m[256]      │\n",
            "│         │        │                   │                   │   kernel:         │\n",
            "│         │        │                   │                   │ \u001b[2mfloat32\u001b[0m[3136,256] │\n",
            "│         │        │                   │                   │ Dense_1:          │\n",
            "│         │        │                   │                   │   bias:           │\n",
            "│         │        │                   │                   │ \u001b[2mfloat32\u001b[0m[10]       │\n",
            "│         │        │                   │                   │   kernel:         │\n",
            "│         │        │                   │                   │ \u001b[2mfloat32\u001b[0m[256,10]   │\n",
            "│         │        │                   │                   │                   │\n",
            "│         │        │                   │                   │ \u001b[1m824,458 \u001b[0m\u001b[1;2m(3.3 MB)\u001b[0m  │\n",
            "├─────────┼────────┼───────────────────┼───────────────────┼───────────────────┤\n",
            "│ Conv_0  │ Conv   │ \u001b[2mfloat32\u001b[0m[1,28,28,… │ \u001b[2mfloat32\u001b[0m[1,28,28,… │ bias: \u001b[2mfloat32\u001b[0m[32] │\n",
            "│         │        │                   │                   │ kernel:           │\n",
            "│         │        │                   │                   │ \u001b[2mfloat32\u001b[0m[3,3,1,32] │\n",
            "│         │        │                   │                   │                   │\n",
            "│         │        │                   │                   │ \u001b[1m320 \u001b[0m\u001b[1;2m(1.3 KB)\u001b[0m      │\n",
            "├─────────┼────────┼───────────────────┼───────────────────┼───────────────────┤\n",
            "│ Conv_1  │ Conv   │ \u001b[2mfloat32\u001b[0m[1,14,14,… │ \u001b[2mfloat32\u001b[0m[1,14,14,… │ bias: \u001b[2mfloat32\u001b[0m[64] │\n",
            "│         │        │                   │                   │ kernel:           │\n",
            "│         │        │                   │                   │ \u001b[2mfloat32\u001b[0m[3,3,32,6… │\n",
            "│         │        │                   │                   │                   │\n",
            "│         │        │                   │                   │ \u001b[1m18,496 \u001b[0m\u001b[1;2m(74.0 KB)\u001b[0m  │\n",
            "├─────────┼────────┼───────────────────┼───────────────────┼───────────────────┤\n",
            "│ Dense_0 │ Dense  │ \u001b[2mfloat32\u001b[0m[1,3136]   │ \u001b[2mfloat32\u001b[0m[1,256]    │ bias:             │\n",
            "│         │        │                   │                   │ \u001b[2mfloat32\u001b[0m[256]      │\n",
            "│         │        │                   │                   │ kernel:           │\n",
            "│         │        │                   │                   │ \u001b[2mfloat32\u001b[0m[3136,256] │\n",
            "│         │        │                   │                   │                   │\n",
            "│         │        │                   │                   │ \u001b[1m803,072 \u001b[0m\u001b[1;2m(3.2 MB)\u001b[0m  │\n",
            "├─────────┼────────┼───────────────────┼───────────────────┼───────────────────┤\n",
            "│ Dense_1 │ Dense  │ \u001b[2mfloat32\u001b[0m[1,256]    │ \u001b[2mfloat32\u001b[0m[1,10]     │ bias: \u001b[2mfloat32\u001b[0m[10] │\n",
            "│         │        │                   │                   │ kernel:           │\n",
            "│         │        │                   │                   │ \u001b[2mfloat32\u001b[0m[256,10]   │\n",
            "│         │        │                   │                   │                   │\n",
            "│         │        │                   │                   │ \u001b[1m2,570 \u001b[0m\u001b[1;2m(10.3 KB)\u001b[0m   │\n",
            "├─────────┼────────┼───────────────────┼───────────────────┼───────────────────┤\n",
            "│\u001b[1m \u001b[0m\u001b[1m       \u001b[0m\u001b[1m \u001b[0m│\u001b[1m \u001b[0m\u001b[1m      \u001b[0m\u001b[1m \u001b[0m│\u001b[1m \u001b[0m\u001b[1m                 \u001b[0m\u001b[1m \u001b[0m│\u001b[1m \u001b[0m\u001b[1m            Total\u001b[0m\u001b[1m \u001b[0m│\u001b[1m \u001b[0m\u001b[1m1,648,916 \u001b[0m\u001b[1;2m(6.6 \u001b[0m\u001b[1m  \u001b[0m\u001b[1m \u001b[0m│\n",
            "│\u001b[1m         \u001b[0m│\u001b[1m        \u001b[0m│\u001b[1m                   \u001b[0m│\u001b[1m                   \u001b[0m│\u001b[1m \u001b[0m\u001b[1;2mMB)\u001b[0m\u001b[1m              \u001b[0m\u001b[1m \u001b[0m│\n",
            "└─────────┴────────┴───────────────────┴───────────────────┴───────────────────┘\n",
            "\u001b[1m                                                                                \u001b[0m\n",
            "\u001b[1m                      Total Parameters: 1,648,916 \u001b[0m\u001b[1;2m(6.6 MB)\u001b[0m\u001b[1m                      \u001b[0m\n",
            "\n",
            "\n"
          ]
        }
      ]
    },
    {
      "cell_type": "code",
      "source": [
        "!pip install -q clu"
      ],
      "metadata": {
        "colab": {
          "base_uri": "https://localhost:8080/"
        },
        "id": "UfCLR5AiD3IN",
        "outputId": "94603099-1962-4ce4-ce3c-8c25c21a5b21"
      },
      "execution_count": null,
      "outputs": [
        {
          "output_type": "stream",
          "name": "stdout",
          "text": [
            "\u001b[?25l     \u001b[90m━━━━━━━━━━━━━━━━━━━━━━━━━━━━━━━━━━━━━━━━\u001b[0m \u001b[32m0.0/96.8 kB\u001b[0m \u001b[31m?\u001b[0m eta \u001b[36m-:--:--\u001b[0m\r\u001b[2K     \u001b[90m━━━━━━━━━━━━━━━━━━━━━━━━━━━━━━━━━━━━━━━━\u001b[0m \u001b[32m96.8/96.8 kB\u001b[0m \u001b[31m4.4 MB/s\u001b[0m eta \u001b[36m0:00:00\u001b[0m\n",
            "\u001b[?25h\u001b[33mWARNING: Running pip as the 'root' user can result in broken permissions and conflicting behaviour with the system package manager. It is recommended to use a virtual environment instead: https://pip.pypa.io/warnings/venv\u001b[0m\u001b[33m\n",
            "\u001b[0m"
          ]
        }
      ]
    },
    {
      "cell_type": "code",
      "source": [
        "from clu import metrics\n",
        "from flax.training import train_state  # Useful dataclass to keep train state\n",
        "from flax import struct                # Flax dataclasses\n",
        "import optax    "
      ],
      "metadata": {
        "id": "jOm0_2NCD8Ce"
      },
      "execution_count": null,
      "outputs": []
    },
    {
      "cell_type": "code",
      "source": [
        "@struct.dataclass\n",
        "class Metrics(metrics.Collection):\n",
        "  accuracy: metrics.Accuracy\n",
        "  loss: metrics.Average.from_output('loss')"
      ],
      "metadata": {
        "id": "ziwQQIihEPYO"
      },
      "execution_count": null,
      "outputs": []
    },
    {
      "cell_type": "code",
      "source": [
        "class TrainState(train_state.TrainState):\n",
        "  metrics: Metrics\n",
        "\n",
        "def create_train_state(module, rng, learning_rate, momentum):\n",
        "  \"\"\"Creates an initial `TrainState`.\"\"\"\n",
        "  params = module.init(rng, jnp.ones([1, 28, 28, 1]))['params'] # initialize parameters by passing a template image\n",
        "  tx = optax.sgd(learning_rate, momentum)\n",
        "  return TrainState.create(\n",
        "      apply_fn=module.apply, params=params, tx=tx,\n",
        "      metrics=Metrics.empty())"
      ],
      "metadata": {
        "id": "2P0vwdJmEXF5"
      },
      "execution_count": null,
      "outputs": []
    },
    {
      "cell_type": "code",
      "source": [
        "@jax.jit\n",
        "def train_step(state, batch):\n",
        "  \"\"\"Train for a single step.\"\"\"\n",
        "  def loss_fn(params):\n",
        "    logits = state.apply_fn({'params': params}, batch['image'])\n",
        "    loss = optax.softmax_cross_entropy_with_integer_labels(\n",
        "        logits=logits, labels=batch['label']).mean()\n",
        "    return loss\n",
        "  grad_fn = jax.grad(loss_fn)\n",
        "  grads = grad_fn(state.params)\n",
        "  state = state.apply_gradients(grads=grads)\n",
        "  return state"
      ],
      "metadata": {
        "id": "FgYDhC0gEZ0_"
      },
      "execution_count": null,
      "outputs": []
    },
    {
      "cell_type": "code",
      "source": [
        "@jax.jit\n",
        "def compute_metrics(*, state, batch):\n",
        "  logits = state.apply_fn({'params': state.params}, batch['image'])\n",
        "  loss = optax.softmax_cross_entropy_with_integer_labels(\n",
        "        logits=logits, labels=batch['label']).mean()\n",
        "  metric_updates = state.metrics.single_from_model_output(\n",
        "    logits=logits, labels=batch['label'], loss=loss)\n",
        "  metrics = state.metrics.merge(metric_updates)\n",
        "  state = state.replace(metrics=metrics)\n",
        "  return state"
      ],
      "metadata": {
        "id": "t_-ICIcOEhvi"
      },
      "execution_count": null,
      "outputs": []
    },
    {
      "cell_type": "code",
      "source": [
        "num_epochs = 10\n",
        "batch_size = 32\n",
        "\n",
        "train_ds, test_ds = get_datasets(num_epochs, batch_size)"
      ],
      "metadata": {
        "colab": {
          "base_uri": "https://localhost:8080/"
        },
        "id": "YWMUu96pEy1S",
        "outputId": "147bcdbb-b87e-47a8-92aa-9bdd277ee8d2"
      },
      "execution_count": null,
      "outputs": [
        {
          "output_type": "stream",
          "name": "stderr",
          "text": [
            "INFO:absl:Load dataset info from /root/tensorflow_datasets/mnist/3.0.1\n",
            "INFO:absl:Fields info.[citation, splits, supervised_keys, module_name] from disk and from code do not match. Keeping the one from code.\n",
            "INFO:absl:Reusing dataset mnist (/root/tensorflow_datasets/mnist/3.0.1)\n",
            "INFO:absl:Constructing tf.data.Dataset mnist for split train, from /root/tensorflow_datasets/mnist/3.0.1\n",
            "INFO:absl:Load dataset info from /root/tensorflow_datasets/mnist/3.0.1\n",
            "INFO:absl:Fields info.[citation, splits, supervised_keys, module_name] from disk and from code do not match. Keeping the one from code.\n",
            "INFO:absl:Reusing dataset mnist (/root/tensorflow_datasets/mnist/3.0.1)\n",
            "INFO:absl:Constructing tf.data.Dataset mnist for split test, from /root/tensorflow_datasets/mnist/3.0.1\n",
            "WARNING:tensorflow:From /usr/local/lib/python3.9/dist-packages/tensorflow/python/autograph/pyct/static_analysis/liveness.py:83: Analyzer.lamba_check (from tensorflow.python.autograph.pyct.static_analysis.liveness) is deprecated and will be removed after 2023-09-23.\n",
            "Instructions for updating:\n",
            "Lambda fuctions will be no more assumed to be used in the statement where they are used, or at least in the same block. https://github.com/tensorflow/tensorflow/issues/56089\n"
          ]
        }
      ]
    },
    {
      "cell_type": "code",
      "source": [
        "tf.random.set_seed(0)\n",
        "init_rng = jax.random.PRNGKey(0)"
      ],
      "metadata": {
        "id": "O06OayNcEzOW"
      },
      "execution_count": null,
      "outputs": []
    },
    {
      "cell_type": "code",
      "source": [
        "learning_rate = 0.01\n",
        "momentum = 0.9"
      ],
      "metadata": {
        "id": "_r6_X-oSE4sv"
      },
      "execution_count": null,
      "outputs": []
    },
    {
      "cell_type": "code",
      "source": [
        "state = create_train_state(cnn, init_rng, learning_rate, momentum)\n",
        "del init_rng  # Must not be used anymore."
      ],
      "metadata": {
        "id": "wr-MGDotE7Nr"
      },
      "execution_count": null,
      "outputs": []
    },
    {
      "cell_type": "code",
      "source": [
        "num_steps_per_epoch = train_ds.cardinality().numpy() // num_epochs"
      ],
      "metadata": {
        "id": "0_gQcerKE-RM"
      },
      "execution_count": null,
      "outputs": []
    },
    {
      "cell_type": "code",
      "source": [
        "metrics_history = {'train_loss': [],\n",
        "                   'train_accuracy': [],\n",
        "                   'test_loss': [],\n",
        "                   'test_accuracy': []}"
      ],
      "metadata": {
        "id": "S1rCXSWfFBSy"
      },
      "execution_count": null,
      "outputs": []
    },
    {
      "cell_type": "code",
      "source": [
        "for step,batch in enumerate(train_ds.as_numpy_iterator()):\n",
        "\n",
        "  # Run optimization steps over training batches and compute batch metrics\n",
        "  state = train_step(state, batch) # get updated train state (which contains the updated parameters)\n",
        "  state = compute_metrics(state=state, batch=batch) # aggregate batch metrics\n",
        "\n",
        "  if (step+1) % num_steps_per_epoch == 0: # one training epoch has passed\n",
        "    for metric,value in state.metrics.compute().items(): # compute metrics\n",
        "      metrics_history[f'train_{metric}'].append(value) # record metrics\n",
        "    state = state.replace(metrics=state.metrics.empty()) # reset train_metrics for next training epoch\n",
        "\n",
        "    # Compute metrics on the test set after each training epoch\n",
        "    test_state = state\n",
        "    for test_batch in test_ds.as_numpy_iterator():\n",
        "      test_state = compute_metrics(state=test_state, batch=test_batch)\n",
        "\n",
        "    for metric,value in test_state.metrics.compute().items():\n",
        "      metrics_history[f'test_{metric}'].append(value)\n",
        "\n",
        "    print(f\"train epoch: {(step+1) // num_steps_per_epoch}, \"\n",
        "          f\"loss: {metrics_history['train_loss'][-1]}, \"\n",
        "          f\"accuracy: {metrics_history['train_accuracy'][-1] * 100}\")\n",
        "    print(f\"test epoch: {(step+1) // num_steps_per_epoch}, \"\n",
        "          f\"loss: {metrics_history['test_loss'][-1]}, \"\n",
        "          f\"accuracy: {metrics_history['test_accuracy'][-1] * 100}\")"
      ],
      "metadata": {
        "colab": {
          "base_uri": "https://localhost:8080/"
        },
        "id": "XlmvTDfxFDqL",
        "outputId": "1a68d347-4c07-41f9-f0c2-53f868e2a846"
      },
      "execution_count": null,
      "outputs": [
        {
          "output_type": "stream",
          "name": "stdout",
          "text": [
            "train epoch: 1, loss: 0.20328359305858612, accuracy: 93.89167022705078\n",
            "test epoch: 1, loss: 0.09214771538972855, accuracy: 96.85496520996094\n",
            "train epoch: 2, loss: 0.05933733284473419, accuracy: 98.211669921875\n",
            "test epoch: 2, loss: 0.05388956144452095, accuracy: 98.37740325927734\n",
            "train epoch: 3, loss: 0.038979422301054, accuracy: 98.92666625976562\n",
            "test epoch: 3, loss: 0.04254426434636116, accuracy: 98.70793151855469\n",
            "train epoch: 4, loss: 0.02964738756418228, accuracy: 99.11666870117188\n",
            "test epoch: 4, loss: 0.03969377651810646, accuracy: 98.76802825927734\n",
            "train epoch: 5, loss: 0.02272186055779457, accuracy: 99.34500122070312\n",
            "test epoch: 5, loss: 0.035254813730716705, accuracy: 98.91827392578125\n",
            "train epoch: 6, loss: 0.01826229877769947, accuracy: 99.50167083740234\n",
            "test epoch: 6, loss: 0.03341476991772652, accuracy: 98.87820434570312\n",
            "train epoch: 7, loss: 0.01412136573344469, accuracy: 99.61666870117188\n",
            "test epoch: 7, loss: 0.032658033072948456, accuracy: 99.0284423828125\n",
            "train epoch: 8, loss: 0.01141164731234312, accuracy: 99.72833251953125\n",
            "test epoch: 8, loss: 0.0412619411945343, accuracy: 98.7880630493164\n",
            "train epoch: 9, loss: 0.008938378654420376, accuracy: 99.77833557128906\n",
            "test epoch: 9, loss: 0.03336724266409874, accuracy: 98.99839782714844\n",
            "train epoch: 10, loss: 0.0076217870227992535, accuracy: 99.83167266845703\n",
            "test epoch: 10, loss: 0.03453589975833893, accuracy: 98.99839782714844\n"
          ]
        }
      ]
    },
    {
      "cell_type": "code",
      "source": [
        "import matplotlib.pyplot as plt  # Visualization\n",
        "\n",
        "# Plot loss and accuracy in subplots\n",
        "fig, (ax1, ax2) = plt.subplots(1, 2, figsize=(15, 5))\n",
        "ax1.set_title('Loss')\n",
        "ax2.set_title('Accuracy')\n",
        "for dataset in ('train','test'):\n",
        "  ax1.plot(metrics_history[f'{dataset}_loss'], label=f'{dataset}_loss')\n",
        "  ax2.plot(metrics_history[f'{dataset}_accuracy'], label=f'{dataset}_accuracy')\n",
        "ax1.legend()\n",
        "ax2.legend()\n",
        "plt.show()\n",
        "plt.clf()"
      ],
      "metadata": {
        "colab": {
          "base_uri": "https://localhost:8080/",
          "height": 353
        },
        "id": "rjCTNeinFGEF",
        "outputId": "3c850d0d-1c44-47c9-ad99-b168e737ece3"
      },
      "execution_count": null,
      "outputs": [
        {
          "output_type": "display_data",
          "data": {
            "text/plain": [
              "<Figure size 1080x360 with 2 Axes>"
            ],
            "image/png": "[encoded data removed]"
          },
          "metadata": {
            "needs_background": "light"
          }
        },
        {
          "output_type": "display_data",
          "data": {
            "text/plain": [
              "<Figure size 432x288 with 0 Axes>"
            ]
          },
          "metadata": {}
        }
      ]
    },
    {
      "cell_type": "code",
      "source": [
        "@jax.jit\n",
        "def pred_step(state, batch):\n",
        "  logits = state.apply_fn({'params': state.params}, test_batch['image'])\n",
        "  return logits.argmax(axis=1)\n",
        "\n",
        "test_batch = test_ds.as_numpy_iterator().next()\n",
        "pred = pred_step(state, test_batch)"
      ],
      "metadata": {
        "id": "-2Vxjhg0FRHP"
      },
      "execution_count": null,
      "outputs": []
    },
    {
      "cell_type": "code",
      "source": [
        "fig, axs = plt.subplots(5, 5, figsize=(12, 12))\n",
        "for i, ax in enumerate(axs.flatten()):\n",
        "    ax.imshow(test_batch['image'][i, ..., 0], cmap='gray')\n",
        "    ax.set_title(f\"label={pred[i]}\")\n",
        "    ax.axis('off')"
      ],
      "metadata": {
        "colab": {
          "base_uri": "https://localhost:8080/",
          "height": 699
        },
        "id": "R6FmzrTBFUNR",
        "outputId": "cc1ce083-7296-4f9f-f17e-5116fe17b071"
      },
      "execution_count": null,
      "outputs": [
        {
          "output_type": "display_data",
          "data": {
            "text/plain": [
              "<Figure size 864x864 with 25 Axes>"
            ],
            "image/png": "[encoded data removed]"
          },
          "metadata": {
            "needs_background": "light"
          }
        }
      ]
    },
    {
      "cell_type": "code",
      "source": [],
      "metadata": {
        "id": "IRTPDxZ3FXLy"
      },
      "execution_count": null,
      "outputs": []
    }
  ],
  "metadata": {
    "accelerator": "GPU",
    "colab": {
      "machine_shape": "hm",
      "provenance": []
    },
    "gpuClass": "premium",
    "kernelspec": {
      "display_name": "Python 3",
      "name": "python3"
    },
    "language_info": {
      "name": "python"
    }
  },
  "nbformat": 4,
  "nbformat_minor": 0
}